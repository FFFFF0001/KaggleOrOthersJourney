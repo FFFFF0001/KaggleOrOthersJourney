{
 "cells": [
  {
   "cell_type": "code",
   "execution_count": 1,
   "metadata": {
    "collapsed": true
   },
   "outputs": [],
   "source": [
    "import pandas as pd"
   ]
  },
  {
   "cell_type": "code",
   "execution_count": 2,
   "metadata": {
    "collapsed": true
   },
   "outputs": [],
   "source": [
    "wifi_info = pd.read_csv(\"../data/ccf_first_round_user_shop_behavior.csv\")"
   ]
  },
  {
   "cell_type": "code",
   "execution_count": 3,
   "metadata": {},
   "outputs": [
    {
     "data": {
      "text/html": [
       "<div>\n",
       "<style>\n",
       "    .dataframe thead tr:only-child th {\n",
       "        text-align: right;\n",
       "    }\n",
       "\n",
       "    .dataframe thead th {\n",
       "        text-align: left;\n",
       "    }\n",
       "\n",
       "    .dataframe tbody tr th {\n",
       "        vertical-align: top;\n",
       "    }\n",
       "</style>\n",
       "<table border=\"1\" class=\"dataframe\">\n",
       "  <thead>\n",
       "    <tr style=\"text-align: right;\">\n",
       "      <th></th>\n",
       "      <th>user_id</th>\n",
       "      <th>shop_id</th>\n",
       "      <th>time_stamp</th>\n",
       "      <th>longitude</th>\n",
       "      <th>latitude</th>\n",
       "      <th>wifi_infos</th>\n",
       "    </tr>\n",
       "  </thead>\n",
       "  <tbody>\n",
       "    <tr>\n",
       "      <th>0</th>\n",
       "      <td>u_376</td>\n",
       "      <td>s_2871718</td>\n",
       "      <td>2017-08-06 21:20</td>\n",
       "      <td>122.308291</td>\n",
       "      <td>32.088040</td>\n",
       "      <td>b_6396480|-67|false;b_41124514|-86|false;b_287...</td>\n",
       "    </tr>\n",
       "    <tr>\n",
       "      <th>1</th>\n",
       "      <td>u_376</td>\n",
       "      <td>s_2871718</td>\n",
       "      <td>2017-08-06 21:20</td>\n",
       "      <td>122.308162</td>\n",
       "      <td>32.087970</td>\n",
       "      <td>b_6396480|-67|false;b_56328155|-73|false;b_411...</td>\n",
       "    </tr>\n",
       "    <tr>\n",
       "      <th>2</th>\n",
       "      <td>u_1041</td>\n",
       "      <td>s_181637</td>\n",
       "      <td>2017-08-02 13:10</td>\n",
       "      <td>117.365255</td>\n",
       "      <td>40.638214</td>\n",
       "      <td>b_8006367|-78|false;b_2485110|-52|false;b_3005...</td>\n",
       "    </tr>\n",
       "    <tr>\n",
       "      <th>3</th>\n",
       "      <td>u_1158</td>\n",
       "      <td>s_609470</td>\n",
       "      <td>2017-08-13 12:30</td>\n",
       "      <td>121.134451</td>\n",
       "      <td>31.197416</td>\n",
       "      <td>b_26250579|-73|false;b_26250580|-64|false;b_26...</td>\n",
       "    </tr>\n",
       "    <tr>\n",
       "      <th>4</th>\n",
       "      <td>u_1654</td>\n",
       "      <td>s_3816766</td>\n",
       "      <td>2017-08-25 19:50</td>\n",
       "      <td>122.255867</td>\n",
       "      <td>31.351320</td>\n",
       "      <td>b_39004150|-66|false;b_39004148|-58|false;b_21...</td>\n",
       "    </tr>\n",
       "  </tbody>\n",
       "</table>\n",
       "</div>"
      ],
      "text/plain": [
       "  user_id    shop_id        time_stamp   longitude   latitude  \\\n",
       "0   u_376  s_2871718  2017-08-06 21:20  122.308291  32.088040   \n",
       "1   u_376  s_2871718  2017-08-06 21:20  122.308162  32.087970   \n",
       "2  u_1041   s_181637  2017-08-02 13:10  117.365255  40.638214   \n",
       "3  u_1158   s_609470  2017-08-13 12:30  121.134451  31.197416   \n",
       "4  u_1654  s_3816766  2017-08-25 19:50  122.255867  31.351320   \n",
       "\n",
       "                                          wifi_infos  \n",
       "0  b_6396480|-67|false;b_41124514|-86|false;b_287...  \n",
       "1  b_6396480|-67|false;b_56328155|-73|false;b_411...  \n",
       "2  b_8006367|-78|false;b_2485110|-52|false;b_3005...  \n",
       "3  b_26250579|-73|false;b_26250580|-64|false;b_26...  \n",
       "4  b_39004150|-66|false;b_39004148|-58|false;b_21...  "
      ]
     },
     "execution_count": 3,
     "metadata": {},
     "output_type": "execute_result"
    }
   ],
   "source": [
    "wifi_info.head()"
   ]
  },
  {
   "cell_type": "code",
   "execution_count": 4,
   "metadata": {},
   "outputs": [
    {
     "data": {
      "text/plain": [
       "(1138015, 6)"
      ]
     },
     "execution_count": 4,
     "metadata": {},
     "output_type": "execute_result"
    }
   ],
   "source": [
    "wifi_info.shape"
   ]
  },
  {
   "cell_type": "code",
   "execution_count": 5,
   "metadata": {
    "collapsed": true
   },
   "outputs": [],
   "source": [
    "wifi_infos = wifi_info[\"wifi_infos\"]"
   ]
  },
  {
   "cell_type": "code",
   "execution_count": 6,
   "metadata": {},
   "outputs": [
    {
     "data": {
      "text/plain": [
       "'b_6396480|-67|false;b_41124514|-86|false;b_28723327|-90|false;b_6396479|-55|false;b_8764723|-90|false;b_32053319|-74|false;b_5857370|-68|false;b_56326644|-89|false;b_56328155|-77|false;b_5857369|-55|false'"
      ]
     },
     "execution_count": 6,
     "metadata": {},
     "output_type": "execute_result"
    }
   ],
   "source": [
    "wifi_infos[0]"
   ]
  },
  {
   "cell_type": "code",
   "execution_count": 7,
   "metadata": {
    "collapsed": true
   },
   "outputs": [],
   "source": [
    "wifi = wifi_infos[0]"
   ]
  },
  {
   "cell_type": "code",
   "execution_count": 8,
   "metadata": {
    "collapsed": true
   },
   "outputs": [],
   "source": [
    "wifi_list = wifi.split(\";\")"
   ]
  },
  {
   "cell_type": "code",
   "execution_count": 9,
   "metadata": {},
   "outputs": [
    {
     "data": {
      "text/plain": [
       "['b_6396480|-67|false',\n",
       " 'b_41124514|-86|false',\n",
       " 'b_28723327|-90|false',\n",
       " 'b_6396479|-55|false',\n",
       " 'b_8764723|-90|false',\n",
       " 'b_32053319|-74|false',\n",
       " 'b_5857370|-68|false',\n",
       " 'b_56326644|-89|false',\n",
       " 'b_56328155|-77|false',\n",
       " 'b_5857369|-55|false']"
      ]
     },
     "execution_count": 9,
     "metadata": {},
     "output_type": "execute_result"
    }
   ],
   "source": [
    "wifi_list"
   ]
  },
  {
   "cell_type": "code",
   "execution_count": 10,
   "metadata": {
    "collapsed": true
   },
   "outputs": [],
   "source": [
    "# 把WiFi信息切分\n",
    "def wifi_split(wifi_list):\n",
    "    for wifi in wifi_list:\n",
    "        wifi_dict = {}\n",
    "        info = wifi.split(\"|\")\n",
    "        ssid = info[0]\n",
    "        signal = info[1]\n",
    "        is_connect = info[2]\n",
    "        wifi_dict[\"ssid\"] =  ssid\n",
    "        wifi_dict[\"signal\"] = signal\n",
    "        wifi_dict[\"is_connect\"] = is_connect\n",
    "        print(wifi_dict)\n",
    "        return wifi_dict"
   ]
  },
  {
   "cell_type": "code",
   "execution_count": 11,
   "metadata": {
    "collapsed": true
   },
   "outputs": [],
   "source": [
    "shaop_info = pd.read_csv(\"../data/ccf_first_round_shop_info.csv\")"
   ]
  },
  {
   "cell_type": "code",
   "execution_count": 12,
   "metadata": {
    "collapsed": true
   },
   "outputs": [],
   "source": [
    "shop_info = shaop_info"
   ]
  },
  {
   "cell_type": "code",
   "execution_count": 13,
   "metadata": {},
   "outputs": [
    {
     "data": {
      "text/plain": [
       "(8477, 6)"
      ]
     },
     "execution_count": 13,
     "metadata": {},
     "output_type": "execute_result"
    }
   ],
   "source": [
    "shop_info.shape"
   ]
  },
  {
   "cell_type": "code",
   "execution_count": 14,
   "metadata": {},
   "outputs": [
    {
     "data": {
      "text/html": [
       "<div>\n",
       "<style>\n",
       "    .dataframe thead tr:only-child th {\n",
       "        text-align: right;\n",
       "    }\n",
       "\n",
       "    .dataframe thead th {\n",
       "        text-align: left;\n",
       "    }\n",
       "\n",
       "    .dataframe tbody tr th {\n",
       "        vertical-align: top;\n",
       "    }\n",
       "</style>\n",
       "<table border=\"1\" class=\"dataframe\">\n",
       "  <thead>\n",
       "    <tr style=\"text-align: right;\">\n",
       "      <th></th>\n",
       "      <th>shop_id</th>\n",
       "      <th>category_id</th>\n",
       "      <th>longitude</th>\n",
       "      <th>latitude</th>\n",
       "      <th>price</th>\n",
       "      <th>mall_id</th>\n",
       "    </tr>\n",
       "  </thead>\n",
       "  <tbody>\n",
       "    <tr>\n",
       "      <th>0</th>\n",
       "      <td>s_26</td>\n",
       "      <td>c_4</td>\n",
       "      <td>122.346736</td>\n",
       "      <td>31.833507</td>\n",
       "      <td>57</td>\n",
       "      <td>m_690</td>\n",
       "    </tr>\n",
       "    <tr>\n",
       "      <th>1</th>\n",
       "      <td>s_133</td>\n",
       "      <td>c_6</td>\n",
       "      <td>121.134362</td>\n",
       "      <td>31.197511</td>\n",
       "      <td>58</td>\n",
       "      <td>m_6587</td>\n",
       "    </tr>\n",
       "    <tr>\n",
       "      <th>2</th>\n",
       "      <td>s_251</td>\n",
       "      <td>c_38</td>\n",
       "      <td>121.000505</td>\n",
       "      <td>30.907667</td>\n",
       "      <td>34</td>\n",
       "      <td>m_5892</td>\n",
       "    </tr>\n",
       "    <tr>\n",
       "      <th>3</th>\n",
       "      <td>s_372</td>\n",
       "      <td>c_30</td>\n",
       "      <td>119.864982</td>\n",
       "      <td>26.659876</td>\n",
       "      <td>44</td>\n",
       "      <td>m_625</td>\n",
       "    </tr>\n",
       "    <tr>\n",
       "      <th>4</th>\n",
       "      <td>s_456</td>\n",
       "      <td>c_26</td>\n",
       "      <td>122.594243</td>\n",
       "      <td>31.581499</td>\n",
       "      <td>44</td>\n",
       "      <td>m_3839</td>\n",
       "    </tr>\n",
       "    <tr>\n",
       "      <th>5</th>\n",
       "      <td>s_462</td>\n",
       "      <td>c_47</td>\n",
       "      <td>115.088969</td>\n",
       "      <td>30.690787</td>\n",
       "      <td>58</td>\n",
       "      <td>m_3739</td>\n",
       "    </tr>\n",
       "    <tr>\n",
       "      <th>6</th>\n",
       "      <td>s_469</td>\n",
       "      <td>c_50</td>\n",
       "      <td>121.963123</td>\n",
       "      <td>31.652801</td>\n",
       "      <td>64</td>\n",
       "      <td>m_1293</td>\n",
       "    </tr>\n",
       "    <tr>\n",
       "      <th>7</th>\n",
       "      <td>s_496</td>\n",
       "      <td>c_47</td>\n",
       "      <td>120.746132</td>\n",
       "      <td>30.815237</td>\n",
       "      <td>62</td>\n",
       "      <td>m_1175</td>\n",
       "    </tr>\n",
       "    <tr>\n",
       "      <th>8</th>\n",
       "      <td>s_729</td>\n",
       "      <td>c_6</td>\n",
       "      <td>119.326859</td>\n",
       "      <td>32.644347</td>\n",
       "      <td>58</td>\n",
       "      <td>m_2182</td>\n",
       "    </tr>\n",
       "    <tr>\n",
       "      <th>9</th>\n",
       "      <td>s_775</td>\n",
       "      <td>c_26</td>\n",
       "      <td>121.000467</td>\n",
       "      <td>30.908378</td>\n",
       "      <td>44</td>\n",
       "      <td>m_5892</td>\n",
       "    </tr>\n",
       "  </tbody>\n",
       "</table>\n",
       "</div>"
      ],
      "text/plain": [
       "  shop_id category_id   longitude   latitude  price mall_id\n",
       "0    s_26         c_4  122.346736  31.833507     57   m_690\n",
       "1   s_133         c_6  121.134362  31.197511     58  m_6587\n",
       "2   s_251        c_38  121.000505  30.907667     34  m_5892\n",
       "3   s_372        c_30  119.864982  26.659876     44   m_625\n",
       "4   s_456        c_26  122.594243  31.581499     44  m_3839\n",
       "5   s_462        c_47  115.088969  30.690787     58  m_3739\n",
       "6   s_469        c_50  121.963123  31.652801     64  m_1293\n",
       "7   s_496        c_47  120.746132  30.815237     62  m_1175\n",
       "8   s_729         c_6  119.326859  32.644347     58  m_2182\n",
       "9   s_775        c_26  121.000467  30.908378     44  m_5892"
      ]
     },
     "execution_count": 14,
     "metadata": {},
     "output_type": "execute_result"
    }
   ],
   "source": [
    "shop_info.head(10)"
   ]
  },
  {
   "cell_type": "code",
   "execution_count": 15,
   "metadata": {
    "collapsed": true
   },
   "outputs": [],
   "source": [
    "shop_info = shop_info.rename(columns={\"latitude\" : \"latitude_shop\", \"longitude\" : \"longitude_shop\"})"
   ]
  },
  {
   "cell_type": "code",
   "execution_count": 16,
   "metadata": {},
   "outputs": [
    {
     "data": {
      "text/html": [
       "<div>\n",
       "<style>\n",
       "    .dataframe thead tr:only-child th {\n",
       "        text-align: right;\n",
       "    }\n",
       "\n",
       "    .dataframe thead th {\n",
       "        text-align: left;\n",
       "    }\n",
       "\n",
       "    .dataframe tbody tr th {\n",
       "        vertical-align: top;\n",
       "    }\n",
       "</style>\n",
       "<table border=\"1\" class=\"dataframe\">\n",
       "  <thead>\n",
       "    <tr style=\"text-align: right;\">\n",
       "      <th></th>\n",
       "      <th>shop_id</th>\n",
       "      <th>category_id</th>\n",
       "      <th>longitude_shop</th>\n",
       "      <th>latitude_shop</th>\n",
       "      <th>price</th>\n",
       "      <th>mall_id</th>\n",
       "    </tr>\n",
       "  </thead>\n",
       "  <tbody>\n",
       "    <tr>\n",
       "      <th>0</th>\n",
       "      <td>s_26</td>\n",
       "      <td>c_4</td>\n",
       "      <td>122.346736</td>\n",
       "      <td>31.833507</td>\n",
       "      <td>57</td>\n",
       "      <td>m_690</td>\n",
       "    </tr>\n",
       "    <tr>\n",
       "      <th>1</th>\n",
       "      <td>s_133</td>\n",
       "      <td>c_6</td>\n",
       "      <td>121.134362</td>\n",
       "      <td>31.197511</td>\n",
       "      <td>58</td>\n",
       "      <td>m_6587</td>\n",
       "    </tr>\n",
       "    <tr>\n",
       "      <th>2</th>\n",
       "      <td>s_251</td>\n",
       "      <td>c_38</td>\n",
       "      <td>121.000505</td>\n",
       "      <td>30.907667</td>\n",
       "      <td>34</td>\n",
       "      <td>m_5892</td>\n",
       "    </tr>\n",
       "    <tr>\n",
       "      <th>3</th>\n",
       "      <td>s_372</td>\n",
       "      <td>c_30</td>\n",
       "      <td>119.864982</td>\n",
       "      <td>26.659876</td>\n",
       "      <td>44</td>\n",
       "      <td>m_625</td>\n",
       "    </tr>\n",
       "    <tr>\n",
       "      <th>4</th>\n",
       "      <td>s_456</td>\n",
       "      <td>c_26</td>\n",
       "      <td>122.594243</td>\n",
       "      <td>31.581499</td>\n",
       "      <td>44</td>\n",
       "      <td>m_3839</td>\n",
       "    </tr>\n",
       "  </tbody>\n",
       "</table>\n",
       "</div>"
      ],
      "text/plain": [
       "  shop_id category_id  longitude_shop  latitude_shop  price mall_id\n",
       "0    s_26         c_4      122.346736      31.833507     57   m_690\n",
       "1   s_133         c_6      121.134362      31.197511     58  m_6587\n",
       "2   s_251        c_38      121.000505      30.907667     34  m_5892\n",
       "3   s_372        c_30      119.864982      26.659876     44   m_625\n",
       "4   s_456        c_26      122.594243      31.581499     44  m_3839"
      ]
     },
     "execution_count": 16,
     "metadata": {},
     "output_type": "execute_result"
    }
   ],
   "source": [
    "shop_info.head()"
   ]
  },
  {
   "cell_type": "code",
   "execution_count": 17,
   "metadata": {
    "collapsed": true
   },
   "outputs": [],
   "source": [
    "user_behavior = pd.read_csv(\"../data/ccf_first_round_user_shop_behavior.csv\")"
   ]
  },
  {
   "cell_type": "code",
   "execution_count": 18,
   "metadata": {
    "collapsed": true
   },
   "outputs": [],
   "source": [
    "del user_behavior"
   ]
  },
  {
   "cell_type": "code",
   "execution_count": 19,
   "metadata": {
    "collapsed": true
   },
   "outputs": [],
   "source": [
    "user_behavior = wifi_info"
   ]
  },
  {
   "cell_type": "code",
   "execution_count": 20,
   "metadata": {
    "collapsed": true
   },
   "outputs": [],
   "source": [
    "user_behavior = pd.merge(user_behavior, shop_info, on=[\"shop_id\"], how=\"left\")"
   ]
  },
  {
   "cell_type": "code",
   "execution_count": 21,
   "metadata": {},
   "outputs": [
    {
     "data": {
      "text/plain": [
       "(1138015, 11)"
      ]
     },
     "execution_count": 21,
     "metadata": {},
     "output_type": "execute_result"
    }
   ],
   "source": [
    "user_behavior.shape"
   ]
  },
  {
   "cell_type": "code",
   "execution_count": 22,
   "metadata": {},
   "outputs": [
    {
     "data": {
      "text/plain": [
       "(1138015, 6)"
      ]
     },
     "execution_count": 22,
     "metadata": {},
     "output_type": "execute_result"
    }
   ],
   "source": [
    "wifi_info.shape"
   ]
  },
  {
   "cell_type": "code",
   "execution_count": 23,
   "metadata": {},
   "outputs": [
    {
     "data": {
      "text/html": [
       "<div>\n",
       "<style>\n",
       "    .dataframe thead tr:only-child th {\n",
       "        text-align: right;\n",
       "    }\n",
       "\n",
       "    .dataframe thead th {\n",
       "        text-align: left;\n",
       "    }\n",
       "\n",
       "    .dataframe tbody tr th {\n",
       "        vertical-align: top;\n",
       "    }\n",
       "</style>\n",
       "<table border=\"1\" class=\"dataframe\">\n",
       "  <thead>\n",
       "    <tr style=\"text-align: right;\">\n",
       "      <th></th>\n",
       "      <th>user_id</th>\n",
       "      <th>shop_id</th>\n",
       "      <th>time_stamp</th>\n",
       "      <th>longitude</th>\n",
       "      <th>latitude</th>\n",
       "      <th>wifi_infos</th>\n",
       "      <th>category_id</th>\n",
       "      <th>longitude_shop</th>\n",
       "      <th>latitude_shop</th>\n",
       "      <th>price</th>\n",
       "      <th>mall_id</th>\n",
       "    </tr>\n",
       "  </thead>\n",
       "  <tbody>\n",
       "    <tr>\n",
       "      <th>0</th>\n",
       "      <td>u_376</td>\n",
       "      <td>s_2871718</td>\n",
       "      <td>2017-08-06 21:20</td>\n",
       "      <td>122.308291</td>\n",
       "      <td>32.088040</td>\n",
       "      <td>b_6396480|-67|false;b_41124514|-86|false;b_287...</td>\n",
       "      <td>c_38</td>\n",
       "      <td>122.308782</td>\n",
       "      <td>32.087894</td>\n",
       "      <td>42</td>\n",
       "      <td>m_1409</td>\n",
       "    </tr>\n",
       "    <tr>\n",
       "      <th>1</th>\n",
       "      <td>u_376</td>\n",
       "      <td>s_2871718</td>\n",
       "      <td>2017-08-06 21:20</td>\n",
       "      <td>122.308162</td>\n",
       "      <td>32.087970</td>\n",
       "      <td>b_6396480|-67|false;b_56328155|-73|false;b_411...</td>\n",
       "      <td>c_38</td>\n",
       "      <td>122.308782</td>\n",
       "      <td>32.087894</td>\n",
       "      <td>42</td>\n",
       "      <td>m_1409</td>\n",
       "    </tr>\n",
       "    <tr>\n",
       "      <th>2</th>\n",
       "      <td>u_1041</td>\n",
       "      <td>s_181637</td>\n",
       "      <td>2017-08-02 13:10</td>\n",
       "      <td>117.365255</td>\n",
       "      <td>40.638214</td>\n",
       "      <td>b_8006367|-78|false;b_2485110|-52|false;b_3005...</td>\n",
       "      <td>c_30</td>\n",
       "      <td>117.365996</td>\n",
       "      <td>40.638634</td>\n",
       "      <td>40</td>\n",
       "      <td>m_4079</td>\n",
       "    </tr>\n",
       "    <tr>\n",
       "      <th>3</th>\n",
       "      <td>u_1158</td>\n",
       "      <td>s_609470</td>\n",
       "      <td>2017-08-13 12:30</td>\n",
       "      <td>121.134451</td>\n",
       "      <td>31.197416</td>\n",
       "      <td>b_26250579|-73|false;b_26250580|-64|false;b_26...</td>\n",
       "      <td>c_27</td>\n",
       "      <td>121.134561</td>\n",
       "      <td>31.197322</td>\n",
       "      <td>49</td>\n",
       "      <td>m_6587</td>\n",
       "    </tr>\n",
       "    <tr>\n",
       "      <th>4</th>\n",
       "      <td>u_1654</td>\n",
       "      <td>s_3816766</td>\n",
       "      <td>2017-08-25 19:50</td>\n",
       "      <td>122.255867</td>\n",
       "      <td>31.351320</td>\n",
       "      <td>b_39004150|-66|false;b_39004148|-58|false;b_21...</td>\n",
       "      <td>c_6</td>\n",
       "      <td>122.255616</td>\n",
       "      <td>31.351461</td>\n",
       "      <td>62</td>\n",
       "      <td>m_3005</td>\n",
       "    </tr>\n",
       "  </tbody>\n",
       "</table>\n",
       "</div>"
      ],
      "text/plain": [
       "  user_id    shop_id        time_stamp   longitude   latitude  \\\n",
       "0   u_376  s_2871718  2017-08-06 21:20  122.308291  32.088040   \n",
       "1   u_376  s_2871718  2017-08-06 21:20  122.308162  32.087970   \n",
       "2  u_1041   s_181637  2017-08-02 13:10  117.365255  40.638214   \n",
       "3  u_1158   s_609470  2017-08-13 12:30  121.134451  31.197416   \n",
       "4  u_1654  s_3816766  2017-08-25 19:50  122.255867  31.351320   \n",
       "\n",
       "                                          wifi_infos category_id  \\\n",
       "0  b_6396480|-67|false;b_41124514|-86|false;b_287...        c_38   \n",
       "1  b_6396480|-67|false;b_56328155|-73|false;b_411...        c_38   \n",
       "2  b_8006367|-78|false;b_2485110|-52|false;b_3005...        c_30   \n",
       "3  b_26250579|-73|false;b_26250580|-64|false;b_26...        c_27   \n",
       "4  b_39004150|-66|false;b_39004148|-58|false;b_21...         c_6   \n",
       "\n",
       "   longitude_shop  latitude_shop  price mall_id  \n",
       "0      122.308782      32.087894     42  m_1409  \n",
       "1      122.308782      32.087894     42  m_1409  \n",
       "2      117.365996      40.638634     40  m_4079  \n",
       "3      121.134561      31.197322     49  m_6587  \n",
       "4      122.255616      31.351461     62  m_3005  "
      ]
     },
     "execution_count": 23,
     "metadata": {},
     "output_type": "execute_result"
    }
   ],
   "source": [
    "user_behavior.head()"
   ]
  },
  {
   "cell_type": "code",
   "execution_count": 24,
   "metadata": {
    "collapsed": true
   },
   "outputs": [],
   "source": [
    "shop_and_wifi = user_behavior[[\"user_id\", \"shop_id\", \"wifi_infos\", \"mall_id\"]]"
   ]
  },
  {
   "cell_type": "code",
   "execution_count": 25,
   "metadata": {},
   "outputs": [
    {
     "data": {
      "text/html": [
       "<div>\n",
       "<style>\n",
       "    .dataframe thead tr:only-child th {\n",
       "        text-align: right;\n",
       "    }\n",
       "\n",
       "    .dataframe thead th {\n",
       "        text-align: left;\n",
       "    }\n",
       "\n",
       "    .dataframe tbody tr th {\n",
       "        vertical-align: top;\n",
       "    }\n",
       "</style>\n",
       "<table border=\"1\" class=\"dataframe\">\n",
       "  <thead>\n",
       "    <tr style=\"text-align: right;\">\n",
       "      <th></th>\n",
       "      <th>user_id</th>\n",
       "      <th>shop_id</th>\n",
       "      <th>wifi_infos</th>\n",
       "      <th>mall_id</th>\n",
       "    </tr>\n",
       "  </thead>\n",
       "  <tbody>\n",
       "    <tr>\n",
       "      <th>0</th>\n",
       "      <td>u_376</td>\n",
       "      <td>s_2871718</td>\n",
       "      <td>b_6396480|-67|false;b_41124514|-86|false;b_287...</td>\n",
       "      <td>m_1409</td>\n",
       "    </tr>\n",
       "    <tr>\n",
       "      <th>1</th>\n",
       "      <td>u_376</td>\n",
       "      <td>s_2871718</td>\n",
       "      <td>b_6396480|-67|false;b_56328155|-73|false;b_411...</td>\n",
       "      <td>m_1409</td>\n",
       "    </tr>\n",
       "    <tr>\n",
       "      <th>2</th>\n",
       "      <td>u_1041</td>\n",
       "      <td>s_181637</td>\n",
       "      <td>b_8006367|-78|false;b_2485110|-52|false;b_3005...</td>\n",
       "      <td>m_4079</td>\n",
       "    </tr>\n",
       "    <tr>\n",
       "      <th>3</th>\n",
       "      <td>u_1158</td>\n",
       "      <td>s_609470</td>\n",
       "      <td>b_26250579|-73|false;b_26250580|-64|false;b_26...</td>\n",
       "      <td>m_6587</td>\n",
       "    </tr>\n",
       "    <tr>\n",
       "      <th>4</th>\n",
       "      <td>u_1654</td>\n",
       "      <td>s_3816766</td>\n",
       "      <td>b_39004150|-66|false;b_39004148|-58|false;b_21...</td>\n",
       "      <td>m_3005</td>\n",
       "    </tr>\n",
       "  </tbody>\n",
       "</table>\n",
       "</div>"
      ],
      "text/plain": [
       "  user_id    shop_id                                         wifi_infos  \\\n",
       "0   u_376  s_2871718  b_6396480|-67|false;b_41124514|-86|false;b_287...   \n",
       "1   u_376  s_2871718  b_6396480|-67|false;b_56328155|-73|false;b_411...   \n",
       "2  u_1041   s_181637  b_8006367|-78|false;b_2485110|-52|false;b_3005...   \n",
       "3  u_1158   s_609470  b_26250579|-73|false;b_26250580|-64|false;b_26...   \n",
       "4  u_1654  s_3816766  b_39004150|-66|false;b_39004148|-58|false;b_21...   \n",
       "\n",
       "  mall_id  \n",
       "0  m_1409  \n",
       "1  m_1409  \n",
       "2  m_4079  \n",
       "3  m_6587  \n",
       "4  m_3005  "
      ]
     },
     "execution_count": 25,
     "metadata": {},
     "output_type": "execute_result"
    }
   ],
   "source": [
    "shop_and_wifi.head()"
   ]
  },
  {
   "cell_type": "code",
   "execution_count": 26,
   "metadata": {
    "collapsed": true
   },
   "outputs": [],
   "source": [
    "test_file = pd.read_csv(\"../data/evaluation_public.csv\")"
   ]
  },
  {
   "cell_type": "code",
   "execution_count": 27,
   "metadata": {},
   "outputs": [
    {
     "data": {
      "text/plain": [
       "(483931, 7)"
      ]
     },
     "execution_count": 27,
     "metadata": {},
     "output_type": "execute_result"
    }
   ],
   "source": [
    "test_file.shape"
   ]
  },
  {
   "cell_type": "code",
   "execution_count": 28,
   "metadata": {},
   "outputs": [
    {
     "data": {
      "text/html": [
       "<div>\n",
       "<style>\n",
       "    .dataframe thead tr:only-child th {\n",
       "        text-align: right;\n",
       "    }\n",
       "\n",
       "    .dataframe thead th {\n",
       "        text-align: left;\n",
       "    }\n",
       "\n",
       "    .dataframe tbody tr th {\n",
       "        vertical-align: top;\n",
       "    }\n",
       "</style>\n",
       "<table border=\"1\" class=\"dataframe\">\n",
       "  <thead>\n",
       "    <tr style=\"text-align: right;\">\n",
       "      <th></th>\n",
       "      <th>row_id</th>\n",
       "      <th>user_id</th>\n",
       "      <th>mall_id</th>\n",
       "      <th>time_stamp</th>\n",
       "      <th>longitude</th>\n",
       "      <th>latitude</th>\n",
       "      <th>wifi_infos</th>\n",
       "    </tr>\n",
       "  </thead>\n",
       "  <tbody>\n",
       "    <tr>\n",
       "      <th>0</th>\n",
       "      <td>118742</td>\n",
       "      <td>u_30097142</td>\n",
       "      <td>m_3916</td>\n",
       "      <td>2017-09-05 13:00</td>\n",
       "      <td>122.141011</td>\n",
       "      <td>39.818847</td>\n",
       "      <td>b_34366982|-82|false;b_37756289|-53|false;b_41...</td>\n",
       "    </tr>\n",
       "    <tr>\n",
       "      <th>1</th>\n",
       "      <td>118743</td>\n",
       "      <td>u_30097803</td>\n",
       "      <td>m_5085</td>\n",
       "      <td>2017-09-06 13:10</td>\n",
       "      <td>118.191907</td>\n",
       "      <td>32.855858</td>\n",
       "      <td>b_36722251|-81|false;b_10537579|-75|false;b_43...</td>\n",
       "    </tr>\n",
       "    <tr>\n",
       "      <th>2</th>\n",
       "      <td>118744</td>\n",
       "      <td>u_30097889</td>\n",
       "      <td>m_4033</td>\n",
       "      <td>2017-09-06 17:40</td>\n",
       "      <td>119.192110</td>\n",
       "      <td>32.424667</td>\n",
       "      <td>b_30026291|-74|false;b_30026290|-74|false;b_36...</td>\n",
       "    </tr>\n",
       "    <tr>\n",
       "      <th>3</th>\n",
       "      <td>118745</td>\n",
       "      <td>u_30098996</td>\n",
       "      <td>m_4515</td>\n",
       "      <td>2017-09-03 12:10</td>\n",
       "      <td>120.612201</td>\n",
       "      <td>34.055249</td>\n",
       "      <td>b_33412374|-77|false;b_22084893|-86|false;b_52...</td>\n",
       "    </tr>\n",
       "    <tr>\n",
       "      <th>4</th>\n",
       "      <td>118746</td>\n",
       "      <td>u_30099170</td>\n",
       "      <td>m_7168</td>\n",
       "      <td>2017-09-02 20:40</td>\n",
       "      <td>116.861989</td>\n",
       "      <td>40.326858</td>\n",
       "      <td>b_19882704|-77|false;b_2241462|-49|false;b_585...</td>\n",
       "    </tr>\n",
       "  </tbody>\n",
       "</table>\n",
       "</div>"
      ],
      "text/plain": [
       "   row_id     user_id mall_id        time_stamp   longitude   latitude  \\\n",
       "0  118742  u_30097142  m_3916  2017-09-05 13:00  122.141011  39.818847   \n",
       "1  118743  u_30097803  m_5085  2017-09-06 13:10  118.191907  32.855858   \n",
       "2  118744  u_30097889  m_4033  2017-09-06 17:40  119.192110  32.424667   \n",
       "3  118745  u_30098996  m_4515  2017-09-03 12:10  120.612201  34.055249   \n",
       "4  118746  u_30099170  m_7168  2017-09-02 20:40  116.861989  40.326858   \n",
       "\n",
       "                                          wifi_infos  \n",
       "0  b_34366982|-82|false;b_37756289|-53|false;b_41...  \n",
       "1  b_36722251|-81|false;b_10537579|-75|false;b_43...  \n",
       "2  b_30026291|-74|false;b_30026290|-74|false;b_36...  \n",
       "3  b_33412374|-77|false;b_22084893|-86|false;b_52...  \n",
       "4  b_19882704|-77|false;b_2241462|-49|false;b_585...  "
      ]
     },
     "execution_count": 28,
     "metadata": {},
     "output_type": "execute_result"
    }
   ],
   "source": [
    "test_file.head()"
   ]
  },
  {
   "cell_type": "code",
   "execution_count": 29,
   "metadata": {
    "collapsed": true
   },
   "outputs": [],
   "source": [
    "len(test_file[\"user_id\"])\n",
    "import numpy as np\n",
    "from collections import defaultdict"
   ]
  },
  {
   "cell_type": "code",
   "execution_count": 30,
   "metadata": {
    "collapsed": true
   },
   "outputs": [],
   "source": [
    "# 思考的不对，因为使用user_id和mall_id不能唯一确定一条记录，用户可能在不同的时间粒度在同一家商场做出行为，所以user_id和mall_id会重复\n",
    "# 但同时这个时间粒度无法用其他表里去对比，因为评测机数据是九月份的\n",
    "def compute_sub(test_file, user_behavior):\n",
    "    for _, row1 in test_file.iterrows():\n",
    "        sub_dict = dict()\n",
    "        # 遍历test_file，去user_behavior中找到和test_file这一行user_id和mall_id相同的数据，结果返回一个df\n",
    "        tmp = user_behavior[(user_behavior[\"user_id\"] == row1[\"user_id\"])  & (user_behavior[\"mall_id\"] == row1[\"mall_id\"])]\n",
    "        # 打印这个df\n",
    "        # print(\"tmp is:\", tmp)\n",
    "        if not tmp.empty:\n",
    "            for _, row2 in tmp.iterrows():\n",
    "                # 求经纬度的欧氏距离\n",
    "                sub = np.linalg.norm(\n",
    "                    np.array(\n",
    "                        [float(row1[\"longitude\"]),float(row1[\"latitude\"])]\n",
    "                    ) - \n",
    "                    np.array(\n",
    "                        [float(row2[\"longitude_shop\"]), float(row2[\"latitude_shop\"])]\n",
    "                    )\n",
    "                )\n",
    "                print(\"sub is :\" +str(sub))\n",
    "                # print(\"row2[shop_id] is \"+ str(row2[\"shop_id\"]))\n",
    "                ss = dict({row2[\"shop_id\"]:sub})\n",
    "                sub_dict.update(ss)\n",
    "            print(\"sub dict is:\" , sub_dict)\n",
    "            if not sub_dict:\n",
    "                # 找到距离最小的一个sub对应的shop_id\n",
    "                sub_dict = find_min_sub(sub_dict)\n",
    "                test_file.loc[(test_file[\"user_id\"] == \"u_30097142\")  & (test_file[\"mall_id\"] == \"m_3916\"), \"qq\"]=1\n",
    "                tmp[sub_dict[0]] = sub_dict[1]\n",
    "            else:\n",
    "                continue\n",
    "        else:\n",
    "            print(\"结果不存在\")\n",
    "# 找到sub最小值对应的shop_id和sub\n",
    "def find_min_sub(d):         \n",
    "    return sorted(d.items(), key=lambda item:item[1])[0]"
   ]
  },
  {
   "cell_type": "code",
   "execution_count": 42,
   "metadata": {
    "collapsed": true,
    "scrolled": true
   },
   "outputs": [],
   "source": [
    "# test_pd[\"qq\"] = 0\n",
    "# test_pd.loc[(test_pd[\"user_id\"] == \"u_30097142\")  & (test_pd[\"mall_id\"] == \"m_3916\"), \"qq\"]=1\n",
    "# compute_sub(test_file, user_behavior)"
   ]
  },
  {
   "cell_type": "code",
   "execution_count": 34,
   "metadata": {},
   "outputs": [
    {
     "data": {
      "text/plain": [
       "(483931, 7)"
      ]
     },
     "execution_count": 34,
     "metadata": {},
     "output_type": "execute_result"
    }
   ],
   "source": [
    "test_file.shape"
   ]
  },
  {
   "cell_type": "code",
   "execution_count": 41,
   "metadata": {},
   "outputs": [
    {
     "data": {
      "text/plain": [
       "(342203, 2)"
      ]
     },
     "execution_count": 41,
     "metadata": {},
     "output_type": "execute_result"
    }
   ],
   "source": [
    "test_file[[\"user_id\", \"mall_id\"]].drop_duplicates([\"user_id\", \"mall_id\"]).shape"
   ]
  },
  {
   "cell_type": "code",
   "execution_count": null,
   "metadata": {
    "collapsed": true
   },
   "outputs": [],
   "source": []
  },
  {
   "cell_type": "code",
   "execution_count": null,
   "metadata": {
    "collapsed": true
   },
   "outputs": [],
   "source": []
  }
 ],
 "metadata": {
  "kernelspec": {
   "display_name": "Python 3",
   "language": "python",
   "name": "python3"
  },
  "language_info": {
   "codemirror_mode": {
    "name": "ipython",
    "version": 3
   },
   "file_extension": ".py",
   "mimetype": "text/x-python",
   "name": "python",
   "nbconvert_exporter": "python",
   "pygments_lexer": "ipython3",
   "version": "3.6.3"
  }
 },
 "nbformat": 4,
 "nbformat_minor": 2
}

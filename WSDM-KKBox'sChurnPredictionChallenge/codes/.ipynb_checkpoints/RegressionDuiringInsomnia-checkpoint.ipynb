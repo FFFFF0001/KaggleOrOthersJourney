{
 "cells": [
  {
   "cell_type": "code",
   "execution_count": 1,
   "metadata": {},
   "outputs": [
    {
     "name": "stderr",
     "output_type": "stream",
     "text": [
      "E:\\anacoda\\lib\\site-packages\\sklearn\\cross_validation.py:44: DeprecationWarning: This module was deprecated in version 0.18 in favor of the model_selection module into which all the refactored classes and functions are moved. Also note that the interface of the new CV iterators are different from that of this module. This module will be removed in 0.20.\n",
      "  \"This module will be removed in 0.20.\", DeprecationWarning)\n",
      "E:\\anacoda\\lib\\site-packages\\sklearn\\grid_search.py:43: DeprecationWarning: This module was deprecated in version 0.18 in favor of the model_selection module into which all the refactored classes and functions are moved. This module will be removed in 0.20.\n",
      "  DeprecationWarning)\n",
      "E:\\anacoda\\lib\\site-packages\\sklearn\\lda.py:6: DeprecationWarning: lda.LDA has been moved to discriminant_analysis.LinearDiscriminantAnalysis in 0.17 and will be removed in 0.19\n",
      "  \"in 0.17 and will be removed in 0.19\", DeprecationWarning)\n",
      "E:\\anacoda\\lib\\site-packages\\sklearn\\learning_curve.py:23: DeprecationWarning: This module was deprecated in version 0.18 in favor of the model_selection module into which all the functions are moved. This module will be removed in 0.20\n",
      "  DeprecationWarning)\n",
      "E:\\anacoda\\lib\\site-packages\\sklearn\\qda.py:6: DeprecationWarning: qda.QDA has been moved to discriminant_analysis.QuadraticDiscriminantAnalysis in 0.17 and will be removed in 0.19.\n",
      "  \"in 0.17 and will be removed in 0.19.\", DeprecationWarning)\n"
     ]
    }
   ],
   "source": [
    "from multiprocessing import Pool, cpu_count\n",
    "import gc; gc.enable()\n",
    "import xgboost as xgb\n",
    "import pandas as pd\n",
    "import numpy as np\n",
    "from sklearn import *\n",
    "import sklearn\n"
   ]
  },
  {
   "cell_type": "code",
   "execution_count": 3,
   "metadata": {
    "collapsed": true
   },
   "outputs": [],
   "source": [
    "train = pd.read_csv(\"G:\\PythonProjects\\KaggleOrOthersJourney\\WSDM-KKBox'sChurnPredictionChallenge/data/train.csv\")"
   ]
  },
  {
   "cell_type": "code",
   "execution_count": 4,
   "metadata": {
    "collapsed": true
   },
   "outputs": [],
   "source": [
    "test = pd.read_csv(\"G:\\PythonProjects\\KaggleOrOthersJourney\\WSDM-KKBox'sChurnPredictionChallenge/data/sample_submission_zero.csv\")"
   ]
  },
  {
   "cell_type": "code",
   "execution_count": 5,
   "metadata": {
    "collapsed": true
   },
   "outputs": [],
   "source": [
    "transactions = pd.read_csv(\n",
    "    \"G:\\PythonProjects\\KaggleOrOthersJourney\\WSDM-KKBox'sChurnPredictionChallenge\\data/transactions.csv\",\n",
    "    usecols = ['msno']\n",
    ")"
   ]
  },
  {
   "cell_type": "code",
   "execution_count": 6,
   "metadata": {
    "collapsed": true
   },
   "outputs": [],
   "source": [
    "transactions = pd.DataFrame(transactions['msno'].value_counts().reset_index()) # 统计每个用户交易行为次数"
   ]
  },
  {
   "cell_type": "code",
   "execution_count": 7,
   "metadata": {
    "collapsed": true
   },
   "outputs": [],
   "source": [
    "transactions.columns = ['msno','trans_count']"
   ]
  },
  {
   "cell_type": "code",
   "execution_count": 8,
   "metadata": {},
   "outputs": [
    {
     "data": {
      "text/html": [
       "<div>\n",
       "<style>\n",
       "    .dataframe thead tr:only-child th {\n",
       "        text-align: right;\n",
       "    }\n",
       "\n",
       "    .dataframe thead th {\n",
       "        text-align: left;\n",
       "    }\n",
       "\n",
       "    .dataframe tbody tr th {\n",
       "        vertical-align: top;\n",
       "    }\n",
       "</style>\n",
       "<table border=\"1\" class=\"dataframe\">\n",
       "  <thead>\n",
       "    <tr style=\"text-align: right;\">\n",
       "      <th></th>\n",
       "      <th>msno</th>\n",
       "      <th>trans_count</th>\n",
       "    </tr>\n",
       "  </thead>\n",
       "  <tbody>\n",
       "    <tr>\n",
       "      <th>0</th>\n",
       "      <td>xm6fmAfgZx1OYUXaJuHOObD0H2EAtIktv9NYIVlaTf4=</td>\n",
       "      <td>71</td>\n",
       "    </tr>\n",
       "    <tr>\n",
       "      <th>1</th>\n",
       "      <td>Gm6nq94d1kn48YpqQzvWshpfQ2F218e+ISrtxjaA/EI=</td>\n",
       "      <td>64</td>\n",
       "    </tr>\n",
       "    <tr>\n",
       "      <th>2</th>\n",
       "      <td>ur5l+RJ9n6L7h96PqgBIOfgFxSM95YzhdrA8xS1NvRQ=</td>\n",
       "      <td>64</td>\n",
       "    </tr>\n",
       "    <tr>\n",
       "      <th>3</th>\n",
       "      <td>mxpRHNaHkFo7IfnKAqUaA8xrgpaDnnZDsjJvw8gH+FQ=</td>\n",
       "      <td>63</td>\n",
       "    </tr>\n",
       "    <tr>\n",
       "      <th>4</th>\n",
       "      <td>dnjJq1LhXBehL0VyhlHzYKKqVwMj7M9j7E7rRXY0HqE=</td>\n",
       "      <td>63</td>\n",
       "    </tr>\n",
       "    <tr>\n",
       "      <th>5</th>\n",
       "      <td>lZo4HG6fI31GEY/uijC4/JSCMhGSUT32iRYptqs7XtY=</td>\n",
       "      <td>62</td>\n",
       "    </tr>\n",
       "    <tr>\n",
       "      <th>6</th>\n",
       "      <td>Mjp5uPtRQPFUiMfw+rWecb2EGoo69dc6t1gSBRgz60c=</td>\n",
       "      <td>61</td>\n",
       "    </tr>\n",
       "    <tr>\n",
       "      <th>7</th>\n",
       "      <td>tWuakM8NS9fiWC5aD7zc36zw2U1BW54OXTWGEbdrnMI=</td>\n",
       "      <td>59</td>\n",
       "    </tr>\n",
       "    <tr>\n",
       "      <th>8</th>\n",
       "      <td>791c32ArWs05ZCpF+brfdTcgsMsOIKIxMCUe1Qh4OKE=</td>\n",
       "      <td>58</td>\n",
       "    </tr>\n",
       "    <tr>\n",
       "      <th>9</th>\n",
       "      <td>a9qvbz8KifymI7eTNDA/j/BDGpbx2RBGlFn9T35nN2c=</td>\n",
       "      <td>55</td>\n",
       "    </tr>\n",
       "  </tbody>\n",
       "</table>\n",
       "</div>"
      ],
      "text/plain": [
       "<div>\n",
       "<style>\n",
       "    .dataframe thead tr:only-child th {\n",
       "        text-align: right;\n",
       "    }\n",
       "\n",
       "    .dataframe thead th {\n",
       "        text-align: left;\n",
       "    }\n",
       "\n",
       "    .dataframe tbody tr th {\n",
       "        vertical-align: top;\n",
       "    }\n",
       "</style>\n",
       "<table border=\"1\" class=\"dataframe\">\n",
       "  <thead>\n",
       "    <tr style=\"text-align: right;\">\n",
       "      <th></th>\n",
       "      <th>msno</th>\n",
       "      <th>trans_count</th>\n",
       "    </tr>\n",
       "  </thead>\n",
       "  <tbody>\n",
       "    <tr>\n",
       "      <th>0</th>\n",
       "      <td>xm6fmAfgZx1OYUXaJuHOObD0H2EAtIktv9NYIVlaTf4=</td>\n",
       "      <td>71</td>\n",
       "    </tr>\n",
       "    <tr>\n",
       "      <th>1</th>\n",
       "      <td>Gm6nq94d1kn48YpqQzvWshpfQ2F218e+ISrtxjaA/EI=</td>\n",
       "      <td>64</td>\n",
       "    </tr>\n",
       "    <tr>\n",
       "      <th>2</th>\n",
       "      <td>ur5l+RJ9n6L7h96PqgBIOfgFxSM95YzhdrA8xS1NvRQ=</td>\n",
       "      <td>64</td>\n",
       "    </tr>\n",
       "    <tr>\n",
       "      <th>3</th>\n",
       "      <td>mxpRHNaHkFo7IfnKAqUaA8xrgpaDnnZDsjJvw8gH+FQ=</td>\n",
       "      <td>63</td>\n",
       "    </tr>\n",
       "    <tr>\n",
       "      <th>4</th>\n",
       "      <td>dnjJq1LhXBehL0VyhlHzYKKqVwMj7M9j7E7rRXY0HqE=</td>\n",
       "      <td>63</td>\n",
       "    </tr>\n",
       "    <tr>\n",
       "      <th>5</th>\n",
       "      <td>lZo4HG6fI31GEY/uijC4/JSCMhGSUT32iRYptqs7XtY=</td>\n",
       "      <td>62</td>\n",
       "    </tr>\n",
       "    <tr>\n",
       "      <th>6</th>\n",
       "      <td>Mjp5uPtRQPFUiMfw+rWecb2EGoo69dc6t1gSBRgz60c=</td>\n",
       "      <td>61</td>\n",
       "    </tr>\n",
       "    <tr>\n",
       "      <th>7</th>\n",
       "      <td>tWuakM8NS9fiWC5aD7zc36zw2U1BW54OXTWGEbdrnMI=</td>\n",
       "      <td>59</td>\n",
       "    </tr>\n",
       "    <tr>\n",
       "      <th>8</th>\n",
       "      <td>791c32ArWs05ZCpF+brfdTcgsMsOIKIxMCUe1Qh4OKE=</td>\n",
       "      <td>58</td>\n",
       "    </tr>\n",
       "    <tr>\n",
       "      <th>9</th>\n",
       "      <td>a9qvbz8KifymI7eTNDA/j/BDGpbx2RBGlFn9T35nN2c=</td>\n",
       "      <td>55</td>\n",
       "    </tr>\n",
       "  </tbody>\n",
       "</table>\n",
       "</div>"
      ]
     },
     "execution_count": 8,
     "metadata": {},
     "output_type": "execute_result"
    }
   ],
   "source": [
    "transactions.head(10)"
   ]
  },
  {
   "cell_type": "code",
   "execution_count": 9,
   "metadata": {
    "collapsed": true
   },
   "outputs": [],
   "source": [
    "train = pd.merge(train, transactions, how='left', on='msno')"
   ]
  },
  {
   "cell_type": "code",
   "execution_count": 10,
   "metadata": {
    "collapsed": true
   },
   "outputs": [],
   "source": [
    "test = pd.merge(test, transactions, how='left', on='msno')"
   ]
  },
  {
   "cell_type": "code",
   "execution_count": 11,
   "metadata": {},
   "outputs": [
    {
     "name": "stdout",
     "output_type": "stream",
     "text": [
      "transaction merge...\n"
     ]
    }
   ],
   "source": [
    "transactions = []; print('transaction merge...')"
   ]
  },
  {
   "cell_type": "code",
   "execution_count": 12,
   "metadata": {},
   "outputs": [
    {
     "name": "stdout",
     "output_type": "stream",
     "text": [
      "user logs merge...\n",
      "user logs merge...\n",
      "user logs merge...\n",
      "user logs merge...\n",
      "user logs merge...\n",
      "user logs merge...\n",
      "user logs merge...\n",
      "user logs merge...\n",
      "user logs merge...\n",
      "user logs merge...\n",
      "user logs merge...\n",
      "user logs merge...\n",
      "user logs merge...\n",
      "user logs merge...\n",
      "user logs merge...\n",
      "user logs merge...\n",
      "user logs merge...\n",
      "user logs merge...\n",
      "user logs merge...\n",
      "user logs merge...\n",
      "user logs merge...\n",
      "user logs merge...\n",
      "user logs merge...\n",
      "user logs merge...\n",
      "user logs merge...\n",
      "user logs merge...\n",
      "user logs merge...\n",
      "user logs merge...\n",
      "user logs merge...\n",
      "user logs merge...\n",
      "user logs merge...\n",
      "user logs merge...\n",
      "user logs merge...\n",
      "user logs merge...\n",
      "user logs merge...\n",
      "user logs merge...\n",
      "user logs merge...\n",
      "user logs merge...\n",
      "user logs merge...\n",
      "user logs merge...\n",
      "user logs merge...\n",
      "user logs merge...\n",
      "user logs merge...\n",
      "user logs merge...\n",
      "user logs merge...\n",
      "user logs merge...\n",
      "user logs merge...\n",
      "user logs merge...\n",
      "user logs merge...\n",
      "user logs merge...\n",
      "user logs merge...\n",
      "user logs merge...\n",
      "user logs merge...\n",
      "user logs merge...\n",
      "user logs merge...\n",
      "user logs merge...\n",
      "user logs merge...\n",
      "user logs merge...\n",
      "user logs merge...\n",
      "user logs merge...\n",
      "user logs merge...\n",
      "user logs merge...\n",
      "user logs merge...\n",
      "user logs merge...\n",
      "user logs merge...\n",
      "user logs merge...\n",
      "user logs merge...\n",
      "user logs merge...\n",
      "user logs merge...\n",
      "user logs merge...\n",
      "user logs merge...\n",
      "user logs merge...\n",
      "user logs merge...\n",
      "user logs merge...\n",
      "user logs merge...\n",
      "user logs merge...\n",
      "user logs merge...\n",
      "user logs merge...\n",
      "user logs merge...\n"
     ]
    }
   ],
   "source": [
    "user_logs_all = pd.DataFrame()\n",
    "for i in range(1,80):\n",
    "    user_logs = pd.read_csv(\n",
    "        \"G:\\PythonProjects\\KaggleOrOthersJourney\\WSDM-KKBox'sChurnPredictionChallenge\\data/user_log_split_\"+str(i)+\".csv\"\n",
    "    )\n",
    "    user_logs = pd.DataFrame(user_logs['msno'].value_counts().reset_index())\n",
    "    user_logs.columns = ['msno','logs_count']\n",
    "    # user_logs_all = pd.merge(user_logs_all, user_logs, how='left', on='msno')\n",
    "    train = pd.merge(train, user_logs, how='left', on='msno')\n",
    "    test = pd.merge(test, user_logs, how='left', on='msno')\n",
    "    user_logs = []; print('user logs merge...')"
   ]
  },
  {
   "cell_type": "code",
   "execution_count": 13,
   "metadata": {
    "collapsed": true
   },
   "outputs": [],
   "source": [
    "members = pd.read_csv(\"G:\\PythonProjects\\KaggleOrOthersJourney\\WSDM-KKBox'sChurnPredictionChallenge\\data\\members.csv\")"
   ]
  },
  {
   "cell_type": "code",
   "execution_count": 14,
   "metadata": {},
   "outputs": [
    {
     "name": "stdout",
     "output_type": "stream",
     "text": [
      "members merge...\n"
     ]
    }
   ],
   "source": [
    "train = pd.merge(train, members, how='left', on='msno')\n",
    "test = pd.merge(test, members, how='left', on='msno')\n",
    "members = []; print('members merge...') "
   ]
  },
  {
   "cell_type": "code",
   "execution_count": 15,
   "metadata": {},
   "outputs": [
    {
     "data": {
      "text/plain": [
       "(992931, 88)"
      ]
     },
     "execution_count": 15,
     "metadata": {},
     "output_type": "execute_result"
    }
   ],
   "source": [
    "train.shape"
   ]
  },
  {
   "cell_type": "code",
   "execution_count": 16,
   "metadata": {
    "collapsed": true
   },
   "outputs": [],
   "source": [
    "gender = {'male':1, 'female':2}\n",
    "train['gender'] = train['gender'].map(gender)\n",
    "test['gender'] = test['gender'].map(gender)\n",
    "\n",
    "train = train.fillna(0)\n",
    "test = test.fillna(0)"
   ]
  },
  {
   "cell_type": "code",
   "execution_count": 18,
   "metadata": {
    "collapsed": true
   },
   "outputs": [],
   "source": [
    "# train.to_csv(\"train_aft_process.csv\")\n",
    "# test.to_csv(\"test_aft_process.csv\")"
   ]
  },
  {
   "cell_type": "code",
   "execution_count": 19,
   "metadata": {
    "collapsed": true
   },
   "outputs": [],
   "source": [
    "# transactions = pd.read_csv(\"G:\\PythonProjects\\KaggleOrOthersJourney\\WSDM-KKBox'sChurnPredictionChallenge\\data/transactions.csv\")"
   ]
  },
  {
   "cell_type": "code",
   "execution_count": 21,
   "metadata": {
    "collapsed": true
   },
   "outputs": [],
   "source": [
    "chunksize = pd.read_csv(\"G:\\PythonProjects\\KaggleOrOthersJourney\\WSDM-KKBox'sChurnPredictionChallenge\\data/transactions.csv\", chunksize=1000000)\n",
    "transactions = pd.DataFrame()\n",
    "for chunk in chunksize:\n",
    "    transactions = pd.concat([chunk, transactions], ignore_index=True)\n",
    "#     pd.merge(members, transactions.drop_duplicates(), on='msno', how='left')"
   ]
  },
  {
   "cell_type": "code",
   "execution_count": 22,
   "metadata": {
    "collapsed": true
   },
   "outputs": [],
   "source": [
    "transactions = pd.DataFrame(transactions['msno'].value_counts().reset_index())"
   ]
  },
  {
   "cell_type": "code",
   "execution_count": 23,
   "metadata": {
    "collapsed": true
   },
   "outputs": [],
   "source": [
    "transactions.columns = ['msno','trans_count']"
   ]
  },
  {
   "cell_type": "code",
   "execution_count": 24,
   "metadata": {
    "collapsed": true
   },
   "outputs": [],
   "source": [
    "transactions.to_csv(\"transactions_aft_count.csv\")"
   ]
  },
  {
   "cell_type": "code",
   "execution_count": 25,
   "metadata": {
    "collapsed": true
   },
   "outputs": [],
   "source": [
    "test = pd.merge(test, transactions, how='left', on='msno')"
   ]
  },
  {
   "cell_type": "code",
   "execution_count": 26,
   "metadata": {
    "collapsed": true
   },
   "outputs": [],
   "source": [
    "train = pd.merge(train, transactions, how='left', on='msno')"
   ]
  },
  {
   "cell_type": "code",
   "execution_count": 27,
   "metadata": {},
   "outputs": [
    {
     "name": "stdout",
     "output_type": "stream",
     "text": [
      "transaction merge...\n"
     ]
    }
   ],
   "source": [
    "transactions = []; print('transaction merge...')"
   ]
  },
  {
   "cell_type": "code",
   "execution_count": null,
   "metadata": {
    "collapsed": true
   },
   "outputs": [],
   "source": [
    "def transform_df(df):\n",
    "    df = pd.DataFrame(df)\n",
    "    df = df.sort_values(by=['date'], ascending=[False])\n",
    "    df = df.reset_index(drop=True)\n",
    "    df = df.drop_duplicates(subset=['msno'], keep='first')\n",
    "    return df\n",
    "\n",
    "def transform_df2(df):\n",
    "    df = df.sort_values(by=['date'], ascending=[False])\n",
    "    df = df.reset_index(drop=True)\n",
    "    df = df.drop_duplicates(subset=['msno'], keep='first')\n",
    "    return df"
   ]
  },
  {
   "cell_type": "code",
   "execution_count": 8,
   "metadata": {},
   "outputs": [
    {
     "data": {
      "text/plain": [
       "Index(['Unnamed: 0', 'msno', 'is_churn', 'trans_count_x', 'logs_count_x',\n",
       "       'logs_count_y', 'logs_count_x.1', 'logs_count_y.1', 'logs_count_x.2',\n",
       "       'logs_count_y.2', 'logs_count_x.3', 'logs_count_y.3', 'logs_count_x.4',\n",
       "       'logs_count_y.4', 'logs_count_x.5', 'logs_count_y.5', 'logs_count_x.6',\n",
       "       'logs_count_y.6', 'logs_count_x.7', 'logs_count_y.7', 'logs_count_x.8',\n",
       "       'logs_count_y.8', 'logs_count_x.9', 'logs_count_y.9', 'logs_count_x.10',\n",
       "       'logs_count_y.10', 'logs_count_x.11', 'logs_count_y.11',\n",
       "       'logs_count_x.12', 'logs_count_y.12', 'logs_count_x.13',\n",
       "       'logs_count_y.13', 'logs_count_x.14', 'logs_count_y.14',\n",
       "       'logs_count_x.15', 'logs_count_y.15', 'logs_count_x.16',\n",
       "       'logs_count_y.16', 'logs_count_x.17', 'logs_count_y.17',\n",
       "       'logs_count_x.18', 'logs_count_y.18', 'logs_count_x.19',\n",
       "       'logs_count_y.19', 'logs_count_x.20', 'logs_count_y.20',\n",
       "       'logs_count_x.21', 'logs_count_y.21', 'logs_count_x.22',\n",
       "       'logs_count_y.22', 'logs_count_x.23', 'logs_count_y.23',\n",
       "       'logs_count_x.24', 'logs_count_y.24', 'logs_count_x.25',\n",
       "       'logs_count_y.25', 'logs_count_x.26', 'logs_count_y.26',\n",
       "       'logs_count_x.27', 'logs_count_y.27', 'logs_count_x.28',\n",
       "       'logs_count_y.28', 'logs_count_x.29', 'logs_count_y.29',\n",
       "       'logs_count_x.30', 'logs_count_y.30', 'logs_count_x.31',\n",
       "       'logs_count_y.31', 'logs_count_x.32', 'logs_count_y.32',\n",
       "       'logs_count_x.33', 'logs_count_y.33', 'logs_count_x.34',\n",
       "       'logs_count_y.34', 'logs_count_x.35', 'logs_count_y.35',\n",
       "       'logs_count_x.36', 'logs_count_y.36', 'logs_count_x.37',\n",
       "       'logs_count_y.37', 'logs_count_x.38', 'logs_count_y.38', 'logs_count',\n",
       "       'city', 'bd', 'gender', 'registered_via', 'registration_init_time',\n",
       "       'expiration_date', 'trans_count_y'],\n",
       "      dtype='object')"
      ]
     },
     "execution_count": 8,
     "metadata": {},
     "output_type": "execute_result"
    }
   ],
   "source": [
    "# train.to_csv(\"train_aft_process.csv\")\n",
    "# test.to_csv(\"test_aft_process.csv\")\n",
    "# train = pd.read_csv(\"G:\\PythonProjects\\KaggleOrOthersJourney\\WSDM-KKBox'sChurnPredictionChallenge\\middle_files/train_aft_process.csv\")\n",
    "# test = pd.read_csv(\"G:\\PythonProjects\\KaggleOrOthersJourney\\WSDM-KKBox'sChurnPredictionChallenge\\middle_files/test_aft_process.csv\")\n",
    "# train.shape\n",
    "# test.shape\n"
   ]
  },
  {
   "cell_type": "code",
   "execution_count": 10,
   "metadata": {
    "collapsed": true
   },
   "outputs": [],
   "source": [
    "train_new = train[['msno', 'is_churn', 'logs_count', 'trans_count_x', 'trans_count_y','city', \n",
    "               'bd', 'gender', 'registered_via', 'registration_init_time',\n",
    "               'expiration_date']]"
   ]
  },
  {
   "cell_type": "code",
   "execution_count": 13,
   "metadata": {},
   "outputs": [
    {
     "name": "stderr",
     "output_type": "stream",
     "text": [
      "E:\\anacoda\\lib\\site-packages\\ipykernel_launcher.py:1: SettingWithCopyWarning: \n",
      "A value is trying to be set on a copy of a slice from a DataFrame.\n",
      "Try using .loc[row_indexer,col_indexer] = value instead\n",
      "\n",
      "See the caveats in the documentation: http://pandas.pydata.org/pandas-docs/stable/indexing.html#indexing-view-versus-copy\n",
      "  \"\"\"Entry point for launching an IPython kernel.\n"
     ]
    }
   ],
   "source": [
    "train_new['trains_count'] = train_new['trans_count_x']"
   ]
  },
  {
   "cell_type": "code",
   "execution_count": 16,
   "metadata": {
    "collapsed": true
   },
   "outputs": [],
   "source": [
    "train_new = train_new.drop(['trans_count_x', 'trans_count_y'], axis=1)"
   ]
  },
  {
   "cell_type": "code",
   "execution_count": 17,
   "metadata": {},
   "outputs": [
    {
     "data": {
      "text/html": [
       "<div>\n",
       "<style>\n",
       "    .dataframe thead tr:only-child th {\n",
       "        text-align: right;\n",
       "    }\n",
       "\n",
       "    .dataframe thead th {\n",
       "        text-align: left;\n",
       "    }\n",
       "\n",
       "    .dataframe tbody tr th {\n",
       "        vertical-align: top;\n",
       "    }\n",
       "</style>\n",
       "<table border=\"1\" class=\"dataframe\">\n",
       "  <thead>\n",
       "    <tr style=\"text-align: right;\">\n",
       "      <th></th>\n",
       "      <th>msno</th>\n",
       "      <th>is_churn</th>\n",
       "      <th>logs_count</th>\n",
       "      <th>city</th>\n",
       "      <th>bd</th>\n",
       "      <th>gender</th>\n",
       "      <th>registered_via</th>\n",
       "      <th>registration_init_time</th>\n",
       "      <th>expiration_date</th>\n",
       "      <th>trains_count</th>\n",
       "    </tr>\n",
       "  </thead>\n",
       "  <tbody>\n",
       "    <tr>\n",
       "      <th>0</th>\n",
       "      <td>waLDQMmcOu2jLDaV1ddDkgCrB/jl6sD66Xzs0Vqax1Y=</td>\n",
       "      <td>1</td>\n",
       "      <td>0.0</td>\n",
       "      <td>18.0</td>\n",
       "      <td>36.0</td>\n",
       "      <td>2.0</td>\n",
       "      <td>9.0</td>\n",
       "      <td>20050406.0</td>\n",
       "      <td>20170907.0</td>\n",
       "      <td>2</td>\n",
       "    </tr>\n",
       "    <tr>\n",
       "      <th>1</th>\n",
       "      <td>QA7uiXy8vIbUSPOkCf9RwQ3FsT8jVq2OxDr8zqa7bRQ=</td>\n",
       "      <td>1</td>\n",
       "      <td>0.0</td>\n",
       "      <td>10.0</td>\n",
       "      <td>38.0</td>\n",
       "      <td>1.0</td>\n",
       "      <td>9.0</td>\n",
       "      <td>20050407.0</td>\n",
       "      <td>20170321.0</td>\n",
       "      <td>23</td>\n",
       "    </tr>\n",
       "    <tr>\n",
       "      <th>2</th>\n",
       "      <td>fGwBva6hikQmTJzrbz/2Ezjm5Cth5jZUNvXigKK2AFA=</td>\n",
       "      <td>1</td>\n",
       "      <td>0.0</td>\n",
       "      <td>11.0</td>\n",
       "      <td>27.0</td>\n",
       "      <td>2.0</td>\n",
       "      <td>9.0</td>\n",
       "      <td>20051016.0</td>\n",
       "      <td>20170203.0</td>\n",
       "      <td>10</td>\n",
       "    </tr>\n",
       "    <tr>\n",
       "      <th>3</th>\n",
       "      <td>mT5V8rEpa+8wuqi6x0DoVd3H5icMKkE9Prt49UlmK+4=</td>\n",
       "      <td>1</td>\n",
       "      <td>14.0</td>\n",
       "      <td>13.0</td>\n",
       "      <td>23.0</td>\n",
       "      <td>2.0</td>\n",
       "      <td>9.0</td>\n",
       "      <td>20051102.0</td>\n",
       "      <td>20170926.0</td>\n",
       "      <td>2</td>\n",
       "    </tr>\n",
       "    <tr>\n",
       "      <th>4</th>\n",
       "      <td>XaPhtGLk/5UvvOYHcONTwsnH97P4eGECeq+BARGItRw=</td>\n",
       "      <td>1</td>\n",
       "      <td>0.0</td>\n",
       "      <td>3.0</td>\n",
       "      <td>27.0</td>\n",
       "      <td>1.0</td>\n",
       "      <td>9.0</td>\n",
       "      <td>20051228.0</td>\n",
       "      <td>20170927.0</td>\n",
       "      <td>8</td>\n",
       "    </tr>\n",
       "  </tbody>\n",
       "</table>\n",
       "</div>"
      ],
      "text/plain": [
       "<div>\n",
       "<style>\n",
       "    .dataframe thead tr:only-child th {\n",
       "        text-align: right;\n",
       "    }\n",
       "\n",
       "    .dataframe thead th {\n",
       "        text-align: left;\n",
       "    }\n",
       "\n",
       "    .dataframe tbody tr th {\n",
       "        vertical-align: top;\n",
       "    }\n",
       "</style>\n",
       "<table border=\"1\" class=\"dataframe\">\n",
       "  <thead>\n",
       "    <tr style=\"text-align: right;\">\n",
       "      <th></th>\n",
       "      <th>msno</th>\n",
       "      <th>is_churn</th>\n",
       "      <th>logs_count</th>\n",
       "      <th>city</th>\n",
       "      <th>bd</th>\n",
       "      <th>gender</th>\n",
       "      <th>registered_via</th>\n",
       "      <th>registration_init_time</th>\n",
       "      <th>expiration_date</th>\n",
       "      <th>trains_count</th>\n",
       "    </tr>\n",
       "  </thead>\n",
       "  <tbody>\n",
       "    <tr>\n",
       "      <th>0</th>\n",
       "      <td>waLDQMmcOu2jLDaV1ddDkgCrB/jl6sD66Xzs0Vqax1Y=</td>\n",
       "      <td>1</td>\n",
       "      <td>0.0</td>\n",
       "      <td>18.0</td>\n",
       "      <td>36.0</td>\n",
       "      <td>2.0</td>\n",
       "      <td>9.0</td>\n",
       "      <td>20050406.0</td>\n",
       "      <td>20170907.0</td>\n",
       "      <td>2</td>\n",
       "    </tr>\n",
       "    <tr>\n",
       "      <th>1</th>\n",
       "      <td>QA7uiXy8vIbUSPOkCf9RwQ3FsT8jVq2OxDr8zqa7bRQ=</td>\n",
       "      <td>1</td>\n",
       "      <td>0.0</td>\n",
       "      <td>10.0</td>\n",
       "      <td>38.0</td>\n",
       "      <td>1.0</td>\n",
       "      <td>9.0</td>\n",
       "      <td>20050407.0</td>\n",
       "      <td>20170321.0</td>\n",
       "      <td>23</td>\n",
       "    </tr>\n",
       "    <tr>\n",
       "      <th>2</th>\n",
       "      <td>fGwBva6hikQmTJzrbz/2Ezjm5Cth5jZUNvXigKK2AFA=</td>\n",
       "      <td>1</td>\n",
       "      <td>0.0</td>\n",
       "      <td>11.0</td>\n",
       "      <td>27.0</td>\n",
       "      <td>2.0</td>\n",
       "      <td>9.0</td>\n",
       "      <td>20051016.0</td>\n",
       "      <td>20170203.0</td>\n",
       "      <td>10</td>\n",
       "    </tr>\n",
       "    <tr>\n",
       "      <th>3</th>\n",
       "      <td>mT5V8rEpa+8wuqi6x0DoVd3H5icMKkE9Prt49UlmK+4=</td>\n",
       "      <td>1</td>\n",
       "      <td>14.0</td>\n",
       "      <td>13.0</td>\n",
       "      <td>23.0</td>\n",
       "      <td>2.0</td>\n",
       "      <td>9.0</td>\n",
       "      <td>20051102.0</td>\n",
       "      <td>20170926.0</td>\n",
       "      <td>2</td>\n",
       "    </tr>\n",
       "    <tr>\n",
       "      <th>4</th>\n",
       "      <td>XaPhtGLk/5UvvOYHcONTwsnH97P4eGECeq+BARGItRw=</td>\n",
       "      <td>1</td>\n",
       "      <td>0.0</td>\n",
       "      <td>3.0</td>\n",
       "      <td>27.0</td>\n",
       "      <td>1.0</td>\n",
       "      <td>9.0</td>\n",
       "      <td>20051228.0</td>\n",
       "      <td>20170927.0</td>\n",
       "      <td>8</td>\n",
       "    </tr>\n",
       "  </tbody>\n",
       "</table>\n",
       "</div>"
      ]
     },
     "execution_count": 17,
     "metadata": {},
     "output_type": "execute_result"
    }
   ],
   "source": [
    "train_new.head()"
   ]
  },
  {
   "cell_type": "code",
   "execution_count": 18,
   "metadata": {
    "collapsed": true
   },
   "outputs": [
    {
     "name": "stdout",
     "output_type": "stream",
     "text": [
      "<class 'pandas.core.frame.DataFrame'>\n",
      "RangeIndex: 992931 entries, 0 to 992930\n",
      "Data columns (total 10 columns):\n",
      "msno                      992931 non-null object\n",
      "is_churn                  992931 non-null int64\n",
      "logs_count                992931 non-null float64\n",
      "city                      992931 non-null float64\n",
      "bd                        992931 non-null float64\n",
      "gender                    992931 non-null float64\n",
      "registered_via            992931 non-null float64\n",
      "registration_init_time    992931 non-null float64\n",
      "expiration_date           992931 non-null float64\n",
      "trains_count              992931 non-null int64\n",
      "dtypes: float64(7), int64(2), object(1)\n",
      "memory usage: 75.8+ MB\n"
     ]
    }
   ],
   "source": [
    "train_new.info()"
   ]
  },
  {
   "cell_type": "code",
   "execution_count": 19,
   "metadata": {
    "collapsed": true
   },
   "outputs": [],
   "source": [
    "train_new.to_csv(\"G:\\PythonProjects\\KaggleOrOthersJourney\\WSDM-KKBox'sChurnPredictionChallenge\\middle_files/train_aft_process_2.csv\")"
   ]
  },
  {
   "cell_type": "code",
   "execution_count": 20,
   "metadata": {
    "collapsed": true
   },
   "outputs": [],
   "source": [
    "test_new = test[['msno', 'is_churn', 'logs_count', 'trans_count_x', 'trans_count_y','city', \n",
    "               'bd', 'gender', 'registered_via', 'registration_init_time',\n",
    "               'expiration_date']]"
   ]
  },
  {
   "cell_type": "code",
   "execution_count": 21,
   "metadata": {
    "collapsed": true
   },
   "outputs": [],
   "source": [
    "test_new = test_new.drop(['trans_count_x', 'trans_count_y'], axis=1)"
   ]
  },
  {
   "cell_type": "code",
   "execution_count": 23,
   "metadata": {},
   "outputs": [
    {
     "data": {
      "text/html": [
       "<div>\n",
       "<style>\n",
       "    .dataframe thead tr:only-child th {\n",
       "        text-align: right;\n",
       "    }\n",
       "\n",
       "    .dataframe thead th {\n",
       "        text-align: left;\n",
       "    }\n",
       "\n",
       "    .dataframe tbody tr th {\n",
       "        vertical-align: top;\n",
       "    }\n",
       "</style>\n",
       "<table border=\"1\" class=\"dataframe\">\n",
       "  <thead>\n",
       "    <tr style=\"text-align: right;\">\n",
       "      <th></th>\n",
       "      <th>msno</th>\n",
       "      <th>is_churn</th>\n",
       "      <th>logs_count</th>\n",
       "      <th>city</th>\n",
       "      <th>bd</th>\n",
       "      <th>gender</th>\n",
       "      <th>registered_via</th>\n",
       "      <th>registration_init_time</th>\n",
       "      <th>expiration_date</th>\n",
       "    </tr>\n",
       "  </thead>\n",
       "  <tbody>\n",
       "    <tr>\n",
       "      <th>0</th>\n",
       "      <td>ugx0CjOMzazClkFzU2xasmDZaoIqOUAZPsH1q0teWCg=</td>\n",
       "      <td>0</td>\n",
       "      <td>0.0</td>\n",
       "      <td>5.0</td>\n",
       "      <td>28.0</td>\n",
       "      <td>1.0</td>\n",
       "      <td>3.0</td>\n",
       "      <td>20131223.0</td>\n",
       "      <td>20170822.0</td>\n",
       "    </tr>\n",
       "    <tr>\n",
       "      <th>1</th>\n",
       "      <td>f/NmvEzHfhINFEYZTR05prUdr+E+3+oewvweYz9cCQE=</td>\n",
       "      <td>0</td>\n",
       "      <td>0.0</td>\n",
       "      <td>13.0</td>\n",
       "      <td>20.0</td>\n",
       "      <td>1.0</td>\n",
       "      <td>3.0</td>\n",
       "      <td>20131223.0</td>\n",
       "      <td>20170519.0</td>\n",
       "    </tr>\n",
       "    <tr>\n",
       "      <th>2</th>\n",
       "      <td>zLo9f73nGGT1p21ltZC3ChiRnAVvgibMyazbCxvWPcg=</td>\n",
       "      <td>0</td>\n",
       "      <td>0.0</td>\n",
       "      <td>13.0</td>\n",
       "      <td>18.0</td>\n",
       "      <td>1.0</td>\n",
       "      <td>3.0</td>\n",
       "      <td>20131227.0</td>\n",
       "      <td>20170919.0</td>\n",
       "    </tr>\n",
       "    <tr>\n",
       "      <th>3</th>\n",
       "      <td>8iF/+8HY8lJKFrTc7iR9ZYGCG2Ecrogbc2Vy5YhsfhQ=</td>\n",
       "      <td>0</td>\n",
       "      <td>0.0</td>\n",
       "      <td>1.0</td>\n",
       "      <td>0.0</td>\n",
       "      <td>0.0</td>\n",
       "      <td>7.0</td>\n",
       "      <td>20140109.0</td>\n",
       "      <td>20160325.0</td>\n",
       "    </tr>\n",
       "    <tr>\n",
       "      <th>4</th>\n",
       "      <td>K6fja4+jmoZ5xG6BypqX80Uw/XKpMgrEMdG2edFOxnA=</td>\n",
       "      <td>0</td>\n",
       "      <td>0.0</td>\n",
       "      <td>13.0</td>\n",
       "      <td>35.0</td>\n",
       "      <td>2.0</td>\n",
       "      <td>7.0</td>\n",
       "      <td>20140125.0</td>\n",
       "      <td>20180218.0</td>\n",
       "    </tr>\n",
       "  </tbody>\n",
       "</table>\n",
       "</div>"
      ],
      "text/plain": [
       "<div>\n",
       "<style>\n",
       "    .dataframe thead tr:only-child th {\n",
       "        text-align: right;\n",
       "    }\n",
       "\n",
       "    .dataframe thead th {\n",
       "        text-align: left;\n",
       "    }\n",
       "\n",
       "    .dataframe tbody tr th {\n",
       "        vertical-align: top;\n",
       "    }\n",
       "</style>\n",
       "<table border=\"1\" class=\"dataframe\">\n",
       "  <thead>\n",
       "    <tr style=\"text-align: right;\">\n",
       "      <th></th>\n",
       "      <th>msno</th>\n",
       "      <th>is_churn</th>\n",
       "      <th>logs_count</th>\n",
       "      <th>city</th>\n",
       "      <th>bd</th>\n",
       "      <th>gender</th>\n",
       "      <th>registered_via</th>\n",
       "      <th>registration_init_time</th>\n",
       "      <th>expiration_date</th>\n",
       "    </tr>\n",
       "  </thead>\n",
       "  <tbody>\n",
       "    <tr>\n",
       "      <th>0</th>\n",
       "      <td>ugx0CjOMzazClkFzU2xasmDZaoIqOUAZPsH1q0teWCg=</td>\n",
       "      <td>0</td>\n",
       "      <td>0.0</td>\n",
       "      <td>5.0</td>\n",
       "      <td>28.0</td>\n",
       "      <td>1.0</td>\n",
       "      <td>3.0</td>\n",
       "      <td>20131223.0</td>\n",
       "      <td>20170822.0</td>\n",
       "    </tr>\n",
       "    <tr>\n",
       "      <th>1</th>\n",
       "      <td>f/NmvEzHfhINFEYZTR05prUdr+E+3+oewvweYz9cCQE=</td>\n",
       "      <td>0</td>\n",
       "      <td>0.0</td>\n",
       "      <td>13.0</td>\n",
       "      <td>20.0</td>\n",
       "      <td>1.0</td>\n",
       "      <td>3.0</td>\n",
       "      <td>20131223.0</td>\n",
       "      <td>20170519.0</td>\n",
       "    </tr>\n",
       "    <tr>\n",
       "      <th>2</th>\n",
       "      <td>zLo9f73nGGT1p21ltZC3ChiRnAVvgibMyazbCxvWPcg=</td>\n",
       "      <td>0</td>\n",
       "      <td>0.0</td>\n",
       "      <td>13.0</td>\n",
       "      <td>18.0</td>\n",
       "      <td>1.0</td>\n",
       "      <td>3.0</td>\n",
       "      <td>20131227.0</td>\n",
       "      <td>20170919.0</td>\n",
       "    </tr>\n",
       "    <tr>\n",
       "      <th>3</th>\n",
       "      <td>8iF/+8HY8lJKFrTc7iR9ZYGCG2Ecrogbc2Vy5YhsfhQ=</td>\n",
       "      <td>0</td>\n",
       "      <td>0.0</td>\n",
       "      <td>1.0</td>\n",
       "      <td>0.0</td>\n",
       "      <td>0.0</td>\n",
       "      <td>7.0</td>\n",
       "      <td>20140109.0</td>\n",
       "      <td>20160325.0</td>\n",
       "    </tr>\n",
       "    <tr>\n",
       "      <th>4</th>\n",
       "      <td>K6fja4+jmoZ5xG6BypqX80Uw/XKpMgrEMdG2edFOxnA=</td>\n",
       "      <td>0</td>\n",
       "      <td>0.0</td>\n",
       "      <td>13.0</td>\n",
       "      <td>35.0</td>\n",
       "      <td>2.0</td>\n",
       "      <td>7.0</td>\n",
       "      <td>20140125.0</td>\n",
       "      <td>20180218.0</td>\n",
       "    </tr>\n",
       "  </tbody>\n",
       "</table>\n",
       "</div>"
      ]
     },
     "execution_count": 23,
     "metadata": {},
     "output_type": "execute_result"
    }
   ],
   "source": [
    "test_new.head()"
   ]
  },
  {
   "cell_type": "code",
   "execution_count": 24,
   "metadata": {
    "collapsed": true
   },
   "outputs": [],
   "source": [
    "test_new.to_csv(\"G:\\PythonProjects\\KaggleOrOthersJourney\\WSDM-KKBox'sChurnPredictionChallenge\\middle_files/test_aft_process_2.csv\")"
   ]
  },
  {
   "cell_type": "code",
   "execution_count": 11,
   "metadata": {
    "collapsed": true
   },
   "outputs": [],
   "source": [
    "train = pd.read_csv(\"../middle_files/train_aft_process_2.csv\")"
   ]
  },
  {
   "cell_type": "code",
   "execution_count": 12,
   "metadata": {},
   "outputs": [
    {
     "data": {
      "text/html": [
       "<div>\n",
       "<style>\n",
       "    .dataframe thead tr:only-child th {\n",
       "        text-align: right;\n",
       "    }\n",
       "\n",
       "    .dataframe thead th {\n",
       "        text-align: left;\n",
       "    }\n",
       "\n",
       "    .dataframe tbody tr th {\n",
       "        vertical-align: top;\n",
       "    }\n",
       "</style>\n",
       "<table border=\"1\" class=\"dataframe\">\n",
       "  <thead>\n",
       "    <tr style=\"text-align: right;\">\n",
       "      <th></th>\n",
       "      <th>Unnamed: 0</th>\n",
       "      <th>msno</th>\n",
       "      <th>is_churn</th>\n",
       "      <th>logs_count</th>\n",
       "      <th>city</th>\n",
       "      <th>bd</th>\n",
       "      <th>gender</th>\n",
       "      <th>registered_via</th>\n",
       "      <th>registration_init_time</th>\n",
       "      <th>expiration_date</th>\n",
       "      <th>trains_count</th>\n",
       "    </tr>\n",
       "  </thead>\n",
       "  <tbody>\n",
       "    <tr>\n",
       "      <th>0</th>\n",
       "      <td>0</td>\n",
       "      <td>waLDQMmcOu2jLDaV1ddDkgCrB/jl6sD66Xzs0Vqax1Y=</td>\n",
       "      <td>1</td>\n",
       "      <td>0.0</td>\n",
       "      <td>18.0</td>\n",
       "      <td>36.0</td>\n",
       "      <td>2.0</td>\n",
       "      <td>9.0</td>\n",
       "      <td>20050406.0</td>\n",
       "      <td>20170907.0</td>\n",
       "      <td>2</td>\n",
       "    </tr>\n",
       "    <tr>\n",
       "      <th>1</th>\n",
       "      <td>1</td>\n",
       "      <td>QA7uiXy8vIbUSPOkCf9RwQ3FsT8jVq2OxDr8zqa7bRQ=</td>\n",
       "      <td>1</td>\n",
       "      <td>0.0</td>\n",
       "      <td>10.0</td>\n",
       "      <td>38.0</td>\n",
       "      <td>1.0</td>\n",
       "      <td>9.0</td>\n",
       "      <td>20050407.0</td>\n",
       "      <td>20170321.0</td>\n",
       "      <td>23</td>\n",
       "    </tr>\n",
       "    <tr>\n",
       "      <th>2</th>\n",
       "      <td>2</td>\n",
       "      <td>fGwBva6hikQmTJzrbz/2Ezjm5Cth5jZUNvXigKK2AFA=</td>\n",
       "      <td>1</td>\n",
       "      <td>0.0</td>\n",
       "      <td>11.0</td>\n",
       "      <td>27.0</td>\n",
       "      <td>2.0</td>\n",
       "      <td>9.0</td>\n",
       "      <td>20051016.0</td>\n",
       "      <td>20170203.0</td>\n",
       "      <td>10</td>\n",
       "    </tr>\n",
       "    <tr>\n",
       "      <th>3</th>\n",
       "      <td>3</td>\n",
       "      <td>mT5V8rEpa+8wuqi6x0DoVd3H5icMKkE9Prt49UlmK+4=</td>\n",
       "      <td>1</td>\n",
       "      <td>14.0</td>\n",
       "      <td>13.0</td>\n",
       "      <td>23.0</td>\n",
       "      <td>2.0</td>\n",
       "      <td>9.0</td>\n",
       "      <td>20051102.0</td>\n",
       "      <td>20170926.0</td>\n",
       "      <td>2</td>\n",
       "    </tr>\n",
       "    <tr>\n",
       "      <th>4</th>\n",
       "      <td>4</td>\n",
       "      <td>XaPhtGLk/5UvvOYHcONTwsnH97P4eGECeq+BARGItRw=</td>\n",
       "      <td>1</td>\n",
       "      <td>0.0</td>\n",
       "      <td>3.0</td>\n",
       "      <td>27.0</td>\n",
       "      <td>1.0</td>\n",
       "      <td>9.0</td>\n",
       "      <td>20051228.0</td>\n",
       "      <td>20170927.0</td>\n",
       "      <td>8</td>\n",
       "    </tr>\n",
       "  </tbody>\n",
       "</table>\n",
       "</div>"
      ],
      "text/plain": [
       "   Unnamed: 0                                          msno  is_churn  \\\n",
       "0           0  waLDQMmcOu2jLDaV1ddDkgCrB/jl6sD66Xzs0Vqax1Y=         1   \n",
       "1           1  QA7uiXy8vIbUSPOkCf9RwQ3FsT8jVq2OxDr8zqa7bRQ=         1   \n",
       "2           2  fGwBva6hikQmTJzrbz/2Ezjm5Cth5jZUNvXigKK2AFA=         1   \n",
       "3           3  mT5V8rEpa+8wuqi6x0DoVd3H5icMKkE9Prt49UlmK+4=         1   \n",
       "4           4  XaPhtGLk/5UvvOYHcONTwsnH97P4eGECeq+BARGItRw=         1   \n",
       "\n",
       "   logs_count  city    bd  gender  registered_via  registration_init_time  \\\n",
       "0         0.0  18.0  36.0     2.0             9.0              20050406.0   \n",
       "1         0.0  10.0  38.0     1.0             9.0              20050407.0   \n",
       "2         0.0  11.0  27.0     2.0             9.0              20051016.0   \n",
       "3        14.0  13.0  23.0     2.0             9.0              20051102.0   \n",
       "4         0.0   3.0  27.0     1.0             9.0              20051228.0   \n",
       "\n",
       "   expiration_date  trains_count  \n",
       "0       20170907.0             2  \n",
       "1       20170321.0            23  \n",
       "2       20170203.0            10  \n",
       "3       20170926.0             2  \n",
       "4       20170927.0             8  "
      ]
     },
     "execution_count": 12,
     "metadata": {},
     "output_type": "execute_result"
    }
   ],
   "source": [
    "train.head()"
   ]
  },
  {
   "cell_type": "code",
   "execution_count": 13,
   "metadata": {
    "collapsed": true
   },
   "outputs": [],
   "source": [
    "test = pd.read_csv(\"../middle_files/test_aft_process_2.csv\")"
   ]
  },
  {
   "cell_type": "code",
   "execution_count": 14,
   "metadata": {
    "collapsed": true
   },
   "outputs": [],
   "source": [
    "def transform_df(df):\n",
    "    df = pd.DataFrame(df)\n",
    "    df = df.sort_values(by=['date'], ascending=[False])\n",
    "    df = df.reset_index(drop=True)\n",
    "    df = df.drop_duplicates(subset=['msno'], keep='first')\n",
    "    return df\n",
    "\n",
    "def transform_df2(df):\n",
    "    df = df.sort_values(by=['date'], ascending=[False])\n",
    "    df = df.reset_index(drop=True)\n",
    "    df = df.drop_duplicates(subset=['msno'], keep='first')\n",
    "    return df"
   ]
  },
  {
   "cell_type": "code",
   "execution_count": 25,
   "metadata": {},
   "outputs": [
    {
     "name": "stdout",
     "output_type": "stream",
     "text": [
      "...2 (798884, 10)\n",
      "...2 (992931, 21)\n",
      "...3 (1015410, 10)\n",
      "...3 (992931, 22)\n",
      "...4 (885358, 10)\n",
      "...4 (992931, 23)\n",
      "...5 (901594, 10)\n",
      "...5 (992931, 24)\n",
      "...6 (1017987, 10)\n",
      "...6 (992931, 25)\n",
      "...7 (910762, 10)\n",
      "...7 (992931, 26)\n",
      "...8 (967441, 10)\n",
      "...8 (992931, 27)\n",
      "...9 (1016564, 10)\n",
      "...9 (992931, 28)\n",
      "...10 (764253, 10)\n",
      "...10 (992931, 29)\n",
      "...11 (996236, 10)\n",
      "...11 (992931, 30)\n",
      "...12 (1017684, 10)\n",
      "...12 (992931, 31)\n",
      "...13 (863645, 10)\n",
      "...13 (992931, 32)\n",
      "...14 (1017494, 10)\n",
      "...14 (992931, 33)\n",
      "...15 (1016011, 10)\n",
      "...15 (992931, 34)\n",
      "...16 (919173, 10)\n",
      "...16 (992931, 35)\n",
      "...17 (1015656, 10)\n",
      "...17 (992931, 36)\n",
      "...18 (916158, 10)\n",
      "...18 (992931, 37)\n",
      "...19 (955538, 10)\n",
      "...19 (992931, 38)\n",
      "...20 (1017272, 10)\n",
      "...20 (992931, 39)\n",
      "...21 (949386, 10)\n",
      "...21 (992931, 40)\n",
      "...22 (976474, 10)\n",
      "...22 (992931, 41)\n",
      "...23 (1015618, 10)\n",
      "...23 (992931, 42)\n",
      "...24 (992460, 10)\n",
      "...24 (992931, 43)\n",
      "...25 (1016839, 10)\n",
      "...25 (992931, 44)\n",
      "...26 (970821, 10)\n",
      "...26 (992931, 45)\n",
      "...27 (930274, 10)\n",
      "...27 (992931, 46)\n",
      "...28 (1015248, 10)\n",
      "...28 (992931, 47)\n",
      "...29 (904896, 10)\n",
      "...29 (992931, 48)\n",
      "...30 (878447, 10)\n",
      "...30 (992931, 49)\n",
      "...31 (1017383, 10)\n",
      "...31 (992931, 50)\n",
      "...32 (846814, 10)\n",
      "...32 (992931, 51)\n",
      "...33 (989459, 10)\n",
      "...33 (992931, 52)\n",
      "...34 (1015877, 10)\n",
      "...34 (992931, 53)\n",
      "...35 (839509, 10)\n",
      "...35 (992931, 54)\n",
      "...36 (1015762, 10)\n",
      "...36 (992931, 55)\n",
      "...37 (945568, 10)\n",
      "...37 (992931, 56)\n",
      "...38 (879294, 10)\n",
      "...38 (992931, 57)\n",
      "...39 (1018047, 10)\n",
      "...39 (992931, 58)\n",
      "...40 (888082, 10)\n",
      "...40 (992931, 59)\n",
      "...41 (917020, 10)\n",
      "...41 (992931, 60)\n",
      "...42 (1016616, 10)\n",
      "...42 (992931, 61)\n",
      "...43 (825784, 10)\n",
      "...43 (992931, 62)\n",
      "...44 (970268, 10)\n",
      "...44 (992931, 63)\n",
      "...45 (1017102, 10)\n",
      "...45 (992931, 64)\n",
      "...46 (835253, 10)\n",
      "...46 (992931, 65)\n",
      "...47 (1017778, 10)\n",
      "...47 (992931, 66)\n",
      "...48 (964483, 10)\n",
      "...48 (992931, 67)\n",
      "...49 (827858, 10)\n",
      "...49 (992931, 68)\n",
      "...50 (1015787, 10)\n",
      "...50 (992931, 69)\n",
      "...51 (916643, 10)\n",
      "...51 (992931, 70)\n",
      "...52 (861527, 10)\n",
      "...52 (992931, 71)\n",
      "...53 (1017123, 10)\n",
      "...53 (992931, 72)\n",
      "...54 (861950, 10)\n",
      "...54 (992931, 73)\n",
      "...55 (925486, 10)\n",
      "...55 (992931, 74)\n",
      "...56 (1016256, 10)\n",
      "...56 (992931, 75)\n",
      "...57 (820492, 10)\n",
      "...57 (992931, 76)\n",
      "...58 (1017718, 10)\n",
      "...58 (992931, 77)\n",
      "...59 (985589, 10)\n",
      "...59 (992931, 78)\n",
      "...60 (911392, 10)\n",
      "...60 (992931, 79)\n",
      "...61 (1016112, 10)\n",
      "...61 (992931, 80)\n",
      "...62 (922497, 10)\n",
      "...62 (992931, 81)\n",
      "...63 (903070, 10)\n",
      "...63 (992931, 82)\n",
      "...64 (1017492, 10)\n",
      "...64 (992931, 83)\n",
      "...65 (887216, 10)\n",
      "...65 (992931, 84)\n",
      "...66 (987988, 10)\n",
      "...66 (992931, 85)\n",
      "...67 (1015627, 10)\n",
      "...67 (992931, 86)\n",
      "...68 (884473, 10)\n",
      "...68 (992931, 87)\n",
      "...69 (1016232, 10)\n",
      "...69 (992931, 88)\n",
      "...70 (1006933, 10)\n",
      "...70 (992931, 89)\n",
      "...71 (934179, 10)\n",
      "...71 (992931, 90)\n",
      "...72 (1017615, 10)\n",
      "...72 (992931, 91)\n",
      "...73 (887145, 10)\n",
      "...73 (992931, 92)\n",
      "...74 (889083, 10)\n",
      "...74 (992931, 93)\n",
      "...75 (1015946, 10)\n",
      "...75 (992931, 94)\n",
      "...76 (842603, 10)\n",
      "...76 (992931, 95)\n",
      "...77 (898242, 10)\n",
      "...77 (992931, 96)\n",
      "...78 (1017716, 10)\n",
      "...78 (992931, 97)\n",
      "...79 (429234, 10)\n",
      "...79 (992931, 98)\n"
     ]
    }
   ],
   "source": [
    "# user_logs = pd.read_csv(\"../data/user_log_split_1.csv\")\n",
    "# train = pd.merge(train, user_logs, how='left', on='msno')\n",
    "# test = pd.merge(test, user_logs, how='left', on='msno')\n",
    "# train = transform_df(train)\n",
    "# test = transform_df(test)\n",
    "# user_logs = []\n",
    "for i in range(2,80):\n",
    "    user_logs = pd.read_csv(\n",
    "        \"../data/user_log_split_\" + str(i) + \".csv\"\n",
    "    )\n",
    "    user_logs = transform_df2(user_logs)\n",
    "    train = pd.merge(train, user_logs, how='left', on=['msno','date','num_25','num_50','num_75','num_985','num_100','num_unq','total_secs'])\n",
    "    print('...'+str(i), user_logs.shape)\n",
    "    test = pd.merge(test, user_logs, how='left', on=['msno','date','num_25','num_50','num_75','num_985','num_100','num_unq','total_secs'])\n",
    "    train = transform_df(train)\n",
    "    print('...'+str(i), train.shape)\n",
    "    test = transform_df(test)\n",
    "    user_logs = []\n"
   ]
  },
  {
   "cell_type": "code",
   "execution_count": 7,
   "metadata": {
    "collapsed": true
   },
   "outputs": [],
   "source": [
    "test['']"
   ]
  },
  {
   "cell_type": "code",
   "execution_count": 8,
   "metadata": {},
   "outputs": [
    {
     "data": {
      "text/html": [
       "<div>\n",
       "<style>\n",
       "    .dataframe thead tr:only-child th {\n",
       "        text-align: right;\n",
       "    }\n",
       "\n",
       "    .dataframe thead th {\n",
       "        text-align: left;\n",
       "    }\n",
       "\n",
       "    .dataframe tbody tr th {\n",
       "        vertical-align: top;\n",
       "    }\n",
       "</style>\n",
       "<table border=\"1\" class=\"dataframe\">\n",
       "  <thead>\n",
       "    <tr style=\"text-align: right;\">\n",
       "      <th></th>\n",
       "      <th>Unnamed: 0</th>\n",
       "      <th>msno</th>\n",
       "      <th>date</th>\n",
       "      <th>num_25</th>\n",
       "      <th>num_50</th>\n",
       "      <th>num_75</th>\n",
       "      <th>num_985</th>\n",
       "      <th>num_100</th>\n",
       "      <th>num_unq</th>\n",
       "      <th>total_secs</th>\n",
       "    </tr>\n",
       "  </thead>\n",
       "  <tbody>\n",
       "    <tr>\n",
       "      <th>0</th>\n",
       "      <td>0</td>\n",
       "      <td>rxIP2f2aN0rYNp+toI0Obt/N/FYQX8hcO1fTmmy2h34=</td>\n",
       "      <td>20150513</td>\n",
       "      <td>0</td>\n",
       "      <td>0</td>\n",
       "      <td>0</td>\n",
       "      <td>0</td>\n",
       "      <td>1</td>\n",
       "      <td>1</td>\n",
       "      <td>280.335</td>\n",
       "    </tr>\n",
       "    <tr>\n",
       "      <th>1</th>\n",
       "      <td>1</td>\n",
       "      <td>rxIP2f2aN0rYNp+toI0Obt/N/FYQX8hcO1fTmmy2h34=</td>\n",
       "      <td>20150709</td>\n",
       "      <td>9</td>\n",
       "      <td>1</td>\n",
       "      <td>0</td>\n",
       "      <td>0</td>\n",
       "      <td>7</td>\n",
       "      <td>11</td>\n",
       "      <td>1658.948</td>\n",
       "    </tr>\n",
       "    <tr>\n",
       "      <th>2</th>\n",
       "      <td>2</td>\n",
       "      <td>yxiEWwE9VR5utpUecLxVdQ5B7NysUPfrNtGINaM2zA8=</td>\n",
       "      <td>20150105</td>\n",
       "      <td>3</td>\n",
       "      <td>3</td>\n",
       "      <td>0</td>\n",
       "      <td>0</td>\n",
       "      <td>68</td>\n",
       "      <td>36</td>\n",
       "      <td>17364.956</td>\n",
       "    </tr>\n",
       "    <tr>\n",
       "      <th>3</th>\n",
       "      <td>3</td>\n",
       "      <td>yxiEWwE9VR5utpUecLxVdQ5B7NysUPfrNtGINaM2zA8=</td>\n",
       "      <td>20150306</td>\n",
       "      <td>1</td>\n",
       "      <td>0</td>\n",
       "      <td>1</td>\n",
       "      <td>1</td>\n",
       "      <td>97</td>\n",
       "      <td>27</td>\n",
       "      <td>24667.317</td>\n",
       "    </tr>\n",
       "    <tr>\n",
       "      <th>4</th>\n",
       "      <td>4</td>\n",
       "      <td>yxiEWwE9VR5utpUecLxVdQ5B7NysUPfrNtGINaM2zA8=</td>\n",
       "      <td>20150501</td>\n",
       "      <td>3</td>\n",
       "      <td>0</td>\n",
       "      <td>0</td>\n",
       "      <td>0</td>\n",
       "      <td>38</td>\n",
       "      <td>38</td>\n",
       "      <td>9649.029</td>\n",
       "    </tr>\n",
       "  </tbody>\n",
       "</table>\n",
       "</div>"
      ],
      "text/plain": [
       "   Unnamed: 0                                          msno      date  num_25  \\\n",
       "0           0  rxIP2f2aN0rYNp+toI0Obt/N/FYQX8hcO1fTmmy2h34=  20150513       0   \n",
       "1           1  rxIP2f2aN0rYNp+toI0Obt/N/FYQX8hcO1fTmmy2h34=  20150709       9   \n",
       "2           2  yxiEWwE9VR5utpUecLxVdQ5B7NysUPfrNtGINaM2zA8=  20150105       3   \n",
       "3           3  yxiEWwE9VR5utpUecLxVdQ5B7NysUPfrNtGINaM2zA8=  20150306       1   \n",
       "4           4  yxiEWwE9VR5utpUecLxVdQ5B7NysUPfrNtGINaM2zA8=  20150501       3   \n",
       "\n",
       "   num_50  num_75  num_985  num_100  num_unq  total_secs  \n",
       "0       0       0        0        1        1     280.335  \n",
       "1       1       0        0        7       11    1658.948  \n",
       "2       3       0        0       68       36   17364.956  \n",
       "3       0       1        1       97       27   24667.317  \n",
       "4       0       0        0       38       38    9649.029  "
      ]
     },
     "execution_count": 8,
     "metadata": {},
     "output_type": "execute_result"
    }
   ],
   "source": [
    "user_logs_temp.head()"
   ]
  },
  {
   "cell_type": "code",
   "execution_count": 9,
   "metadata": {},
   "outputs": [
    {
     "data": {
      "text/html": [
       "<div>\n",
       "<style>\n",
       "    .dataframe thead tr:only-child th {\n",
       "        text-align: right;\n",
       "    }\n",
       "\n",
       "    .dataframe thead th {\n",
       "        text-align: left;\n",
       "    }\n",
       "\n",
       "    .dataframe tbody tr th {\n",
       "        vertical-align: top;\n",
       "    }\n",
       "</style>\n",
       "<table border=\"1\" class=\"dataframe\">\n",
       "  <thead>\n",
       "    <tr style=\"text-align: right;\">\n",
       "      <th></th>\n",
       "      <th>Unnamed: 0_x</th>\n",
       "      <th>msno</th>\n",
       "      <th>is_churn</th>\n",
       "      <th>logs_count</th>\n",
       "      <th>city</th>\n",
       "      <th>bd</th>\n",
       "      <th>gender</th>\n",
       "      <th>registered_via</th>\n",
       "      <th>registration_init_time</th>\n",
       "      <th>expiration_date</th>\n",
       "      <th>...</th>\n",
       "      <th>total_secs_x</th>\n",
       "      <th>Unnamed: 0</th>\n",
       "      <th>date_y</th>\n",
       "      <th>num_25_y</th>\n",
       "      <th>num_50_y</th>\n",
       "      <th>num_75_y</th>\n",
       "      <th>num_985_y</th>\n",
       "      <th>num_100_y</th>\n",
       "      <th>num_unq_y</th>\n",
       "      <th>total_secs_y</th>\n",
       "    </tr>\n",
       "  </thead>\n",
       "  <tbody>\n",
       "    <tr>\n",
       "      <th>0</th>\n",
       "      <td>992929</td>\n",
       "      <td>iNV99F1Rml7EMndOeLI0Y/iek6aCj/Qp1Z4dZvR+sak=</td>\n",
       "      <td>0</td>\n",
       "      <td>0.0</td>\n",
       "      <td>1.0</td>\n",
       "      <td>0.0</td>\n",
       "      <td>0.0</td>\n",
       "      <td>7.0</td>\n",
       "      <td>20170215.0</td>\n",
       "      <td>20170914.0</td>\n",
       "      <td>...</td>\n",
       "      <td>3599.979</td>\n",
       "      <td>NaN</td>\n",
       "      <td>NaN</td>\n",
       "      <td>NaN</td>\n",
       "      <td>NaN</td>\n",
       "      <td>NaN</td>\n",
       "      <td>NaN</td>\n",
       "      <td>NaN</td>\n",
       "      <td>NaN</td>\n",
       "      <td>NaN</td>\n",
       "    </tr>\n",
       "    <tr>\n",
       "      <th>1</th>\n",
       "      <td>90358</td>\n",
       "      <td>Wy0ye/yCKRrYrJMdIXr61qIUcmoLTLBO0EMKcEm++hs=</td>\n",
       "      <td>0</td>\n",
       "      <td>4.0</td>\n",
       "      <td>1.0</td>\n",
       "      <td>0.0</td>\n",
       "      <td>0.0</td>\n",
       "      <td>4.0</td>\n",
       "      <td>20160413.0</td>\n",
       "      <td>20170914.0</td>\n",
       "      <td>...</td>\n",
       "      <td>6896.102</td>\n",
       "      <td>NaN</td>\n",
       "      <td>NaN</td>\n",
       "      <td>NaN</td>\n",
       "      <td>NaN</td>\n",
       "      <td>NaN</td>\n",
       "      <td>NaN</td>\n",
       "      <td>NaN</td>\n",
       "      <td>NaN</td>\n",
       "      <td>NaN</td>\n",
       "    </tr>\n",
       "    <tr>\n",
       "      <th>2</th>\n",
       "      <td>781168</td>\n",
       "      <td>o1eeo3ak/6hNgpg3KLjAtHKUvhPQ3anUv96HVR17/Fc=</td>\n",
       "      <td>0</td>\n",
       "      <td>0.0</td>\n",
       "      <td>1.0</td>\n",
       "      <td>0.0</td>\n",
       "      <td>0.0</td>\n",
       "      <td>7.0</td>\n",
       "      <td>20131214.0</td>\n",
       "      <td>20170916.0</td>\n",
       "      <td>...</td>\n",
       "      <td>7344.818</td>\n",
       "      <td>NaN</td>\n",
       "      <td>NaN</td>\n",
       "      <td>NaN</td>\n",
       "      <td>NaN</td>\n",
       "      <td>NaN</td>\n",
       "      <td>NaN</td>\n",
       "      <td>NaN</td>\n",
       "      <td>NaN</td>\n",
       "      <td>NaN</td>\n",
       "    </tr>\n",
       "    <tr>\n",
       "      <th>3</th>\n",
       "      <td>942615</td>\n",
       "      <td>Ef06atu3tFeUuUXjeGdqbk8+9vtjwQtk3N78bojfkxU=</td>\n",
       "      <td>0</td>\n",
       "      <td>0.0</td>\n",
       "      <td>13.0</td>\n",
       "      <td>29.0</td>\n",
       "      <td>1.0</td>\n",
       "      <td>9.0</td>\n",
       "      <td>20110109.0</td>\n",
       "      <td>20170920.0</td>\n",
       "      <td>...</td>\n",
       "      <td>271.255</td>\n",
       "      <td>NaN</td>\n",
       "      <td>NaN</td>\n",
       "      <td>NaN</td>\n",
       "      <td>NaN</td>\n",
       "      <td>NaN</td>\n",
       "      <td>NaN</td>\n",
       "      <td>NaN</td>\n",
       "      <td>NaN</td>\n",
       "      <td>NaN</td>\n",
       "    </tr>\n",
       "    <tr>\n",
       "      <th>4</th>\n",
       "      <td>781171</td>\n",
       "      <td>vBI64eAJHU85uPUzRZ0PzEqulAzRFBRiAuvFVwtHfj0=</td>\n",
       "      <td>0</td>\n",
       "      <td>5.0</td>\n",
       "      <td>1.0</td>\n",
       "      <td>0.0</td>\n",
       "      <td>1.0</td>\n",
       "      <td>3.0</td>\n",
       "      <td>20131215.0</td>\n",
       "      <td>20170707.0</td>\n",
       "      <td>...</td>\n",
       "      <td>9551.416</td>\n",
       "      <td>NaN</td>\n",
       "      <td>NaN</td>\n",
       "      <td>NaN</td>\n",
       "      <td>NaN</td>\n",
       "      <td>NaN</td>\n",
       "      <td>NaN</td>\n",
       "      <td>NaN</td>\n",
       "      <td>NaN</td>\n",
       "      <td>NaN</td>\n",
       "    </tr>\n",
       "  </tbody>\n",
       "</table>\n",
       "<p>5 rows × 29 columns</p>\n",
       "</div>"
      ],
      "text/plain": [
       "   Unnamed: 0_x                                          msno  is_churn  \\\n",
       "0        992929  iNV99F1Rml7EMndOeLI0Y/iek6aCj/Qp1Z4dZvR+sak=         0   \n",
       "1         90358  Wy0ye/yCKRrYrJMdIXr61qIUcmoLTLBO0EMKcEm++hs=         0   \n",
       "2        781168  o1eeo3ak/6hNgpg3KLjAtHKUvhPQ3anUv96HVR17/Fc=         0   \n",
       "3        942615  Ef06atu3tFeUuUXjeGdqbk8+9vtjwQtk3N78bojfkxU=         0   \n",
       "4        781171  vBI64eAJHU85uPUzRZ0PzEqulAzRFBRiAuvFVwtHfj0=         0   \n",
       "\n",
       "   logs_count  city    bd  gender  registered_via  registration_init_time  \\\n",
       "0         0.0   1.0   0.0     0.0             7.0              20170215.0   \n",
       "1         4.0   1.0   0.0     0.0             4.0              20160413.0   \n",
       "2         0.0   1.0   0.0     0.0             7.0              20131214.0   \n",
       "3         0.0  13.0  29.0     1.0             9.0              20110109.0   \n",
       "4         5.0   1.0   0.0     1.0             3.0              20131215.0   \n",
       "\n",
       "   expiration_date      ...       total_secs_x  Unnamed: 0  date_y  num_25_y  \\\n",
       "0       20170914.0      ...           3599.979         NaN     NaN       NaN   \n",
       "1       20170914.0      ...           6896.102         NaN     NaN       NaN   \n",
       "2       20170916.0      ...           7344.818         NaN     NaN       NaN   \n",
       "3       20170920.0      ...            271.255         NaN     NaN       NaN   \n",
       "4       20170707.0      ...           9551.416         NaN     NaN       NaN   \n",
       "\n",
       "   num_50_y  num_75_y  num_985_y  num_100_y  num_unq_y  total_secs_y  \n",
       "0       NaN       NaN        NaN        NaN        NaN           NaN  \n",
       "1       NaN       NaN        NaN        NaN        NaN           NaN  \n",
       "2       NaN       NaN        NaN        NaN        NaN           NaN  \n",
       "3       NaN       NaN        NaN        NaN        NaN           NaN  \n",
       "4       NaN       NaN        NaN        NaN        NaN           NaN  \n",
       "\n",
       "[5 rows x 29 columns]"
      ]
     },
     "execution_count": 9,
     "metadata": {},
     "output_type": "execute_result"
    }
   ],
   "source": [
    "train.head()"
   ]
  },
  {
   "cell_type": "code",
   "execution_count": 26,
   "metadata": {},
   "outputs": [
    {
     "data": {
      "text/plain": [
       "(992931, 98)"
      ]
     },
     "execution_count": 26,
     "metadata": {},
     "output_type": "execute_result"
    }
   ],
   "source": [
    "train.shape"
   ]
  },
  {
   "cell_type": "code",
   "execution_count": 29,
   "metadata": {},
   "outputs": [
    {
     "data": {
      "text/plain": [
       "Index(['msno', 'is_churn', 'logs_count', 'city', 'bd', 'gender',\n",
       "       'registered_via', 'registration_init_time', 'expiration_date',\n",
       "       'trains_count', 'Unnamed: 0_x', 'date', 'num_25', 'num_50', 'num_75',\n",
       "       'num_985', 'num_100', 'num_unq', 'total_secs', 'Unnamed: 0_y',\n",
       "       'Unnamed: 0_x', 'Unnamed: 0_y', 'Unnamed: 0_x', 'Unnamed: 0_y',\n",
       "       'Unnamed: 0_x', 'Unnamed: 0_y', 'Unnamed: 0_x', 'Unnamed: 0_y',\n",
       "       'Unnamed: 0_x', 'Unnamed: 0_y', 'Unnamed: 0_x', 'Unnamed: 0_y',\n",
       "       'Unnamed: 0_x', 'Unnamed: 0_y', 'Unnamed: 0_x', 'Unnamed: 0_y',\n",
       "       'Unnamed: 0_x', 'Unnamed: 0_y', 'Unnamed: 0_x', 'Unnamed: 0_y',\n",
       "       'Unnamed: 0_x', 'Unnamed: 0_y', 'Unnamed: 0_x', 'Unnamed: 0_y',\n",
       "       'Unnamed: 0_x', 'Unnamed: 0_y', 'Unnamed: 0_x', 'Unnamed: 0_y',\n",
       "       'Unnamed: 0_x', 'Unnamed: 0_y', 'Unnamed: 0_x', 'Unnamed: 0_y',\n",
       "       'Unnamed: 0_x', 'Unnamed: 0_y', 'Unnamed: 0_x', 'Unnamed: 0_y',\n",
       "       'Unnamed: 0_x', 'Unnamed: 0_y', 'Unnamed: 0_x', 'Unnamed: 0_y',\n",
       "       'Unnamed: 0_x', 'Unnamed: 0_y', 'Unnamed: 0_x', 'Unnamed: 0_y',\n",
       "       'Unnamed: 0_x', 'Unnamed: 0_y', 'Unnamed: 0_x', 'Unnamed: 0_y',\n",
       "       'Unnamed: 0_x', 'Unnamed: 0_y', 'Unnamed: 0_x', 'Unnamed: 0_y',\n",
       "       'Unnamed: 0_x', 'Unnamed: 0_y', 'Unnamed: 0_x', 'Unnamed: 0_y',\n",
       "       'Unnamed: 0_x', 'Unnamed: 0_y', 'Unnamed: 0_x', 'Unnamed: 0_y',\n",
       "       'Unnamed: 0_x', 'Unnamed: 0_y', 'Unnamed: 0_x', 'Unnamed: 0_y',\n",
       "       'Unnamed: 0_x', 'Unnamed: 0_y', 'Unnamed: 0_x', 'Unnamed: 0_y',\n",
       "       'Unnamed: 0_x', 'Unnamed: 0_y', 'Unnamed: 0_x', 'Unnamed: 0_y',\n",
       "       'Unnamed: 0_x', 'Unnamed: 0_y', 'Unnamed: 0_x', 'Unnamed: 0_y',\n",
       "       'Unnamed: 0_x', 'Unnamed: 0_y'],\n",
       "      dtype='object')"
      ]
     },
     "execution_count": 29,
     "metadata": {},
     "output_type": "execute_result"
    }
   ],
   "source": [
    "train.columns"
   ]
  },
  {
   "cell_type": "code",
   "execution_count": 30,
   "metadata": {
    "collapsed": true
   },
   "outputs": [],
   "source": [
    "train =  train[['msno', 'is_churn', 'logs_count', 'city', 'bd','gender','registered_via',\n",
    "               'registration_init_time', 'expiration_date','trains_count','date','num_25',\n",
    "                'num_50','num_75','num_985', 'num_100', 'num_unq', 'total_secs'\n",
    "               ]]"
   ]
  },
  {
   "cell_type": "code",
   "execution_count": 32,
   "metadata": {},
   "outputs": [
    {
     "data": {
      "text/plain": [
       "Index(['msno', 'is_churn', 'logs_count', 'city', 'bd', 'gender',\n",
       "       'registered_via', 'registration_init_time', 'expiration_date',\n",
       "       'Unnamed: 0_x', 'date', 'num_25', 'num_50', 'num_75', 'num_985',\n",
       "       'num_100', 'num_unq', 'total_secs', 'Unnamed: 0_y', 'Unnamed: 0_x',\n",
       "       'Unnamed: 0_y', 'Unnamed: 0_x', 'Unnamed: 0_y', 'Unnamed: 0_x',\n",
       "       'Unnamed: 0_y', 'Unnamed: 0_x', 'Unnamed: 0_y', 'Unnamed: 0_x',\n",
       "       'Unnamed: 0_y', 'Unnamed: 0_x', 'Unnamed: 0_y', 'Unnamed: 0_x',\n",
       "       'Unnamed: 0_y', 'Unnamed: 0_x', 'Unnamed: 0_y', 'Unnamed: 0_x',\n",
       "       'Unnamed: 0_y', 'Unnamed: 0_x', 'Unnamed: 0_y', 'Unnamed: 0_x',\n",
       "       'Unnamed: 0_y', 'Unnamed: 0_x', 'Unnamed: 0_y', 'Unnamed: 0_x',\n",
       "       'Unnamed: 0_y', 'Unnamed: 0_x', 'Unnamed: 0_y', 'Unnamed: 0_x',\n",
       "       'Unnamed: 0_y', 'Unnamed: 0_x', 'Unnamed: 0_y', 'Unnamed: 0_x',\n",
       "       'Unnamed: 0_y', 'Unnamed: 0_x', 'Unnamed: 0_y', 'Unnamed: 0_x',\n",
       "       'Unnamed: 0_y', 'Unnamed: 0_x', 'Unnamed: 0_y', 'Unnamed: 0_x',\n",
       "       'Unnamed: 0_y', 'Unnamed: 0_x', 'Unnamed: 0_y', 'Unnamed: 0_x',\n",
       "       'Unnamed: 0_y', 'Unnamed: 0_x', 'Unnamed: 0_y', 'Unnamed: 0_x',\n",
       "       'Unnamed: 0_y', 'Unnamed: 0_x', 'Unnamed: 0_y', 'Unnamed: 0_x',\n",
       "       'Unnamed: 0_y', 'Unnamed: 0_x', 'Unnamed: 0_y', 'Unnamed: 0_x',\n",
       "       'Unnamed: 0_y', 'Unnamed: 0_x', 'Unnamed: 0_y', 'Unnamed: 0_x',\n",
       "       'Unnamed: 0_y', 'Unnamed: 0_x', 'Unnamed: 0_y', 'Unnamed: 0_x',\n",
       "       'Unnamed: 0_y', 'Unnamed: 0_x', 'Unnamed: 0_y', 'Unnamed: 0_x',\n",
       "       'Unnamed: 0_y', 'Unnamed: 0_x', 'Unnamed: 0_y', 'Unnamed: 0_x',\n",
       "       'Unnamed: 0_y', 'Unnamed: 0_x', 'Unnamed: 0_y', 'Unnamed: 0'],\n",
       "      dtype='object')"
      ]
     },
     "execution_count": 32,
     "metadata": {},
     "output_type": "execute_result"
    }
   ],
   "source": [
    "# test.columns"
   ]
  },
  {
   "cell_type": "code",
   "execution_count": 34,
   "metadata": {},
   "outputs": [],
   "source": [
    "test =  test[['msno', 'is_churn', 'logs_count', 'city', 'bd','gender','registered_via',\n",
    "               'registration_init_time', 'expiration_date','date','num_25',\n",
    "                'num_50','num_75','num_985', 'num_100', 'num_unq', 'total_secs'\n",
    "               ]]"
   ]
  },
  {
   "cell_type": "code",
   "execution_count": 36,
   "metadata": {},
   "outputs": [],
   "source": [
    "train.to_csv(\"G:\\PythonProjects\\KaggleOrOthersJourney\\WSDM-KKBox'sChurnPredictionChallenge\\middle_files/train_aft_process_3.csv\")"
   ]
  },
  {
   "cell_type": "code",
   "execution_count": 37,
   "metadata": {
    "collapsed": true
   },
   "outputs": [],
   "source": [
    "test.to_csv(\"G:\\PythonProjects\\KaggleOrOthersJourney\\WSDM-KKBox'sChurnPredictionChallenge\\middle_files/test_aft_process_3.csv\")"
   ]
  },
  {
   "cell_type": "code",
   "execution_count": 40,
   "metadata": {
    "collapsed": true
   },
   "outputs": [],
   "source": [
    "# train = train.fillna(0)\n",
    "# test = test.fillna(0)\n",
    "# cols = [c for c in train.columns if c not in ['is_churn','msno']]\n",
    "test['trains_count'] = train['trains_count']"
   ]
  },
  {
   "cell_type": "code",
   "execution_count": null,
   "metadata": {},
   "outputs": [
    {
     "name": "stdout",
     "output_type": "stream",
     "text": [
      "[0]\ttrain-log_loss:0.609978\tvalid-log_loss:0.609998\n",
      "Multiple eval metrics have been passed: 'valid-log_loss' will be used for early stopping.\n",
      "\n",
      "Will train until valid-log_loss hasn't improved in 50 rounds.\n",
      "[50]\ttrain-log_loss:0.110981\tvalid-log_loss:0.11221\n",
      "[100]\ttrain-log_loss:0.107532\tvalid-log_loss:0.11008\n"
     ]
    }
   ],
   "source": [
    "def xgb_score(preds, dtrain):\n",
    "    labels = dtrain.get_label()\n",
    "    return 'log_loss', metrics.log_loss(labels, preds)\n",
    "\n",
    "fold = 1\n",
    "for i in range(fold):\n",
    "    params = {\n",
    "        'eta': 0.1, \n",
    "        'max_depth': 7,\n",
    "        'objective': 'binary:logistic',\n",
    "        'eval_metric': 'logloss',\n",
    "        'seed': i,\n",
    "        'silent': True\n",
    "    }\n",
    "    x1, x2, y1, y2 = model_selection.train_test_split(train[cols], train['is_churn'], test_size=0.3, random_state=i)\n",
    "    watchlist = [(xgb.DMatrix(x1, y1), 'train'), (xgb.DMatrix(x2, y2), 'valid')]\n",
    "    model = xgb.train(params, xgb.DMatrix(x1, y1), 150,  watchlist, feval=xgb_score, maximize=False, verbose_eval=50, early_stopping_rounds=50) #use 1500\n",
    "    if i != 0:\n",
    "        pred += model.predict(xgb.DMatrix(test[cols]), ntree_limit=model.best_ntree_limit)\n",
    "    else:\n",
    "        pred = model.predict(xgb.DMatrix(test[cols]), ntree_limit=model.best_ntree_limit)"
   ]
  },
  {
   "cell_type": "code",
   "execution_count": null,
   "metadata": {
    "collapsed": true
   },
   "outputs": [],
   "source": [
    "pred /= fold\n",
    "test['is_churn'] = pred.clip(0.0000001, 0.999999)\n",
    "test[['msno','is_churn']].to_csv('submission4.csv.gz', index=False, compression='gzip')"
   ]
  }
 ],
 "metadata": {
  "kernelspec": {
   "display_name": "Python 3",
   "language": "python",
   "name": "python3"
  },
  "language_info": {
   "codemirror_mode": {
    "name": "ipython",
    "version": 3
   },
   "file_extension": ".py",
   "mimetype": "text/x-python",
   "name": "python",
   "nbconvert_exporter": "python",
   "pygments_lexer": "ipython3",
   "version": "3.6.1"
  }
 },
 "nbformat": 4,
 "nbformat_minor": 1
}

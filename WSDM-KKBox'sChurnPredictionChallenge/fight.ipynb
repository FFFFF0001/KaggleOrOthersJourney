{
 "cells": [
  {
   "cell_type": "markdown",
   "metadata": {
    "collapsed": true
   },
   "source": [
    "# 1.数据介绍\n",
    "数据包括五个不同的文件，四个文件包括用户的id和信息\n",
    "* 在train.csv中我们可以看到用户的id和这个用户是否流失\n",
    "* 在transactions.csv文件中是用户的交易记录和此交易是否被取消\n",
    "* user_logs.csv文件是用户的行为日志文件，包括用户听了什么歌听了多久等信息\n",
    "* members.csv文件是用户信息文件，包括用户年龄、城市等\n",
    "* sample_submission_zero.csv文件是测试集"
   ]
  },
  {
   "cell_type": "markdown",
   "metadata": {},
   "source": [
    "# 2.读取数据\n",
    "因为个别数据集过大，所以需要使用特殊的方法，对于读取大文件，一般办法有：\n",
    "* 分块读取，可以使用pandas的chunksize来分块读取（但用户日志文件将近28G，仍人需要大量内存，16G比较稳妥）\n",
    "* 使用Spark和Hadoop\n",
    "* 借助数据库\n",
    "\n",
    "这里我采用的是pandas将大文件分割成数个小文件，逐个击破"
   ]
  },
  {
   "cell_type": "code",
   "execution_count": 1,
   "metadata": {},
   "outputs": [],
   "source": [
    "import pandas as pd"
   ]
  },
  {
   "cell_type": "code",
   "execution_count": 2,
   "metadata": {},
   "outputs": [],
   "source": [
    "# chunksize = pd.read_csv('B:\\PythonPratices\\kaggle\\liushi/user_logs.csv', chunksize=5000000)\n",
    "# i = 0\n",
    "# for chunk in chunksize:\n",
    "#     i += 1\n",
    "#     try:\n",
    "#         chunk.to_csv('B:/PythonPratices/kaggle/liushi/user_log_split_' + str(i)+'.csv')\n",
    "#         print(str(i)+\"号文件写入成功\") \n",
    "#     except Exception as e:\n",
    "#         print(str(i)+\"号文件写入失败\")   "
   ]
  },
  {
   "cell_type": "code",
   "execution_count": 3,
   "metadata": {},
   "outputs": [],
   "source": [
    "# chunksize = pd.read_csv('B:\\PythonPratices\\kaggle\\liushi/transactions.csv', chunksize=500000)\n",
    "# transactions = pd.DataFrame()\n",
    "# for chunk in chunksize:\n",
    "#     transactions = pd.concat([chunk, transactions], ignore_index=True)\n",
    "#     pd.merge(members, transactions.drop_duplicates(), on='msno', how='left')"
   ]
  },
  {
   "cell_type": "markdown",
   "metadata": {},
   "source": [
    "# 3.文件数据结构和内容探索"
   ]
  },
  {
   "cell_type": "markdown",
   "metadata": {},
   "source": [
    "## 3.1 train.csv"
   ]
  },
  {
   "cell_type": "code",
   "execution_count": 5,
   "metadata": {},
   "outputs": [],
   "source": [
    "train_data = pd.read_csv(\"G:\\PythonProjects\\KaggleOrOthersJourney\\WSDM-KKBox'sChurnPredictionChallenge\\data/train.csv\")"
   ]
  },
  {
   "cell_type": "code",
   "execution_count": 6,
   "metadata": {},
   "outputs": [
    {
     "data": {
      "text/plain": [
       "msno        992931\nis_churn    992931\ndtype: int64"
      ]
     },
     "execution_count": 6,
     "metadata": {},
     "output_type": "execute_result"
    }
   ],
   "source": [
    "train_data.count()"
   ]
  },
  {
   "cell_type": "code",
   "execution_count": 7,
   "metadata": {
    "collapsed": false
   },
   "outputs": [
    {
     "name": "stdout",
     "output_type": "stream",
     "text": [
      "<class 'pandas.core.frame.DataFrame'>\nRangeIndex: 992931 entries, 0 to 992930\nData columns (total 2 columns):\nmsno        992931 non-null object\nis_churn    992931 non-null int64\ndtypes: int64(1), object(1)\nmemory usage: 15.2+ MB\n"
     ]
    }
   ],
   "source": [
    "train_data.info()"
   ]
  },
  {
   "cell_type": "code",
   "execution_count": 8,
   "metadata": {},
   "outputs": [
    {
     "data": {
      "text/html": [
       "<div>\n",
       "<style>\n",
       "    .dataframe thead tr:only-child th {\n",
       "        text-align: right;\n",
       "    }\n",
       "\n",
       "    .dataframe thead th {\n",
       "        text-align: left;\n",
       "    }\n",
       "\n",
       "    .dataframe tbody tr th {\n",
       "        vertical-align: top;\n",
       "    }\n",
       "</style>\n",
       "<table border=\"1\" class=\"dataframe\">\n",
       "  <thead>\n",
       "    <tr style=\"text-align: right;\">\n",
       "      <th></th>\n",
       "      <th>msno</th>\n",
       "      <th>is_churn</th>\n",
       "    </tr>\n",
       "  </thead>\n",
       "  <tbody>\n",
       "    <tr>\n",
       "      <th>0</th>\n",
       "      <td>waLDQMmcOu2jLDaV1ddDkgCrB/jl6sD66Xzs0Vqax1Y=</td>\n",
       "      <td>1</td>\n",
       "    </tr>\n",
       "    <tr>\n",
       "      <th>1</th>\n",
       "      <td>QA7uiXy8vIbUSPOkCf9RwQ3FsT8jVq2OxDr8zqa7bRQ=</td>\n",
       "      <td>1</td>\n",
       "    </tr>\n",
       "    <tr>\n",
       "      <th>2</th>\n",
       "      <td>fGwBva6hikQmTJzrbz/2Ezjm5Cth5jZUNvXigKK2AFA=</td>\n",
       "      <td>1</td>\n",
       "    </tr>\n",
       "    <tr>\n",
       "      <th>3</th>\n",
       "      <td>mT5V8rEpa+8wuqi6x0DoVd3H5icMKkE9Prt49UlmK+4=</td>\n",
       "      <td>1</td>\n",
       "    </tr>\n",
       "    <tr>\n",
       "      <th>4</th>\n",
       "      <td>XaPhtGLk/5UvvOYHcONTwsnH97P4eGECeq+BARGItRw=</td>\n",
       "      <td>1</td>\n",
       "    </tr>\n",
       "    <tr>\n",
       "      <th>5</th>\n",
       "      <td>GBy8qSz16X5iYWD+3CMxv/Hm6OPSrXBYtmbnlRtknW0=</td>\n",
       "      <td>1</td>\n",
       "    </tr>\n",
       "    <tr>\n",
       "      <th>6</th>\n",
       "      <td>lYLh7TdkWpIoQs3i3o6mIjLH8/IEgMWP9r7OpsLX0Vo=</td>\n",
       "      <td>1</td>\n",
       "    </tr>\n",
       "    <tr>\n",
       "      <th>7</th>\n",
       "      <td>T0FF6lumjKcqEO0O+tUH2ytc+Kb9EkeaLzcVUiTr1aE=</td>\n",
       "      <td>1</td>\n",
       "    </tr>\n",
       "    <tr>\n",
       "      <th>8</th>\n",
       "      <td>Nb1ZGEmagQeba5E+nQj8VlQoWl+8SFmLZu+Y8ytIamw=</td>\n",
       "      <td>1</td>\n",
       "    </tr>\n",
       "    <tr>\n",
       "      <th>9</th>\n",
       "      <td>MkuWz0Nq6/Oq5fKqRddWL7oh2SLUSRe3/g+XmAWqW1Q=</td>\n",
       "      <td>1</td>\n",
       "    </tr>\n",
       "  </tbody>\n",
       "</table>\n",
       "</div>"
      ],
      "text/plain": [
       "<div>\n",
       "<style>\n",
       "    .dataframe thead tr:only-child th {\n",
       "        text-align: right;\n",
       "    }\n",
       "\n",
       "    .dataframe thead th {\n",
       "        text-align: left;\n",
       "    }\n",
       "\n",
       "    .dataframe tbody tr th {\n",
       "        vertical-align: top;\n",
       "    }\n",
       "</style>\n",
       "<table border=\"1\" class=\"dataframe\">\n",
       "  <thead>\n",
       "    <tr style=\"text-align: right;\">\n",
       "      <th></th>\n",
       "      <th>msno</th>\n",
       "      <th>is_churn</th>\n",
       "    </tr>\n",
       "  </thead>\n",
       "  <tbody>\n",
       "    <tr>\n",
       "      <th>0</th>\n",
       "      <td>waLDQMmcOu2jLDaV1ddDkgCrB/jl6sD66Xzs0Vqax1Y=</td>\n",
       "      <td>1</td>\n",
       "    </tr>\n",
       "    <tr>\n",
       "      <th>1</th>\n",
       "      <td>QA7uiXy8vIbUSPOkCf9RwQ3FsT8jVq2OxDr8zqa7bRQ=</td>\n",
       "      <td>1</td>\n",
       "    </tr>\n",
       "    <tr>\n",
       "      <th>2</th>\n",
       "      <td>fGwBva6hikQmTJzrbz/2Ezjm5Cth5jZUNvXigKK2AFA=</td>\n",
       "      <td>1</td>\n",
       "    </tr>\n",
       "    <tr>\n",
       "      <th>3</th>\n",
       "      <td>mT5V8rEpa+8wuqi6x0DoVd3H5icMKkE9Prt49UlmK+4=</td>\n",
       "      <td>1</td>\n",
       "    </tr>\n",
       "    <tr>\n",
       "      <th>4</th>\n",
       "      <td>XaPhtGLk/5UvvOYHcONTwsnH97P4eGECeq+BARGItRw=</td>\n",
       "      <td>1</td>\n",
       "    </tr>\n",
       "    <tr>\n",
       "      <th>5</th>\n",
       "      <td>GBy8qSz16X5iYWD+3CMxv/Hm6OPSrXBYtmbnlRtknW0=</td>\n",
       "      <td>1</td>\n",
       "    </tr>\n",
       "    <tr>\n",
       "      <th>6</th>\n",
       "      <td>lYLh7TdkWpIoQs3i3o6mIjLH8/IEgMWP9r7OpsLX0Vo=</td>\n",
       "      <td>1</td>\n",
       "    </tr>\n",
       "    <tr>\n",
       "      <th>7</th>\n",
       "      <td>T0FF6lumjKcqEO0O+tUH2ytc+Kb9EkeaLzcVUiTr1aE=</td>\n",
       "      <td>1</td>\n",
       "    </tr>\n",
       "    <tr>\n",
       "      <th>8</th>\n",
       "      <td>Nb1ZGEmagQeba5E+nQj8VlQoWl+8SFmLZu+Y8ytIamw=</td>\n",
       "      <td>1</td>\n",
       "    </tr>\n",
       "    <tr>\n",
       "      <th>9</th>\n",
       "      <td>MkuWz0Nq6/Oq5fKqRddWL7oh2SLUSRe3/g+XmAWqW1Q=</td>\n",
       "      <td>1</td>\n",
       "    </tr>\n",
       "  </tbody>\n",
       "</table>\n",
       "</div>"
      ]
     },
     "execution_count": 8,
     "metadata": {},
     "output_type": "execute_result"
    }
   ],
   "source": [
    "train_data.head(10)"
   ]
  },
  {
   "cell_type": "code",
   "execution_count": 14,
   "metadata": {},
   "outputs": [
    {
     "data": {
      "text/plain": [
       "0    929460\n1     63471\nName: is_churn, dtype: int64"
      ]
     },
     "execution_count": 14,
     "metadata": {},
     "output_type": "execute_result"
    }
   ],
   "source": [
    "train_data['is_churn'].value_counts()"
   ]
  },
  {
   "cell_type": "markdown",
   "metadata": {},
   "source": [
    "## 通过上面分析我们可以发现：\n",
    "1. 文件没有缺失数据，总共992931条数据\n",
    "1. train.csv包括用户id（加密的字符串）和是否流失is_churn两个属性\n",
    "2. is_churn包括0和1两个值，其中0值929460条，1值63471条（非常小的比例）"
   ]
  },
  {
   "cell_type": "markdown",
   "metadata": {},
   "source": [
    "## 3.2 members.csv"
   ]
  },
  {
   "cell_type": "code",
   "execution_count": 15,
   "metadata": {},
   "outputs": [],
   "source": [
    "members_data = pd.read_csv(\"G:\\PythonProjects\\KaggleOrOthersJourney\\WSDM-KKBox'sChurnPredictionChallenge\\data/members.csv\")"
   ]
  },
  {
   "cell_type": "code",
   "execution_count": 16,
   "metadata": {},
   "outputs": [
    {
     "data": {
      "text/html": [
       "<div>\n",
       "<style>\n",
       "    .dataframe thead tr:only-child th {\n",
       "        text-align: right;\n",
       "    }\n",
       "\n",
       "    .dataframe thead th {\n",
       "        text-align: left;\n",
       "    }\n",
       "\n",
       "    .dataframe tbody tr th {\n",
       "        vertical-align: top;\n",
       "    }\n",
       "</style>\n",
       "<table border=\"1\" class=\"dataframe\">\n",
       "  <thead>\n",
       "    <tr style=\"text-align: right;\">\n",
       "      <th></th>\n",
       "      <th>msno</th>\n",
       "      <th>city</th>\n",
       "      <th>bd</th>\n",
       "      <th>gender</th>\n",
       "      <th>registered_via</th>\n",
       "      <th>registration_init_time</th>\n",
       "      <th>expiration_date</th>\n",
       "    </tr>\n",
       "  </thead>\n",
       "  <tbody>\n",
       "    <tr>\n",
       "      <th>0</th>\n",
       "      <td>URiXrfYPzHAlk+7+n7BOMl9G+T7g8JmrSnT/BU8GmEo=</td>\n",
       "      <td>1</td>\n",
       "      <td>0</td>\n",
       "      <td>NaN</td>\n",
       "      <td>9</td>\n",
       "      <td>20150525</td>\n",
       "      <td>20150526</td>\n",
       "    </tr>\n",
       "    <tr>\n",
       "      <th>1</th>\n",
       "      <td>U1q0qCqK/lDMTD2kN8G9OXMtfuvLCey20OAIPOvXXGQ=</td>\n",
       "      <td>1</td>\n",
       "      <td>0</td>\n",
       "      <td>NaN</td>\n",
       "      <td>4</td>\n",
       "      <td>20161221</td>\n",
       "      <td>20161224</td>\n",
       "    </tr>\n",
       "    <tr>\n",
       "      <th>2</th>\n",
       "      <td>W6M2H2kAoN9ahfDYKo3J6tmsJRAeuFc9wl1cau5VL1Q=</td>\n",
       "      <td>1</td>\n",
       "      <td>0</td>\n",
       "      <td>NaN</td>\n",
       "      <td>4</td>\n",
       "      <td>20160306</td>\n",
       "      <td>20160309</td>\n",
       "    </tr>\n",
       "    <tr>\n",
       "      <th>3</th>\n",
       "      <td>1qE5+cN7CUyC+KFH6gBZzMWmM1QpIVW6A43BEm98I/w=</td>\n",
       "      <td>5</td>\n",
       "      <td>17</td>\n",
       "      <td>female</td>\n",
       "      <td>4</td>\n",
       "      <td>20161031</td>\n",
       "      <td>20161107</td>\n",
       "    </tr>\n",
       "    <tr>\n",
       "      <th>4</th>\n",
       "      <td>SeAnaZPI+tFdAt+r3lZt/B8PgTp7bcG/1os39u4pLxs=</td>\n",
       "      <td>1</td>\n",
       "      <td>0</td>\n",
       "      <td>NaN</td>\n",
       "      <td>4</td>\n",
       "      <td>20170202</td>\n",
       "      <td>20170205</td>\n",
       "    </tr>\n",
       "    <tr>\n",
       "      <th>5</th>\n",
       "      <td>iSJMDbqVrpRf7DRQoCINa6CzxpEIkHj91X5oqpReC3k=</td>\n",
       "      <td>1</td>\n",
       "      <td>0</td>\n",
       "      <td>NaN</td>\n",
       "      <td>4</td>\n",
       "      <td>20160215</td>\n",
       "      <td>20160218</td>\n",
       "    </tr>\n",
       "    <tr>\n",
       "      <th>6</th>\n",
       "      <td>NNYKvjuUcXHLi40gmdfpVfdlNOuRxQ1uGYVp45Ce/eY=</td>\n",
       "      <td>1</td>\n",
       "      <td>0</td>\n",
       "      <td>NaN</td>\n",
       "      <td>9</td>\n",
       "      <td>20150719</td>\n",
       "      <td>20150720</td>\n",
       "    </tr>\n",
       "    <tr>\n",
       "      <th>7</th>\n",
       "      <td>TA85iK5eP14OHddABVsSlwi4EKTe9sxMBp+9nWsdLq8=</td>\n",
       "      <td>1</td>\n",
       "      <td>40</td>\n",
       "      <td>male</td>\n",
       "      <td>3</td>\n",
       "      <td>20150606</td>\n",
       "      <td>20150615</td>\n",
       "    </tr>\n",
       "    <tr>\n",
       "      <th>8</th>\n",
       "      <td>75rp8sCaeatezkb6c0I133UakcSDuKcc5ia0b0Q+JS4=</td>\n",
       "      <td>1</td>\n",
       "      <td>24</td>\n",
       "      <td>male</td>\n",
       "      <td>3</td>\n",
       "      <td>20151129</td>\n",
       "      <td>20170925</td>\n",
       "    </tr>\n",
       "    <tr>\n",
       "      <th>9</th>\n",
       "      <td>1Nqjt8ykQceNOmuRrh9bcgvicDfLlj+jkgx7+Dd0Rk0=</td>\n",
       "      <td>1</td>\n",
       "      <td>0</td>\n",
       "      <td>NaN</td>\n",
       "      <td>7</td>\n",
       "      <td>20160410</td>\n",
       "      <td>20170909</td>\n",
       "    </tr>\n",
       "  </tbody>\n",
       "</table>\n",
       "</div>"
      ],
      "text/plain": [
       "<div>\n",
       "<style>\n",
       "    .dataframe thead tr:only-child th {\n",
       "        text-align: right;\n",
       "    }\n",
       "\n",
       "    .dataframe thead th {\n",
       "        text-align: left;\n",
       "    }\n",
       "\n",
       "    .dataframe tbody tr th {\n",
       "        vertical-align: top;\n",
       "    }\n",
       "</style>\n",
       "<table border=\"1\" class=\"dataframe\">\n",
       "  <thead>\n",
       "    <tr style=\"text-align: right;\">\n",
       "      <th></th>\n",
       "      <th>msno</th>\n",
       "      <th>city</th>\n",
       "      <th>bd</th>\n",
       "      <th>gender</th>\n",
       "      <th>registered_via</th>\n",
       "      <th>registration_init_time</th>\n",
       "      <th>expiration_date</th>\n",
       "    </tr>\n",
       "  </thead>\n",
       "  <tbody>\n",
       "    <tr>\n",
       "      <th>0</th>\n",
       "      <td>URiXrfYPzHAlk+7+n7BOMl9G+T7g8JmrSnT/BU8GmEo=</td>\n",
       "      <td>1</td>\n",
       "      <td>0</td>\n",
       "      <td>NaN</td>\n",
       "      <td>9</td>\n",
       "      <td>20150525</td>\n",
       "      <td>20150526</td>\n",
       "    </tr>\n",
       "    <tr>\n",
       "      <th>1</th>\n",
       "      <td>U1q0qCqK/lDMTD2kN8G9OXMtfuvLCey20OAIPOvXXGQ=</td>\n",
       "      <td>1</td>\n",
       "      <td>0</td>\n",
       "      <td>NaN</td>\n",
       "      <td>4</td>\n",
       "      <td>20161221</td>\n",
       "      <td>20161224</td>\n",
       "    </tr>\n",
       "    <tr>\n",
       "      <th>2</th>\n",
       "      <td>W6M2H2kAoN9ahfDYKo3J6tmsJRAeuFc9wl1cau5VL1Q=</td>\n",
       "      <td>1</td>\n",
       "      <td>0</td>\n",
       "      <td>NaN</td>\n",
       "      <td>4</td>\n",
       "      <td>20160306</td>\n",
       "      <td>20160309</td>\n",
       "    </tr>\n",
       "    <tr>\n",
       "      <th>3</th>\n",
       "      <td>1qE5+cN7CUyC+KFH6gBZzMWmM1QpIVW6A43BEm98I/w=</td>\n",
       "      <td>5</td>\n",
       "      <td>17</td>\n",
       "      <td>female</td>\n",
       "      <td>4</td>\n",
       "      <td>20161031</td>\n",
       "      <td>20161107</td>\n",
       "    </tr>\n",
       "    <tr>\n",
       "      <th>4</th>\n",
       "      <td>SeAnaZPI+tFdAt+r3lZt/B8PgTp7bcG/1os39u4pLxs=</td>\n",
       "      <td>1</td>\n",
       "      <td>0</td>\n",
       "      <td>NaN</td>\n",
       "      <td>4</td>\n",
       "      <td>20170202</td>\n",
       "      <td>20170205</td>\n",
       "    </tr>\n",
       "    <tr>\n",
       "      <th>5</th>\n",
       "      <td>iSJMDbqVrpRf7DRQoCINa6CzxpEIkHj91X5oqpReC3k=</td>\n",
       "      <td>1</td>\n",
       "      <td>0</td>\n",
       "      <td>NaN</td>\n",
       "      <td>4</td>\n",
       "      <td>20160215</td>\n",
       "      <td>20160218</td>\n",
       "    </tr>\n",
       "    <tr>\n",
       "      <th>6</th>\n",
       "      <td>NNYKvjuUcXHLi40gmdfpVfdlNOuRxQ1uGYVp45Ce/eY=</td>\n",
       "      <td>1</td>\n",
       "      <td>0</td>\n",
       "      <td>NaN</td>\n",
       "      <td>9</td>\n",
       "      <td>20150719</td>\n",
       "      <td>20150720</td>\n",
       "    </tr>\n",
       "    <tr>\n",
       "      <th>7</th>\n",
       "      <td>TA85iK5eP14OHddABVsSlwi4EKTe9sxMBp+9nWsdLq8=</td>\n",
       "      <td>1</td>\n",
       "      <td>40</td>\n",
       "      <td>male</td>\n",
       "      <td>3</td>\n",
       "      <td>20150606</td>\n",
       "      <td>20150615</td>\n",
       "    </tr>\n",
       "    <tr>\n",
       "      <th>8</th>\n",
       "      <td>75rp8sCaeatezkb6c0I133UakcSDuKcc5ia0b0Q+JS4=</td>\n",
       "      <td>1</td>\n",
       "      <td>24</td>\n",
       "      <td>male</td>\n",
       "      <td>3</td>\n",
       "      <td>20151129</td>\n",
       "      <td>20170925</td>\n",
       "    </tr>\n",
       "    <tr>\n",
       "      <th>9</th>\n",
       "      <td>1Nqjt8ykQceNOmuRrh9bcgvicDfLlj+jkgx7+Dd0Rk0=</td>\n",
       "      <td>1</td>\n",
       "      <td>0</td>\n",
       "      <td>NaN</td>\n",
       "      <td>7</td>\n",
       "      <td>20160410</td>\n",
       "      <td>20170909</td>\n",
       "    </tr>\n",
       "  </tbody>\n",
       "</table>\n",
       "</div>"
      ]
     },
     "execution_count": 16,
     "metadata": {},
     "output_type": "execute_result"
    }
   ],
   "source": [
    "members_data.head(10)"
   ]
  },
  {
   "cell_type": "code",
   "execution_count": 17,
   "metadata": {
    "collapsed": true
   },
   "outputs": [
    {
     "data": {
      "text/plain": [
       "msno                      5116194\ncity                      5116194\nbd                        5116194\ngender                    1761416\nregistered_via            5116194\nregistration_init_time    5116194\nexpiration_date           5116194\ndtype: int64"
      ]
     },
     "execution_count": 17,
     "metadata": {},
     "output_type": "execute_result"
    }
   ],
   "source": [
    "members_data.count()"
   ]
  },
  {
   "cell_type": "code",
   "execution_count": 18,
   "metadata": {
    "collapsed": false
   },
   "outputs": [
    {
     "name": "stdout",
     "output_type": "stream",
     "text": [
      "<class 'pandas.core.frame.DataFrame'>\nRangeIndex: 5116194 entries, 0 to 5116193\nData columns (total 7 columns):\nmsno                      object\ncity                      int64\nbd                        int64\ngender                    object\nregistered_via            int64\nregistration_init_time    int64\nexpiration_date           int64\ndtypes: int64(5), object(2)\nmemory usage: 273.2+ MB\n"
     ]
    }
   ],
   "source": [
    "members_data.info()"
   ]
  },
  {
   "cell_type": "code",
   "execution_count": 19,
   "metadata": {
    "collapsed": false
   },
   "outputs": [
    {
     "data": {
      "text/html": [
       "<div>\n",
       "<style>\n",
       "    .dataframe thead tr:only-child th {\n",
       "        text-align: right;\n",
       "    }\n",
       "\n",
       "    .dataframe thead th {\n",
       "        text-align: left;\n",
       "    }\n",
       "\n",
       "    .dataframe tbody tr th {\n",
       "        vertical-align: top;\n",
       "    }\n",
       "</style>\n",
       "<table border=\"1\" class=\"dataframe\">\n",
       "  <thead>\n",
       "    <tr style=\"text-align: right;\">\n",
       "      <th></th>\n",
       "      <th>city</th>\n",
       "      <th>bd</th>\n",
       "      <th>registered_via</th>\n",
       "      <th>registration_init_time</th>\n",
       "      <th>expiration_date</th>\n",
       "    </tr>\n",
       "  </thead>\n",
       "  <tbody>\n",
       "    <tr>\n",
       "      <th>count</th>\n",
       "      <td>5.116194e+06</td>\n",
       "      <td>5.116194e+06</td>\n",
       "      <td>5.116194e+06</td>\n",
       "      <td>5.116194e+06</td>\n",
       "      <td>5.116194e+06</td>\n",
       "    </tr>\n",
       "    <tr>\n",
       "      <th>mean</th>\n",
       "      <td>4.019725e+00</td>\n",
       "      <td>9.772362e+00</td>\n",
       "      <td>5.248127e+00</td>\n",
       "      <td>2.014631e+07</td>\n",
       "      <td>2.015981e+07</td>\n",
       "    </tr>\n",
       "    <tr>\n",
       "      <th>std</th>\n",
       "      <td>5.590289e+00</td>\n",
       "      <td>1.795875e+01</td>\n",
       "      <td>2.260226e+00</td>\n",
       "      <td>2.308540e+04</td>\n",
       "      <td>1.254307e+04</td>\n",
       "    </tr>\n",
       "    <tr>\n",
       "      <th>min</th>\n",
       "      <td>1.000000e+00</td>\n",
       "      <td>-6.998000e+03</td>\n",
       "      <td>3.000000e+00</td>\n",
       "      <td>2.004033e+07</td>\n",
       "      <td>1.970010e+07</td>\n",
       "    </tr>\n",
       "    <tr>\n",
       "      <th>25%</th>\n",
       "      <td>1.000000e+00</td>\n",
       "      <td>0.000000e+00</td>\n",
       "      <td>4.000000e+00</td>\n",
       "      <td>2.014103e+07</td>\n",
       "      <td>2.015111e+07</td>\n",
       "    </tr>\n",
       "    <tr>\n",
       "      <th>50%</th>\n",
       "      <td>1.000000e+00</td>\n",
       "      <td>0.000000e+00</td>\n",
       "      <td>4.000000e+00</td>\n",
       "      <td>2.015111e+07</td>\n",
       "      <td>2.016070e+07</td>\n",
       "    </tr>\n",
       "    <tr>\n",
       "      <th>75%</th>\n",
       "      <td>5.000000e+00</td>\n",
       "      <td>2.100000e+01</td>\n",
       "      <td>7.000000e+00</td>\n",
       "      <td>2.016061e+07</td>\n",
       "      <td>2.017061e+07</td>\n",
       "    </tr>\n",
       "    <tr>\n",
       "      <th>max</th>\n",
       "      <td>2.200000e+01</td>\n",
       "      <td>2.015000e+03</td>\n",
       "      <td>1.600000e+01</td>\n",
       "      <td>2.017071e+07</td>\n",
       "      <td>2.100010e+07</td>\n",
       "    </tr>\n",
       "  </tbody>\n",
       "</table>\n",
       "</div>"
      ],
      "text/plain": [
       "<div>\n",
       "<style>\n",
       "    .dataframe thead tr:only-child th {\n",
       "        text-align: right;\n",
       "    }\n",
       "\n",
       "    .dataframe thead th {\n",
       "        text-align: left;\n",
       "    }\n",
       "\n",
       "    .dataframe tbody tr th {\n",
       "        vertical-align: top;\n",
       "    }\n",
       "</style>\n",
       "<table border=\"1\" class=\"dataframe\">\n",
       "  <thead>\n",
       "    <tr style=\"text-align: right;\">\n",
       "      <th></th>\n",
       "      <th>city</th>\n",
       "      <th>bd</th>\n",
       "      <th>registered_via</th>\n",
       "      <th>registration_init_time</th>\n",
       "      <th>expiration_date</th>\n",
       "    </tr>\n",
       "  </thead>\n",
       "  <tbody>\n",
       "    <tr>\n",
       "      <th>count</th>\n",
       "      <td>5.116194e+06</td>\n",
       "      <td>5.116194e+06</td>\n",
       "      <td>5.116194e+06</td>\n",
       "      <td>5.116194e+06</td>\n",
       "      <td>5.116194e+06</td>\n",
       "    </tr>\n",
       "    <tr>\n",
       "      <th>mean</th>\n",
       "      <td>4.019725e+00</td>\n",
       "      <td>9.772362e+00</td>\n",
       "      <td>5.248127e+00</td>\n",
       "      <td>2.014631e+07</td>\n",
       "      <td>2.015981e+07</td>\n",
       "    </tr>\n",
       "    <tr>\n",
       "      <th>std</th>\n",
       "      <td>5.590289e+00</td>\n",
       "      <td>1.795875e+01</td>\n",
       "      <td>2.260226e+00</td>\n",
       "      <td>2.308540e+04</td>\n",
       "      <td>1.254307e+04</td>\n",
       "    </tr>\n",
       "    <tr>\n",
       "      <th>min</th>\n",
       "      <td>1.000000e+00</td>\n",
       "      <td>-6.998000e+03</td>\n",
       "      <td>3.000000e+00</td>\n",
       "      <td>2.004033e+07</td>\n",
       "      <td>1.970010e+07</td>\n",
       "    </tr>\n",
       "    <tr>\n",
       "      <th>25%</th>\n",
       "      <td>1.000000e+00</td>\n",
       "      <td>0.000000e+00</td>\n",
       "      <td>4.000000e+00</td>\n",
       "      <td>2.014103e+07</td>\n",
       "      <td>2.015111e+07</td>\n",
       "    </tr>\n",
       "    <tr>\n",
       "      <th>50%</th>\n",
       "      <td>1.000000e+00</td>\n",
       "      <td>0.000000e+00</td>\n",
       "      <td>4.000000e+00</td>\n",
       "      <td>2.015111e+07</td>\n",
       "      <td>2.016070e+07</td>\n",
       "    </tr>\n",
       "    <tr>\n",
       "      <th>75%</th>\n",
       "      <td>5.000000e+00</td>\n",
       "      <td>2.100000e+01</td>\n",
       "      <td>7.000000e+00</td>\n",
       "      <td>2.016061e+07</td>\n",
       "      <td>2.017061e+07</td>\n",
       "    </tr>\n",
       "    <tr>\n",
       "      <th>max</th>\n",
       "      <td>2.200000e+01</td>\n",
       "      <td>2.015000e+03</td>\n",
       "      <td>1.600000e+01</td>\n",
       "      <td>2.017071e+07</td>\n",
       "      <td>2.100010e+07</td>\n",
       "    </tr>\n",
       "  </tbody>\n",
       "</table>\n",
       "</div>"
      ]
     },
     "execution_count": 19,
     "metadata": {},
     "output_type": "execute_result"
    }
   ],
   "source": [
    "members_data.describe()"
   ]
  },
  {
   "cell_type": "code",
   "execution_count": 21,
   "metadata": {
    "collapsed": false
   },
   "outputs": [
    {
     "data": {
      "text/plain": [
       "0      3421570\n21       85143\n20       85132\n22       84152\n23       77151\n27       75995\n24       74095\n26       73604\n19       72257\n25       70659\n18       67422\n28       64597\n17       63468\n29       61338\n30       53269\n32       49678\n31       48694\n33       44301\n34       42551\n35       39978\n37       39558\n36       39094\n16       38479\n38       31386\n39       28166\n40       26438\n41       24120\n42       20448\n43       18317\n44       16658\n        ...   \n462          1\n519          1\n573          1\n584          1\n940          1\n939          1\n935          1\n934          1\n929          1\n926          1\n925          1\n923          1\n922          1\n920          1\n919          1\n906          1\n837          1\n827          1\n826          1\n822          1\n821          1\n810          1\n806          1\n793          1\n786          1\n778          1\n743          1\n689          1\n649          1\n323          1\nName: bd, Length: 326, dtype: int64"
      ]
     },
     "execution_count": 21,
     "metadata": {},
     "output_type": "execute_result"
    }
   ],
   "source": [
    "members_data.bd.value_counts()"
   ]
  },
  {
   "cell_type": "code",
   "execution_count": 31,
   "metadata": {
    "collapsed": false
   },
   "outputs": [
    {
     "data": {
      "text/plain": [
       "NaN       3354778\nmale       902851\nfemale     858565\nName: gender, dtype: int64"
      ]
     },
     "execution_count": 31,
     "metadata": {},
     "output_type": "execute_result"
    }
   ],
   "source": [
    "members_data.gender.value_counts(dropna=False) # 不忽略NaN值"
   ]
  },
  {
   "cell_type": "code",
   "execution_count": 33,
   "metadata": {
    "collapsed": false
   },
   "outputs": [
    {
     "data": {
      "text/plain": [
       "4     2351944\n9     1063941\n3     1015513\n7      680365\n13       4246\n16        175\n10         10\nName: registered_via, dtype: int64"
      ]
     },
     "execution_count": 33,
     "metadata": {},
     "output_type": "execute_result"
    }
   ],
   "source": [
    "members_data['registered_via'].value_counts()"
   ]
  },
  {
   "cell_type": "code",
   "execution_count": 34,
   "metadata": {
    "collapsed": false
   },
   "outputs": [
    {
     "data": {
      "text/plain": [
       "1     3541998\n5      309458\n13     266059\n4      196290\n22     167575\n15     153272\n6      107237\n14      71879\n12      51956\n9       38955\n11      36935\n8       35846\n18      30006\n10      25674\n21      23896\n17      21743\n3       21198\n7        8486\n16       3814\n20       3163\n19        754\nName: city, dtype: int64"
      ]
     },
     "execution_count": 34,
     "metadata": {},
     "output_type": "execute_result"
    }
   ],
   "source": [
    "members_data['city'].value_counts()"
   ]
  },
  {
   "cell_type": "markdown",
   "metadata": {},
   "source": [
    "### 通过上面分析我们可以发现：\n",
    "1. 除了性别以外，其他字段没有缺失值，性别存在大量缺失值。数据一共5116194条\n",
    "2. 年龄存在很多异常值，官网给的说明是年龄异常值范围在-7000~2015，需要自己处理，通过统计发现年龄为0的最多（默认值？），还有很多100以上的，但每个数量都很少\n",
    "3. 通过统计发现，性别上男女比例差不多，但是Nan值占了绝大多数\n",
    "4. 用户的注册方式以“4”最多，注册方式映射为数字3，4，7，9，10，13，16\n",
    "5. 城市一共21个，被映射为数字，但是没有“2”\n",
    "6. registration_init_time和expiration_date是时间列，字面意思理解是注册时间和终结时间（流失时间）"
   ]
  },
  {
   "cell_type": "markdown",
   "metadata": {},
   "source": [
    "## 3.3 transaction.csv"
   ]
  },
  {
   "cell_type": "code",
   "execution_count": 36,
   "metadata": {},
   "outputs": [],
   "source": [
    "chunksize = pd.read_csv(\"G:\\PythonProjects\\KaggleOrOthersJourney\\WSDM-KKBox'sChurnPredictionChallenge\\data/transactions.csv\", chunksize=1000000)\n",
    "transactions = pd.DataFrame()\n",
    "for chunk in chunksize:\n",
    "    transactions = pd.concat([chunk, transactions], ignore_index=True)\n",
    "    # pd.merge(members, transactions.drop_duplicates(), on='msno', how='left')"
   ]
  },
  {
   "cell_type": "code",
   "execution_count": 37,
   "metadata": {},
   "outputs": [
    {
     "name": "stdout",
     "output_type": "stream",
     "text": [
      "<class 'pandas.core.frame.DataFrame'>\nRangeIndex: 21547746 entries, 0 to 21547745\nData columns (total 9 columns):\nmsno                      object\npayment_method_id         int64\npayment_plan_days         int64\nplan_list_price           int64\nactual_amount_paid        int64\nis_auto_renew             int64\ntransaction_date          int64\nmembership_expire_date    int64\nis_cancel                 int64\ndtypes: int64(8), object(1)\nmemory usage: 1.4+ GB\n"
     ]
    }
   ],
   "source": [
    "transactions.info()"
   ]
  },
  {
   "cell_type": "code",
   "execution_count": 38,
   "metadata": {},
   "outputs": [
    {
     "data": {
      "text/plain": [
       "msno                      21547746\npayment_method_id         21547746\npayment_plan_days         21547746\nplan_list_price           21547746\nactual_amount_paid        21547746\nis_auto_renew             21547746\ntransaction_date          21547746\nmembership_expire_date    21547746\nis_cancel                 21547746\ndtype: int64"
      ]
     },
     "execution_count": 38,
     "metadata": {},
     "output_type": "execute_result"
    }
   ],
   "source": [
    "transactions.count()"
   ]
  },
  {
   "cell_type": "code",
   "execution_count": 39,
   "metadata": {},
   "outputs": [
    {
     "data": {
      "text/html": [
       "<div>\n",
       "<style>\n",
       "    .dataframe thead tr:only-child th {\n",
       "        text-align: right;\n",
       "    }\n",
       "\n",
       "    .dataframe thead th {\n",
       "        text-align: left;\n",
       "    }\n",
       "\n",
       "    .dataframe tbody tr th {\n",
       "        vertical-align: top;\n",
       "    }\n",
       "</style>\n",
       "<table border=\"1\" class=\"dataframe\">\n",
       "  <thead>\n",
       "    <tr style=\"text-align: right;\">\n",
       "      <th></th>\n",
       "      <th>payment_method_id</th>\n",
       "      <th>payment_plan_days</th>\n",
       "      <th>plan_list_price</th>\n",
       "      <th>actual_amount_paid</th>\n",
       "      <th>is_auto_renew</th>\n",
       "      <th>transaction_date</th>\n",
       "      <th>membership_expire_date</th>\n",
       "      <th>is_cancel</th>\n",
       "    </tr>\n",
       "  </thead>\n",
       "  <tbody>\n",
       "    <tr>\n",
       "      <th>count</th>\n",
       "      <td>2.154775e+07</td>\n",
       "      <td>2.154775e+07</td>\n",
       "      <td>2.154775e+07</td>\n",
       "      <td>2.154775e+07</td>\n",
       "      <td>2.154775e+07</td>\n",
       "      <td>2.154775e+07</td>\n",
       "      <td>2.154775e+07</td>\n",
       "      <td>2.154775e+07</td>\n",
       "    </tr>\n",
       "    <tr>\n",
       "      <th>mean</th>\n",
       "      <td>3.893310e+01</td>\n",
       "      <td>3.133906e+01</td>\n",
       "      <td>1.398850e+02</td>\n",
       "      <td>1.419873e+02</td>\n",
       "      <td>8.519661e-01</td>\n",
       "      <td>2.015760e+07</td>\n",
       "      <td>2.015862e+07</td>\n",
       "      <td>3.976523e-02</td>\n",
       "    </tr>\n",
       "    <tr>\n",
       "      <th>std</th>\n",
       "      <td>3.507936e+00</td>\n",
       "      <td>3.035649e+01</td>\n",
       "      <td>1.309647e+02</td>\n",
       "      <td>1.324824e+02</td>\n",
       "      <td>3.551336e-01</td>\n",
       "      <td>6.155979e+03</td>\n",
       "      <td>7.755753e+03</td>\n",
       "      <td>1.954072e-01</td>\n",
       "    </tr>\n",
       "    <tr>\n",
       "      <th>min</th>\n",
       "      <td>1.000000e+00</td>\n",
       "      <td>0.000000e+00</td>\n",
       "      <td>0.000000e+00</td>\n",
       "      <td>0.000000e+00</td>\n",
       "      <td>0.000000e+00</td>\n",
       "      <td>2.015010e+07</td>\n",
       "      <td>1.970010e+07</td>\n",
       "      <td>0.000000e+00</td>\n",
       "    </tr>\n",
       "    <tr>\n",
       "      <th>25%</th>\n",
       "      <td>3.800000e+01</td>\n",
       "      <td>3.000000e+01</td>\n",
       "      <td>9.900000e+01</td>\n",
       "      <td>9.900000e+01</td>\n",
       "      <td>1.000000e+00</td>\n",
       "      <td>2.015091e+07</td>\n",
       "      <td>2.015102e+07</td>\n",
       "      <td>0.000000e+00</td>\n",
       "    </tr>\n",
       "    <tr>\n",
       "      <th>50%</th>\n",
       "      <td>4.100000e+01</td>\n",
       "      <td>3.000000e+01</td>\n",
       "      <td>1.490000e+02</td>\n",
       "      <td>1.490000e+02</td>\n",
       "      <td>1.000000e+00</td>\n",
       "      <td>2.016032e+07</td>\n",
       "      <td>2.016043e+07</td>\n",
       "      <td>0.000000e+00</td>\n",
       "    </tr>\n",
       "    <tr>\n",
       "      <th>75%</th>\n",
       "      <td>4.100000e+01</td>\n",
       "      <td>3.000000e+01</td>\n",
       "      <td>1.490000e+02</td>\n",
       "      <td>1.490000e+02</td>\n",
       "      <td>1.000000e+00</td>\n",
       "      <td>2.016092e+07</td>\n",
       "      <td>2.016103e+07</td>\n",
       "      <td>0.000000e+00</td>\n",
       "    </tr>\n",
       "    <tr>\n",
       "      <th>max</th>\n",
       "      <td>4.100000e+01</td>\n",
       "      <td>4.500000e+02</td>\n",
       "      <td>2.000000e+03</td>\n",
       "      <td>2.000000e+03</td>\n",
       "      <td>1.000000e+00</td>\n",
       "      <td>2.017023e+07</td>\n",
       "      <td>2.017033e+07</td>\n",
       "      <td>1.000000e+00</td>\n",
       "    </tr>\n",
       "  </tbody>\n",
       "</table>\n",
       "</div>"
      ],
      "text/plain": [
       "<div>\n",
       "<style>\n",
       "    .dataframe thead tr:only-child th {\n",
       "        text-align: right;\n",
       "    }\n",
       "\n",
       "    .dataframe thead th {\n",
       "        text-align: left;\n",
       "    }\n",
       "\n",
       "    .dataframe tbody tr th {\n",
       "        vertical-align: top;\n",
       "    }\n",
       "</style>\n",
       "<table border=\"1\" class=\"dataframe\">\n",
       "  <thead>\n",
       "    <tr style=\"text-align: right;\">\n",
       "      <th></th>\n",
       "      <th>payment_method_id</th>\n",
       "      <th>payment_plan_days</th>\n",
       "      <th>plan_list_price</th>\n",
       "      <th>actual_amount_paid</th>\n",
       "      <th>is_auto_renew</th>\n",
       "      <th>transaction_date</th>\n",
       "      <th>membership_expire_date</th>\n",
       "      <th>is_cancel</th>\n",
       "    </tr>\n",
       "  </thead>\n",
       "  <tbody>\n",
       "    <tr>\n",
       "      <th>count</th>\n",
       "      <td>2.154775e+07</td>\n",
       "      <td>2.154775e+07</td>\n",
       "      <td>2.154775e+07</td>\n",
       "      <td>2.154775e+07</td>\n",
       "      <td>2.154775e+07</td>\n",
       "      <td>2.154775e+07</td>\n",
       "      <td>2.154775e+07</td>\n",
       "      <td>2.154775e+07</td>\n",
       "    </tr>\n",
       "    <tr>\n",
       "      <th>mean</th>\n",
       "      <td>3.893310e+01</td>\n",
       "      <td>3.133906e+01</td>\n",
       "      <td>1.398850e+02</td>\n",
       "      <td>1.419873e+02</td>\n",
       "      <td>8.519661e-01</td>\n",
       "      <td>2.015760e+07</td>\n",
       "      <td>2.015862e+07</td>\n",
       "      <td>3.976523e-02</td>\n",
       "    </tr>\n",
       "    <tr>\n",
       "      <th>std</th>\n",
       "      <td>3.507936e+00</td>\n",
       "      <td>3.035649e+01</td>\n",
       "      <td>1.309647e+02</td>\n",
       "      <td>1.324824e+02</td>\n",
       "      <td>3.551336e-01</td>\n",
       "      <td>6.155979e+03</td>\n",
       "      <td>7.755753e+03</td>\n",
       "      <td>1.954072e-01</td>\n",
       "    </tr>\n",
       "    <tr>\n",
       "      <th>min</th>\n",
       "      <td>1.000000e+00</td>\n",
       "      <td>0.000000e+00</td>\n",
       "      <td>0.000000e+00</td>\n",
       "      <td>0.000000e+00</td>\n",
       "      <td>0.000000e+00</td>\n",
       "      <td>2.015010e+07</td>\n",
       "      <td>1.970010e+07</td>\n",
       "      <td>0.000000e+00</td>\n",
       "    </tr>\n",
       "    <tr>\n",
       "      <th>25%</th>\n",
       "      <td>3.800000e+01</td>\n",
       "      <td>3.000000e+01</td>\n",
       "      <td>9.900000e+01</td>\n",
       "      <td>9.900000e+01</td>\n",
       "      <td>1.000000e+00</td>\n",
       "      <td>2.015091e+07</td>\n",
       "      <td>2.015102e+07</td>\n",
       "      <td>0.000000e+00</td>\n",
       "    </tr>\n",
       "    <tr>\n",
       "      <th>50%</th>\n",
       "      <td>4.100000e+01</td>\n",
       "      <td>3.000000e+01</td>\n",
       "      <td>1.490000e+02</td>\n",
       "      <td>1.490000e+02</td>\n",
       "      <td>1.000000e+00</td>\n",
       "      <td>2.016032e+07</td>\n",
       "      <td>2.016043e+07</td>\n",
       "      <td>0.000000e+00</td>\n",
       "    </tr>\n",
       "    <tr>\n",
       "      <th>75%</th>\n",
       "      <td>4.100000e+01</td>\n",
       "      <td>3.000000e+01</td>\n",
       "      <td>1.490000e+02</td>\n",
       "      <td>1.490000e+02</td>\n",
       "      <td>1.000000e+00</td>\n",
       "      <td>2.016092e+07</td>\n",
       "      <td>2.016103e+07</td>\n",
       "      <td>0.000000e+00</td>\n",
       "    </tr>\n",
       "    <tr>\n",
       "      <th>max</th>\n",
       "      <td>4.100000e+01</td>\n",
       "      <td>4.500000e+02</td>\n",
       "      <td>2.000000e+03</td>\n",
       "      <td>2.000000e+03</td>\n",
       "      <td>1.000000e+00</td>\n",
       "      <td>2.017023e+07</td>\n",
       "      <td>2.017033e+07</td>\n",
       "      <td>1.000000e+00</td>\n",
       "    </tr>\n",
       "  </tbody>\n",
       "</table>\n",
       "</div>"
      ]
     },
     "execution_count": 39,
     "metadata": {},
     "output_type": "execute_result"
    }
   ],
   "source": [
    "transactions.describe()"
   ]
  },
  {
   "cell_type": "code",
   "execution_count": 40,
   "metadata": {},
   "outputs": [
    {
     "data": {
      "text/html": [
       "<div>\n",
       "<style>\n",
       "    .dataframe thead tr:only-child th {\n",
       "        text-align: right;\n",
       "    }\n",
       "\n",
       "    .dataframe thead th {\n",
       "        text-align: left;\n",
       "    }\n",
       "\n",
       "    .dataframe tbody tr th {\n",
       "        vertical-align: top;\n",
       "    }\n",
       "</style>\n",
       "<table border=\"1\" class=\"dataframe\">\n",
       "  <thead>\n",
       "    <tr style=\"text-align: right;\">\n",
       "      <th></th>\n",
       "      <th>msno</th>\n",
       "      <th>payment_method_id</th>\n",
       "      <th>payment_plan_days</th>\n",
       "      <th>plan_list_price</th>\n",
       "      <th>actual_amount_paid</th>\n",
       "      <th>is_auto_renew</th>\n",
       "      <th>transaction_date</th>\n",
       "      <th>membership_expire_date</th>\n",
       "      <th>is_cancel</th>\n",
       "    </tr>\n",
       "  </thead>\n",
       "  <tbody>\n",
       "    <tr>\n",
       "      <th>0</th>\n",
       "      <td>cXqexun2tGbJEoQJER2vamxodTOX96yFUt7GTLLM+sY=</td>\n",
       "      <td>36</td>\n",
       "      <td>30</td>\n",
       "      <td>180</td>\n",
       "      <td>180</td>\n",
       "      <td>0</td>\n",
       "      <td>20170112</td>\n",
       "      <td>20170211</td>\n",
       "      <td>0</td>\n",
       "    </tr>\n",
       "    <tr>\n",
       "      <th>1</th>\n",
       "      <td>7nN+f8W03OxhlRgf6uhkNsLLI2pb4GtMfUWbLcdi59A=</td>\n",
       "      <td>40</td>\n",
       "      <td>30</td>\n",
       "      <td>149</td>\n",
       "      <td>149</td>\n",
       "      <td>1</td>\n",
       "      <td>20170112</td>\n",
       "      <td>20170213</td>\n",
       "      <td>0</td>\n",
       "    </tr>\n",
       "    <tr>\n",
       "      <th>2</th>\n",
       "      <td>yOPXNAn5GWYaePY+PoYIfdfT/dynwAGu0lecyZfcveM=</td>\n",
       "      <td>41</td>\n",
       "      <td>30</td>\n",
       "      <td>99</td>\n",
       "      <td>99</td>\n",
       "      <td>1</td>\n",
       "      <td>20170112</td>\n",
       "      <td>20170211</td>\n",
       "      <td>0</td>\n",
       "    </tr>\n",
       "    <tr>\n",
       "      <th>3</th>\n",
       "      <td>9S2AZpj2NRaW/SxXjP10joGQhge+jBaPvdT+Bs7QshA=</td>\n",
       "      <td>41</td>\n",
       "      <td>30</td>\n",
       "      <td>129</td>\n",
       "      <td>129</td>\n",
       "      <td>1</td>\n",
       "      <td>20170119</td>\n",
       "      <td>20170313</td>\n",
       "      <td>0</td>\n",
       "    </tr>\n",
       "    <tr>\n",
       "      <th>4</th>\n",
       "      <td>woF2/69OJG4qfW/OlAXUyr575zY8ubKKDmJ7JhH28ZA=</td>\n",
       "      <td>41</td>\n",
       "      <td>30</td>\n",
       "      <td>149</td>\n",
       "      <td>149</td>\n",
       "      <td>1</td>\n",
       "      <td>20170119</td>\n",
       "      <td>20170219</td>\n",
       "      <td>0</td>\n",
       "    </tr>\n",
       "    <tr>\n",
       "      <th>5</th>\n",
       "      <td>JZq7hU4BMXLDwbimldrmKZXyWSmxtmHhVNh204ihlts=</td>\n",
       "      <td>41</td>\n",
       "      <td>30</td>\n",
       "      <td>99</td>\n",
       "      <td>99</td>\n",
       "      <td>1</td>\n",
       "      <td>20170119</td>\n",
       "      <td>20170219</td>\n",
       "      <td>0</td>\n",
       "    </tr>\n",
       "    <tr>\n",
       "      <th>6</th>\n",
       "      <td>xabOd42/ZOAu1cdvWydMZF39oIFp9SLgYUxwL8S4bWA=</td>\n",
       "      <td>41</td>\n",
       "      <td>30</td>\n",
       "      <td>99</td>\n",
       "      <td>99</td>\n",
       "      <td>1</td>\n",
       "      <td>20170119</td>\n",
       "      <td>20170219</td>\n",
       "      <td>0</td>\n",
       "    </tr>\n",
       "    <tr>\n",
       "      <th>7</th>\n",
       "      <td>8mjY0GHBt7fkzJutgUMk9tqon8XoavxpG8KdasJz8fc=</td>\n",
       "      <td>41</td>\n",
       "      <td>30</td>\n",
       "      <td>99</td>\n",
       "      <td>99</td>\n",
       "      <td>1</td>\n",
       "      <td>20170119</td>\n",
       "      <td>20170219</td>\n",
       "      <td>0</td>\n",
       "    </tr>\n",
       "    <tr>\n",
       "      <th>8</th>\n",
       "      <td>Np7r2ZaqVJ9oq35aci54ErdRp8xnrM+PZt8TMaq0xuQ=</td>\n",
       "      <td>38</td>\n",
       "      <td>30</td>\n",
       "      <td>149</td>\n",
       "      <td>149</td>\n",
       "      <td>0</td>\n",
       "      <td>20170120</td>\n",
       "      <td>20170219</td>\n",
       "      <td>0</td>\n",
       "    </tr>\n",
       "    <tr>\n",
       "      <th>9</th>\n",
       "      <td>GrPpcJke52rUOmgRwMUQGOh5MH7ADI+AbrsXepC2hx8=</td>\n",
       "      <td>40</td>\n",
       "      <td>30</td>\n",
       "      <td>149</td>\n",
       "      <td>149</td>\n",
       "      <td>1</td>\n",
       "      <td>20170120</td>\n",
       "      <td>20170219</td>\n",
       "      <td>0</td>\n",
       "    </tr>\n",
       "  </tbody>\n",
       "</table>\n",
       "</div>"
      ],
      "text/plain": [
       "<div>\n",
       "<style>\n",
       "    .dataframe thead tr:only-child th {\n",
       "        text-align: right;\n",
       "    }\n",
       "\n",
       "    .dataframe thead th {\n",
       "        text-align: left;\n",
       "    }\n",
       "\n",
       "    .dataframe tbody tr th {\n",
       "        vertical-align: top;\n",
       "    }\n",
       "</style>\n",
       "<table border=\"1\" class=\"dataframe\">\n",
       "  <thead>\n",
       "    <tr style=\"text-align: right;\">\n",
       "      <th></th>\n",
       "      <th>msno</th>\n",
       "      <th>payment_method_id</th>\n",
       "      <th>payment_plan_days</th>\n",
       "      <th>plan_list_price</th>\n",
       "      <th>actual_amount_paid</th>\n",
       "      <th>is_auto_renew</th>\n",
       "      <th>transaction_date</th>\n",
       "      <th>membership_expire_date</th>\n",
       "      <th>is_cancel</th>\n",
       "    </tr>\n",
       "  </thead>\n",
       "  <tbody>\n",
       "    <tr>\n",
       "      <th>0</th>\n",
       "      <td>cXqexun2tGbJEoQJER2vamxodTOX96yFUt7GTLLM+sY=</td>\n",
       "      <td>36</td>\n",
       "      <td>30</td>\n",
       "      <td>180</td>\n",
       "      <td>180</td>\n",
       "      <td>0</td>\n",
       "      <td>20170112</td>\n",
       "      <td>20170211</td>\n",
       "      <td>0</td>\n",
       "    </tr>\n",
       "    <tr>\n",
       "      <th>1</th>\n",
       "      <td>7nN+f8W03OxhlRgf6uhkNsLLI2pb4GtMfUWbLcdi59A=</td>\n",
       "      <td>40</td>\n",
       "      <td>30</td>\n",
       "      <td>149</td>\n",
       "      <td>149</td>\n",
       "      <td>1</td>\n",
       "      <td>20170112</td>\n",
       "      <td>20170213</td>\n",
       "      <td>0</td>\n",
       "    </tr>\n",
       "    <tr>\n",
       "      <th>2</th>\n",
       "      <td>yOPXNAn5GWYaePY+PoYIfdfT/dynwAGu0lecyZfcveM=</td>\n",
       "      <td>41</td>\n",
       "      <td>30</td>\n",
       "      <td>99</td>\n",
       "      <td>99</td>\n",
       "      <td>1</td>\n",
       "      <td>20170112</td>\n",
       "      <td>20170211</td>\n",
       "      <td>0</td>\n",
       "    </tr>\n",
       "    <tr>\n",
       "      <th>3</th>\n",
       "      <td>9S2AZpj2NRaW/SxXjP10joGQhge+jBaPvdT+Bs7QshA=</td>\n",
       "      <td>41</td>\n",
       "      <td>30</td>\n",
       "      <td>129</td>\n",
       "      <td>129</td>\n",
       "      <td>1</td>\n",
       "      <td>20170119</td>\n",
       "      <td>20170313</td>\n",
       "      <td>0</td>\n",
       "    </tr>\n",
       "    <tr>\n",
       "      <th>4</th>\n",
       "      <td>woF2/69OJG4qfW/OlAXUyr575zY8ubKKDmJ7JhH28ZA=</td>\n",
       "      <td>41</td>\n",
       "      <td>30</td>\n",
       "      <td>149</td>\n",
       "      <td>149</td>\n",
       "      <td>1</td>\n",
       "      <td>20170119</td>\n",
       "      <td>20170219</td>\n",
       "      <td>0</td>\n",
       "    </tr>\n",
       "    <tr>\n",
       "      <th>5</th>\n",
       "      <td>JZq7hU4BMXLDwbimldrmKZXyWSmxtmHhVNh204ihlts=</td>\n",
       "      <td>41</td>\n",
       "      <td>30</td>\n",
       "      <td>99</td>\n",
       "      <td>99</td>\n",
       "      <td>1</td>\n",
       "      <td>20170119</td>\n",
       "      <td>20170219</td>\n",
       "      <td>0</td>\n",
       "    </tr>\n",
       "    <tr>\n",
       "      <th>6</th>\n",
       "      <td>xabOd42/ZOAu1cdvWydMZF39oIFp9SLgYUxwL8S4bWA=</td>\n",
       "      <td>41</td>\n",
       "      <td>30</td>\n",
       "      <td>99</td>\n",
       "      <td>99</td>\n",
       "      <td>1</td>\n",
       "      <td>20170119</td>\n",
       "      <td>20170219</td>\n",
       "      <td>0</td>\n",
       "    </tr>\n",
       "    <tr>\n",
       "      <th>7</th>\n",
       "      <td>8mjY0GHBt7fkzJutgUMk9tqon8XoavxpG8KdasJz8fc=</td>\n",
       "      <td>41</td>\n",
       "      <td>30</td>\n",
       "      <td>99</td>\n",
       "      <td>99</td>\n",
       "      <td>1</td>\n",
       "      <td>20170119</td>\n",
       "      <td>20170219</td>\n",
       "      <td>0</td>\n",
       "    </tr>\n",
       "    <tr>\n",
       "      <th>8</th>\n",
       "      <td>Np7r2ZaqVJ9oq35aci54ErdRp8xnrM+PZt8TMaq0xuQ=</td>\n",
       "      <td>38</td>\n",
       "      <td>30</td>\n",
       "      <td>149</td>\n",
       "      <td>149</td>\n",
       "      <td>0</td>\n",
       "      <td>20170120</td>\n",
       "      <td>20170219</td>\n",
       "      <td>0</td>\n",
       "    </tr>\n",
       "    <tr>\n",
       "      <th>9</th>\n",
       "      <td>GrPpcJke52rUOmgRwMUQGOh5MH7ADI+AbrsXepC2hx8=</td>\n",
       "      <td>40</td>\n",
       "      <td>30</td>\n",
       "      <td>149</td>\n",
       "      <td>149</td>\n",
       "      <td>1</td>\n",
       "      <td>20170120</td>\n",
       "      <td>20170219</td>\n",
       "      <td>0</td>\n",
       "    </tr>\n",
       "  </tbody>\n",
       "</table>\n",
       "</div>"
      ]
     },
     "execution_count": 40,
     "metadata": {},
     "output_type": "execute_result"
    }
   ],
   "source": [
    "transactions.head(10)"
   ]
  },
  {
   "cell_type": "code",
   "execution_count": 41,
   "metadata": {
    "collapsed": true
   },
   "outputs": [
    {
     "data": {
      "text/plain": [
       "41    11526454\n40     2225283\n38     1703590\n39     1466655\n37     1007689\n36      855115\n34      731539\n35      541399\n33      411164\n31      252342\n30      160957\n32      146481\n29      113885\n28       95733\n27       62525\n23       42386\n19       32073\n20       28278\n21       22883\n22       20130\n24       16196\n18       16177\n25       13780\n14       13621\n16       11064\n17        7437\n13        6571\n26        4591\n12        3834\n11        2129\n15        1479\n10        1326\n7         1094\n8          657\n5          474\n6          466\n3          210\n2           52\n4           15\n1           12\nName: payment_method_id, dtype: int64"
      ]
     },
     "execution_count": 41,
     "metadata": {},
     "output_type": "execute_result"
    }
   ],
   "source": [
    "transactions['payment_method_id'].value_counts()"
   ]
  },
  {
   "cell_type": "code",
   "execution_count": 42,
   "metadata": {
    "collapsed": true
   },
   "outputs": [
    {
     "data": {
      "text/plain": [
       "30     18956290\n0        870124\n31       766608\n7        577639\n195      110234\n410       80139\n180       52272\n10        38216\n100       24154\n90        12310\n395       10790\n120       10007\n60         7167\n14         6365\n200        5838\n360        5486\n1          4759\n400        1856\n450        1271\n240        1088\n45         1082\n21          869\n35          825\n70          587\n80          342\n99          339\n365         312\n270         190\n66          175\n110         159\n230         103\n2            67\n3            59\n15           21\n415           1\n425           1\n95            1\nName: payment_plan_days, dtype: int64"
      ]
     },
     "execution_count": 42,
     "metadata": {},
     "output_type": "execute_result"
    }
   ],
   "source": [
    "transactions['payment_plan_days'].value_counts()"
   ]
  },
  {
   "cell_type": "code",
   "execution_count": 43,
   "metadata": {
    "collapsed": true
   },
   "outputs": [
    {
     "data": {
      "text/plain": [
       "149     12536656\n99       4853433\n0        1498544\n129      1144459\n180       682533\n150       382860\n894       109879\n100        80285\n1788       80066\n536        43506\n119        32280\n480        22977\n1599       11463\n477        10847\n35          7410\n799         6264\n300         5828\n120         5821\n1200        5486\n298         5272\n930         5082\n447         4348\n134         3743\n450         1455\n500         1185\n50          1051\n699          915\n1000         750\n124          598\n350          587\n131          374\n105          348\n400          342\n70           250\n143          143\n2000         118\n1            113\n1150         103\n126           99\n596           70\n10            67\n15            50\n210           26\n265           21\n1520          13\n800           11\n30             6\n760            3\n600            3\n1825           2\n44             1\nName: plan_list_price, dtype: int64"
      ]
     },
     "execution_count": 43,
     "metadata": {},
     "output_type": "execute_result"
    }
   ],
   "source": [
    "transactions['plan_list_price'].value_counts()"
   ]
  },
  {
   "cell_type": "code",
   "execution_count": 44,
   "metadata": {
    "collapsed": true
   },
   "outputs": [
    {
     "data": {
      "text/plain": [
       "149     12460832\n99       4855208\n0        1196876\n129      1174670\n180       680058\n150       396210\n119       355083\n894       113452\n1788       83991\n100        80969\n536        44805\n480        23170\n1599       12086\n477        10847\n35          7892\n799         6465\n300         5996\n1200        5526\n298         5272\n930         5121\n120         4948\n134         4807\n447         4375\n450         1501\n500         1211\n50          1056\n699          913\n1000         783\n350          606\n124          598\n131          572\n105          374\n400          351\n70           250\n143          143\n2000         122\n1            113\n1150         105\n127           99\n596           76\n10            67\n15            50\n210           26\n265           21\n1520          13\n800           11\n30             6\n41             5\n760            4\n600            3\n1825           2\n1799           1\n849            1\n1800           1\n45             1\n1802           1\n890            1\nName: actual_amount_paid, dtype: int64"
      ]
     },
     "execution_count": 44,
     "metadata": {},
     "output_type": "execute_result"
    }
   ],
   "source": [
    "transactions['actual_amount_paid'].value_counts()"
   ]
  },
  {
   "cell_type": "code",
   "execution_count": 45,
   "metadata": {
    "collapsed": true
   },
   "outputs": [
    {
     "data": {
      "text/plain": [
       "1    18357950\n0     3189796\nName: is_auto_renew, dtype: int64"
      ]
     },
     "execution_count": 45,
     "metadata": {},
     "output_type": "execute_result"
    }
   ],
   "source": [
    "transactions['is_auto_renew'].value_counts()"
   ]
  },
  {
   "cell_type": "code",
   "execution_count": 46,
   "metadata": {
    "collapsed": true
   },
   "outputs": [
    {
     "data": {
      "text/plain": [
       "0    20690895\n1      856851\nName: is_cancel, dtype: int64"
      ]
     },
     "execution_count": 46,
     "metadata": {},
     "output_type": "execute_result"
    }
   ],
   "source": [
    "transactions[\"is_cancel\"].value_counts()"
   ]
  },
  {
   "cell_type": "markdown",
   "metadata": {},
   "source": [
    "### 通过上面统计我们可以发现：\n",
    "1. 一共21547746条数据，没有缺失数据\n",
    "2. payment_method_id代表用户付款方式，编码为1-41整数，其中41数量最多\n",
    "3. payment_plan_days代表用户计划买会员的天数，30占了绝大多数，最多450天，也有个别天数的个数只有1个，考虑为异常值\n",
    "4. 计划购买的价格和实际付款价格可以一起比较以后和is_cancel字段对比出异常值\n",
    "5. is_cancel字段代表用户是否取消了此次交易，绝大多数用户进行了交易\n",
    "6. is_auto_renew代表用户是否自动续费，发现大多数（85%）选择，考虑为忠实用户\n",
    "7. transaction_date 和 membership_expire_time 是预测用户是否流失的重要数据（但是存在异常值，需要进行清洗）"
   ]
  },
  {
   "cell_type": "markdown",
   "metadata": {},
   "source": [
    "## 3.4 user_log.csv(取前500W条数据分析)"
   ]
  },
  {
   "cell_type": "code",
   "execution_count": 48,
   "metadata": {},
   "outputs": [],
   "source": [
    "user_log1= pd.read_csv(\"G:\\PythonProjects\\KaggleOrOthersJourney\\WSDM-KKBox'sChurnPredictionChallenge\\data/user_log_split_1.csv\")"
   ]
  },
  {
   "cell_type": "code",
   "execution_count": 49,
   "metadata": {},
   "outputs": [
    {
     "data": {
      "text/html": [
       "<div>\n",
       "<style>\n",
       "    .dataframe thead tr:only-child th {\n",
       "        text-align: right;\n",
       "    }\n",
       "\n",
       "    .dataframe thead th {\n",
       "        text-align: left;\n",
       "    }\n",
       "\n",
       "    .dataframe tbody tr th {\n",
       "        vertical-align: top;\n",
       "    }\n",
       "</style>\n",
       "<table border=\"1\" class=\"dataframe\">\n",
       "  <thead>\n",
       "    <tr style=\"text-align: right;\">\n",
       "      <th></th>\n",
       "      <th>Unnamed: 0</th>\n",
       "      <th>msno</th>\n",
       "      <th>date</th>\n",
       "      <th>num_25</th>\n",
       "      <th>num_50</th>\n",
       "      <th>num_75</th>\n",
       "      <th>num_985</th>\n",
       "      <th>num_100</th>\n",
       "      <th>num_unq</th>\n",
       "      <th>total_secs</th>\n",
       "    </tr>\n",
       "  </thead>\n",
       "  <tbody>\n",
       "    <tr>\n",
       "      <th>0</th>\n",
       "      <td>0</td>\n",
       "      <td>rxIP2f2aN0rYNp+toI0Obt/N/FYQX8hcO1fTmmy2h34=</td>\n",
       "      <td>20150513</td>\n",
       "      <td>0</td>\n",
       "      <td>0</td>\n",
       "      <td>0</td>\n",
       "      <td>0</td>\n",
       "      <td>1</td>\n",
       "      <td>1</td>\n",
       "      <td>280.335</td>\n",
       "    </tr>\n",
       "    <tr>\n",
       "      <th>1</th>\n",
       "      <td>1</td>\n",
       "      <td>rxIP2f2aN0rYNp+toI0Obt/N/FYQX8hcO1fTmmy2h34=</td>\n",
       "      <td>20150709</td>\n",
       "      <td>9</td>\n",
       "      <td>1</td>\n",
       "      <td>0</td>\n",
       "      <td>0</td>\n",
       "      <td>7</td>\n",
       "      <td>11</td>\n",
       "      <td>1658.948</td>\n",
       "    </tr>\n",
       "    <tr>\n",
       "      <th>2</th>\n",
       "      <td>2</td>\n",
       "      <td>yxiEWwE9VR5utpUecLxVdQ5B7NysUPfrNtGINaM2zA8=</td>\n",
       "      <td>20150105</td>\n",
       "      <td>3</td>\n",
       "      <td>3</td>\n",
       "      <td>0</td>\n",
       "      <td>0</td>\n",
       "      <td>68</td>\n",
       "      <td>36</td>\n",
       "      <td>17364.956</td>\n",
       "    </tr>\n",
       "    <tr>\n",
       "      <th>3</th>\n",
       "      <td>3</td>\n",
       "      <td>yxiEWwE9VR5utpUecLxVdQ5B7NysUPfrNtGINaM2zA8=</td>\n",
       "      <td>20150306</td>\n",
       "      <td>1</td>\n",
       "      <td>0</td>\n",
       "      <td>1</td>\n",
       "      <td>1</td>\n",
       "      <td>97</td>\n",
       "      <td>27</td>\n",
       "      <td>24667.317</td>\n",
       "    </tr>\n",
       "    <tr>\n",
       "      <th>4</th>\n",
       "      <td>4</td>\n",
       "      <td>yxiEWwE9VR5utpUecLxVdQ5B7NysUPfrNtGINaM2zA8=</td>\n",
       "      <td>20150501</td>\n",
       "      <td>3</td>\n",
       "      <td>0</td>\n",
       "      <td>0</td>\n",
       "      <td>0</td>\n",
       "      <td>38</td>\n",
       "      <td>38</td>\n",
       "      <td>9649.029</td>\n",
       "    </tr>\n",
       "    <tr>\n",
       "      <th>5</th>\n",
       "      <td>5</td>\n",
       "      <td>yxiEWwE9VR5utpUecLxVdQ5B7NysUPfrNtGINaM2zA8=</td>\n",
       "      <td>20150702</td>\n",
       "      <td>4</td>\n",
       "      <td>0</td>\n",
       "      <td>1</td>\n",
       "      <td>1</td>\n",
       "      <td>33</td>\n",
       "      <td>10</td>\n",
       "      <td>10021.520</td>\n",
       "    </tr>\n",
       "    <tr>\n",
       "      <th>6</th>\n",
       "      <td>6</td>\n",
       "      <td>yxiEWwE9VR5utpUecLxVdQ5B7NysUPfrNtGINaM2zA8=</td>\n",
       "      <td>20150830</td>\n",
       "      <td>3</td>\n",
       "      <td>1</td>\n",
       "      <td>0</td>\n",
       "      <td>0</td>\n",
       "      <td>4</td>\n",
       "      <td>7</td>\n",
       "      <td>1119.555</td>\n",
       "    </tr>\n",
       "    <tr>\n",
       "      <th>7</th>\n",
       "      <td>7</td>\n",
       "      <td>yxiEWwE9VR5utpUecLxVdQ5B7NysUPfrNtGINaM2zA8=</td>\n",
       "      <td>20151107</td>\n",
       "      <td>1</td>\n",
       "      <td>0</td>\n",
       "      <td>0</td>\n",
       "      <td>0</td>\n",
       "      <td>4</td>\n",
       "      <td>5</td>\n",
       "      <td>938.022</td>\n",
       "    </tr>\n",
       "    <tr>\n",
       "      <th>8</th>\n",
       "      <td>8</td>\n",
       "      <td>yxiEWwE9VR5utpUecLxVdQ5B7NysUPfrNtGINaM2zA8=</td>\n",
       "      <td>20160110</td>\n",
       "      <td>2</td>\n",
       "      <td>0</td>\n",
       "      <td>1</td>\n",
       "      <td>0</td>\n",
       "      <td>11</td>\n",
       "      <td>6</td>\n",
       "      <td>3004.068</td>\n",
       "    </tr>\n",
       "    <tr>\n",
       "      <th>9</th>\n",
       "      <td>9</td>\n",
       "      <td>yxiEWwE9VR5utpUecLxVdQ5B7NysUPfrNtGINaM2zA8=</td>\n",
       "      <td>20160316</td>\n",
       "      <td>9</td>\n",
       "      <td>3</td>\n",
       "      <td>4</td>\n",
       "      <td>1</td>\n",
       "      <td>67</td>\n",
       "      <td>50</td>\n",
       "      <td>18257.661</td>\n",
       "    </tr>\n",
       "  </tbody>\n",
       "</table>\n",
       "</div>"
      ],
      "text/plain": [
       "<div>\n",
       "<style>\n",
       "    .dataframe thead tr:only-child th {\n",
       "        text-align: right;\n",
       "    }\n",
       "\n",
       "    .dataframe thead th {\n",
       "        text-align: left;\n",
       "    }\n",
       "\n",
       "    .dataframe tbody tr th {\n",
       "        vertical-align: top;\n",
       "    }\n",
       "</style>\n",
       "<table border=\"1\" class=\"dataframe\">\n",
       "  <thead>\n",
       "    <tr style=\"text-align: right;\">\n",
       "      <th></th>\n",
       "      <th>Unnamed: 0</th>\n",
       "      <th>msno</th>\n",
       "      <th>date</th>\n",
       "      <th>num_25</th>\n",
       "      <th>num_50</th>\n",
       "      <th>num_75</th>\n",
       "      <th>num_985</th>\n",
       "      <th>num_100</th>\n",
       "      <th>num_unq</th>\n",
       "      <th>total_secs</th>\n",
       "    </tr>\n",
       "  </thead>\n",
       "  <tbody>\n",
       "    <tr>\n",
       "      <th>0</th>\n",
       "      <td>0</td>\n",
       "      <td>rxIP2f2aN0rYNp+toI0Obt/N/FYQX8hcO1fTmmy2h34=</td>\n",
       "      <td>20150513</td>\n",
       "      <td>0</td>\n",
       "      <td>0</td>\n",
       "      <td>0</td>\n",
       "      <td>0</td>\n",
       "      <td>1</td>\n",
       "      <td>1</td>\n",
       "      <td>280.335</td>\n",
       "    </tr>\n",
       "    <tr>\n",
       "      <th>1</th>\n",
       "      <td>1</td>\n",
       "      <td>rxIP2f2aN0rYNp+toI0Obt/N/FYQX8hcO1fTmmy2h34=</td>\n",
       "      <td>20150709</td>\n",
       "      <td>9</td>\n",
       "      <td>1</td>\n",
       "      <td>0</td>\n",
       "      <td>0</td>\n",
       "      <td>7</td>\n",
       "      <td>11</td>\n",
       "      <td>1658.948</td>\n",
       "    </tr>\n",
       "    <tr>\n",
       "      <th>2</th>\n",
       "      <td>2</td>\n",
       "      <td>yxiEWwE9VR5utpUecLxVdQ5B7NysUPfrNtGINaM2zA8=</td>\n",
       "      <td>20150105</td>\n",
       "      <td>3</td>\n",
       "      <td>3</td>\n",
       "      <td>0</td>\n",
       "      <td>0</td>\n",
       "      <td>68</td>\n",
       "      <td>36</td>\n",
       "      <td>17364.956</td>\n",
       "    </tr>\n",
       "    <tr>\n",
       "      <th>3</th>\n",
       "      <td>3</td>\n",
       "      <td>yxiEWwE9VR5utpUecLxVdQ5B7NysUPfrNtGINaM2zA8=</td>\n",
       "      <td>20150306</td>\n",
       "      <td>1</td>\n",
       "      <td>0</td>\n",
       "      <td>1</td>\n",
       "      <td>1</td>\n",
       "      <td>97</td>\n",
       "      <td>27</td>\n",
       "      <td>24667.317</td>\n",
       "    </tr>\n",
       "    <tr>\n",
       "      <th>4</th>\n",
       "      <td>4</td>\n",
       "      <td>yxiEWwE9VR5utpUecLxVdQ5B7NysUPfrNtGINaM2zA8=</td>\n",
       "      <td>20150501</td>\n",
       "      <td>3</td>\n",
       "      <td>0</td>\n",
       "      <td>0</td>\n",
       "      <td>0</td>\n",
       "      <td>38</td>\n",
       "      <td>38</td>\n",
       "      <td>9649.029</td>\n",
       "    </tr>\n",
       "    <tr>\n",
       "      <th>5</th>\n",
       "      <td>5</td>\n",
       "      <td>yxiEWwE9VR5utpUecLxVdQ5B7NysUPfrNtGINaM2zA8=</td>\n",
       "      <td>20150702</td>\n",
       "      <td>4</td>\n",
       "      <td>0</td>\n",
       "      <td>1</td>\n",
       "      <td>1</td>\n",
       "      <td>33</td>\n",
       "      <td>10</td>\n",
       "      <td>10021.520</td>\n",
       "    </tr>\n",
       "    <tr>\n",
       "      <th>6</th>\n",
       "      <td>6</td>\n",
       "      <td>yxiEWwE9VR5utpUecLxVdQ5B7NysUPfrNtGINaM2zA8=</td>\n",
       "      <td>20150830</td>\n",
       "      <td>3</td>\n",
       "      <td>1</td>\n",
       "      <td>0</td>\n",
       "      <td>0</td>\n",
       "      <td>4</td>\n",
       "      <td>7</td>\n",
       "      <td>1119.555</td>\n",
       "    </tr>\n",
       "    <tr>\n",
       "      <th>7</th>\n",
       "      <td>7</td>\n",
       "      <td>yxiEWwE9VR5utpUecLxVdQ5B7NysUPfrNtGINaM2zA8=</td>\n",
       "      <td>20151107</td>\n",
       "      <td>1</td>\n",
       "      <td>0</td>\n",
       "      <td>0</td>\n",
       "      <td>0</td>\n",
       "      <td>4</td>\n",
       "      <td>5</td>\n",
       "      <td>938.022</td>\n",
       "    </tr>\n",
       "    <tr>\n",
       "      <th>8</th>\n",
       "      <td>8</td>\n",
       "      <td>yxiEWwE9VR5utpUecLxVdQ5B7NysUPfrNtGINaM2zA8=</td>\n",
       "      <td>20160110</td>\n",
       "      <td>2</td>\n",
       "      <td>0</td>\n",
       "      <td>1</td>\n",
       "      <td>0</td>\n",
       "      <td>11</td>\n",
       "      <td>6</td>\n",
       "      <td>3004.068</td>\n",
       "    </tr>\n",
       "    <tr>\n",
       "      <th>9</th>\n",
       "      <td>9</td>\n",
       "      <td>yxiEWwE9VR5utpUecLxVdQ5B7NysUPfrNtGINaM2zA8=</td>\n",
       "      <td>20160316</td>\n",
       "      <td>9</td>\n",
       "      <td>3</td>\n",
       "      <td>4</td>\n",
       "      <td>1</td>\n",
       "      <td>67</td>\n",
       "      <td>50</td>\n",
       "      <td>18257.661</td>\n",
       "    </tr>\n",
       "  </tbody>\n",
       "</table>\n",
       "</div>"
      ]
     },
     "execution_count": 49,
     "metadata": {},
     "output_type": "execute_result"
    }
   ],
   "source": [
    "user_log1.head(10)"
   ]
  },
  {
   "cell_type": "code",
   "execution_count": 50,
   "metadata": {
    "collapsed": true
   },
   "outputs": [
    {
     "data": {
      "text/plain": [
       "Ggc/gTKNdredibcTbefQyg4X+K0xzf+dOT6DZLSz1Pc=    16\n2i3h2MWfP04UC3hz/FDSzRzcyw48aNdShCHtfm/Lr0Y=    16\nbOA0edn9Gwh9s/JPZtpGtCb4DgMRrF43Bd534D5ohr4=    16\nTqzjw9l4PHMd8YZS6xQZ+iZUkPGuGnwJ/hzMdil3vwE=    16\nq7Jqv5rw7xj7z+BXIYtl0THvWq9YWrm9OPYxGmYEw44=    16\n/CVDaFwhM22vyBGpSe2SWjboK3Ev8RjEYJoG4IROptw=    16\nnOL4uZfxlCzlheeKMzB2dvkHAoqhcwiH9DusBVsKYpY=    16\nb+vVKlmj9tC87kCx5WEuoqzYfkJ9lF2VcxZ/xc2n8DI=    16\nVHmfbiayMC4tHiaEdZbc1X9AfDjTVNHTPfaap0jgbL4=    16\nyrSI1R84j6PXO98X/vQCRYReLq0ejQBV4aD8DPTOyD4=    16\nEbLRtRgjBTVWIVZ8o3pN1mGiLx2uFUR9eqHXq3Msjx8=    16\nG2EHv+ytivQf85iCENgqYVNm1TLYw75vRz/O3UG9Wa4=    16\nRsAloWpyqGMxEkrXAF7jrt20YhKdt0JKXkFjcEykd5k=    16\nLKgp9ml68aUaiPDsgQlpQjXau04xoaEkqlbDRw0nkCI=    16\nxLcj11lt7hQVMA27knqRIhPahTL5qZdxinLx1L9HSAc=    16\nr765clYqHI9rz8fHGHsxjNPwDF5BAs/aLtjGmC38ZsE=    16\nMcQUruuNhVyoLRkQLdaNqSv6P3eXBDhvggoogBbBSJ8=    16\n3KEa/SEny/JcEGLpOq6AjU99ZTeiJuNYxZXJilwcsXA=    16\nbrx5SumWTjRLOLtaGzlE9aYfPbD2kBg0YhLb9nSnLCk=    16\nlziNCixECTWIf0FeXvDn3gJZWE9epx+Qb8AEfruzecM=    16\nUz+0hdUiiG9AeeqNgGCGdoJyEFMUPeO3BmXm/D/m3Ak=    16\nwzEk026hebxTJNTkvCMcLnWbUXlOej/f5w+KF7xdKzY=    16\n+WvFCVh/+JZGa2fnhPLGtEad9WD6GZJUkjYbxi4KFnY=    16\nnhwOTXVsBIxzvtsGtsjdVFAoZoaktYouL/AjDAvFL6Q=    16\n3H8PbUH67ULBavY04xBma1whCcD8i/ij+dBdASlXClQ=    16\n7wsc+tHl/t5kX0HWErIGWN+qMxuCirBAwwelZqEdXYE=    16\nUtYfQT7H4NLw7Jq7dWQkGerT+SqUJHYqw/hAoiZk4Es=    16\n3DELMPxJY6hyUwuXlb4BKxKJfNRFIZfaHxi6wT4fn44=    16\nu/ZAVCztZvBsS6EnoOU3pas6Uvuc5R34qtI98C81nMc=    16\nrSEco3Yfq4ZDLndp1aUNuRYHytDeIICUMiyLwBlb5BI=    16\n                                                ..\nvxa0ln+KScQxdhy/3F5AgJhz0CPguHbOpsDTaRYrcRw=     1\nXNfonz5WZYUtx3gkLpvz9H04Fp8voHPZW5BkQCGbg1g=     1\nun1prLHtvDjOzaYAbwySZc1iSbAlN4njlEmgUO4u2ZE=     1\nLmBSqRgh/h0tKu9KuNSEdqyUN0kdnYd/2rG+WLnQDmw=     1\n7YtATTpoPDHttHGj+ybYfkLgvkjcNuIJy2Vgym/sDFQ=     1\n3HsxcqkHEubtl0l2U3U1VJjnYGHpUrsbohxBZQlKMCQ=     1\nENkF7VgV29PVNQdAL3E5WPzwWDODHzeBk2hJHvXsiVg=     1\nXAirjKRrxeeH7DVQM6YAnNhWDMBamKyXCLhWId9e3iQ=     1\n/DJWuHnhA8jEMymWlNj0dE+7vEVRzo0eF78TVuZLOVI=     1\nLOftKI00rmrJ9ie6kLKt5gtLTCZLDA0eG6sh8O2a/Vk=     1\nfEhvGrFGmnLB1mpCnl06AK/DdizxfFp+MTu8quPgmfQ=     1\nzYsV7Bwpz/pIruOeemgH5fNEr96x0J6KgcDKFf+Q0ok=     1\nEZZ8lXUoL/Q14Fbzy5SaL7Fh/WZ7lNmFbkIQGL77S9Y=     1\nnyB+0sMoK1lN1AyEB+eDBi38oS09/vWC8sGk0lUgkgE=     1\n77SEMbC/ee6KDtkMUM6+ofw7V60QujMgwOopY1e+090=     1\nyuG+DCv4yQQa2dEOu75RgTeJOa5RaspxnaWArMRaP8c=     1\niBwSZ3Drh1QmckiQiWmRVMWHnTX4CdHCgShgKCtahic=     1\nm+DPorvwBN8WVa/A/ULBiCUmUkTH4n8P3r2eDg9RkyU=     1\nZqXEf7a/LBF3BPwkREnj4I6uCX3ym+ec5/fKO1wJ+oo=     1\n1mc/kRzGenKYiIrhXMqJQMJavvGZ11qmIFxkvxzErD4=     1\n1SfdiUuR48PQHEPvQ3gpxG9w5g7yOLKA0+3dUcL7ACU=     1\n0jEcd43TlWRAXB8MWrkFxH+WXXw0VBVoRSlprnNp65E=     1\n17/HbNatxvFdWX6ZpRGd/2AyALsAIHUUP9Z0BOdNZUo=     1\nlKVr4bkruZXR1gUCLCBH/wJ47GeNOchbCANH1z0lwVU=     1\namM1OL5xgEzvShYXeuCDKCmuUS7OSMH8HNOpYTHoEv0=     1\nSRL5maGe2mORHeTLeGDFgAC8J8L8ScG0KPXOFnmpUpg=     1\nuEfGLkvEPcg7WCvw7xakZHb46OKyNYOgLDFoi7cYdUY=     1\nlF6RGaVSvIEHuRUu4ofLHxVPJg5uVklm/f7QC0qMKyI=     1\nE39UJE9PBvGNuZM56AO3i9Fxatd5KRA1BQrERifHXoA=     1\nbfU+VjmOoGaAzhBNUsg9tGW55HOoT7Wy61XVaMLRkl8=     1\nName: msno, Length: 1015744, dtype: int64"
      ]
     },
     "execution_count": 50,
     "metadata": {},
     "output_type": "execute_result"
    }
   ],
   "source": [
    "user_log1['msno'].value_counts()"
   ]
  },
  {
   "cell_type": "code",
   "execution_count": 51,
   "metadata": {
    "collapsed": true
   },
   "outputs": [
    {
     "data": {
      "text/plain": [
       "0       1303977\n1        790943\n2        513791\n3        371125\n4        284223\n5        224318\n6        182078\n7        151545\n8        127667\n9        107116\n10        91914\n11        79387\n12        69130\n13        60486\n14        53801\n15        47643\n16        42468\n17        38079\n18        33732\n19        30794\n20        27431\n21        25033\n22        22973\n23        20762\n24        19007\n25        17504\n26        16039\n27        14614\n28        13503\n29        12594\n         ...   \n571           1\n575           1\n577           1\n322           1\n582           1\n587           1\n588           1\n592           1\n593           1\n552           1\n548           1\n546           1\n527           1\n509           1\n512           1\n514           1\n519           1\n520           1\n521           1\n522           1\n528           1\n545           1\n531           1\n533           1\n534           1\n332           1\n538           1\n541           1\n543           1\n2515          1\nName: num_25, Length: 590, dtype: int64"
      ]
     },
     "execution_count": 51,
     "metadata": {},
     "output_type": "execute_result"
    }
   ],
   "source": [
    "user_log1['num_25'].value_counts()"
   ]
  },
  {
   "cell_type": "code",
   "execution_count": 52,
   "metadata": {
    "collapsed": true
   },
   "outputs": [
    {
     "name": "stdout",
     "output_type": "stream",
     "text": [
      "<class 'pandas.core.frame.DataFrame'>\nRangeIndex: 5000000 entries, 0 to 4999999\nData columns (total 10 columns):\nUnnamed: 0    int64\nmsno          object\ndate          int64\nnum_25        int64\nnum_50        int64\nnum_75        int64\nnum_985       int64\nnum_100       int64\nnum_unq       int64\ntotal_secs    float64\ndtypes: float64(1), int64(8), object(1)\nmemory usage: 381.5+ MB\n"
     ]
    }
   ],
   "source": [
    "user_log1.info()"
   ]
  },
  {
   "cell_type": "code",
   "execution_count": 53,
   "metadata": {
    "collapsed": true
   },
   "outputs": [
    {
     "data": {
      "text/plain": [
       "Unnamed: 0    5000000\nmsno          5000000\ndate          5000000\nnum_25        5000000\nnum_50        5000000\nnum_75        5000000\nnum_985       5000000\nnum_100       5000000\nnum_unq       5000000\ntotal_secs    5000000\ndtype: int64"
      ]
     },
     "execution_count": 53,
     "metadata": {},
     "output_type": "execute_result"
    }
   ],
   "source": [
    "user_log1.count()"
   ]
  },
  {
   "cell_type": "code",
   "execution_count": 54,
   "metadata": {},
   "outputs": [
    {
     "data": {
      "text/html": [
       "<div>\n",
       "<style>\n",
       "    .dataframe thead tr:only-child th {\n",
       "        text-align: right;\n",
       "    }\n",
       "\n",
       "    .dataframe thead th {\n",
       "        text-align: left;\n",
       "    }\n",
       "\n",
       "    .dataframe tbody tr th {\n",
       "        vertical-align: top;\n",
       "    }\n",
       "</style>\n",
       "<table border=\"1\" class=\"dataframe\">\n",
       "  <thead>\n",
       "    <tr style=\"text-align: right;\">\n",
       "      <th></th>\n",
       "      <th>Unnamed: 0</th>\n",
       "      <th>date</th>\n",
       "      <th>num_25</th>\n",
       "      <th>num_50</th>\n",
       "      <th>num_75</th>\n",
       "      <th>num_985</th>\n",
       "      <th>num_100</th>\n",
       "      <th>num_unq</th>\n",
       "      <th>total_secs</th>\n",
       "    </tr>\n",
       "  </thead>\n",
       "  <tbody>\n",
       "    <tr>\n",
       "      <th>count</th>\n",
       "      <td>5.000000e+06</td>\n",
       "      <td>5.000000e+06</td>\n",
       "      <td>5.000000e+06</td>\n",
       "      <td>5.000000e+06</td>\n",
       "      <td>5.000000e+06</td>\n",
       "      <td>5.000000e+06</td>\n",
       "      <td>5.000000e+06</td>\n",
       "      <td>5.000000e+06</td>\n",
       "      <td>5.000000e+06</td>\n",
       "    </tr>\n",
       "    <tr>\n",
       "      <th>mean</th>\n",
       "      <td>2.500000e+06</td>\n",
       "      <td>2.015739e+07</td>\n",
       "      <td>6.505548e+00</td>\n",
       "      <td>1.641790e+00</td>\n",
       "      <td>1.016455e+00</td>\n",
       "      <td>1.128660e+00</td>\n",
       "      <td>3.075180e+01</td>\n",
       "      <td>3.011551e+01</td>\n",
       "      <td>-1.510788e+12</td>\n",
       "    </tr>\n",
       "    <tr>\n",
       "      <th>std</th>\n",
       "      <td>1.443376e+06</td>\n",
       "      <td>6.180511e+03</td>\n",
       "      <td>1.413799e+01</td>\n",
       "      <td>4.292380e+00</td>\n",
       "      <td>2.169558e+00</td>\n",
       "      <td>2.998862e+00</td>\n",
       "      <td>4.285198e+01</td>\n",
       "      <td>3.381988e+01</td>\n",
       "      <td>1.181791e+14</td>\n",
       "    </tr>\n",
       "    <tr>\n",
       "      <th>min</th>\n",
       "      <td>0.000000e+00</td>\n",
       "      <td>2.015010e+07</td>\n",
       "      <td>0.000000e+00</td>\n",
       "      <td>0.000000e+00</td>\n",
       "      <td>0.000000e+00</td>\n",
       "      <td>0.000000e+00</td>\n",
       "      <td>0.000000e+00</td>\n",
       "      <td>1.000000e+00</td>\n",
       "      <td>-9.223372e+15</td>\n",
       "    </tr>\n",
       "    <tr>\n",
       "      <th>25%</th>\n",
       "      <td>1.250000e+06</td>\n",
       "      <td>2.015082e+07</td>\n",
       "      <td>0.000000e+00</td>\n",
       "      <td>0.000000e+00</td>\n",
       "      <td>0.000000e+00</td>\n",
       "      <td>0.000000e+00</td>\n",
       "      <td>6.000000e+00</td>\n",
       "      <td>8.000000e+00</td>\n",
       "      <td>1.892287e+03</td>\n",
       "    </tr>\n",
       "    <tr>\n",
       "      <th>50%</th>\n",
       "      <td>2.500000e+06</td>\n",
       "      <td>2.016031e+07</td>\n",
       "      <td>2.000000e+00</td>\n",
       "      <td>1.000000e+00</td>\n",
       "      <td>0.000000e+00</td>\n",
       "      <td>0.000000e+00</td>\n",
       "      <td>1.700000e+01</td>\n",
       "      <td>1.900000e+01</td>\n",
       "      <td>4.628113e+03</td>\n",
       "    </tr>\n",
       "    <tr>\n",
       "      <th>75%</th>\n",
       "      <td>3.749999e+06</td>\n",
       "      <td>2.016091e+07</td>\n",
       "      <td>7.000000e+00</td>\n",
       "      <td>2.000000e+00</td>\n",
       "      <td>1.000000e+00</td>\n",
       "      <td>1.000000e+00</td>\n",
       "      <td>3.800000e+01</td>\n",
       "      <td>4.000000e+01</td>\n",
       "      <td>1.026891e+04</td>\n",
       "    </tr>\n",
       "    <tr>\n",
       "      <th>max</th>\n",
       "      <td>4.999999e+06</td>\n",
       "      <td>2.017023e+07</td>\n",
       "      <td>2.515000e+03</td>\n",
       "      <td>8.620000e+02</td>\n",
       "      <td>4.700000e+02</td>\n",
       "      <td>1.515000e+03</td>\n",
       "      <td>1.946200e+04</td>\n",
       "      <td>2.027000e+03</td>\n",
       "      <td>9.223372e+15</td>\n",
       "    </tr>\n",
       "  </tbody>\n",
       "</table>\n",
       "</div>"
      ],
      "text/plain": [
       "<div>\n",
       "<style>\n",
       "    .dataframe thead tr:only-child th {\n",
       "        text-align: right;\n",
       "    }\n",
       "\n",
       "    .dataframe thead th {\n",
       "        text-align: left;\n",
       "    }\n",
       "\n",
       "    .dataframe tbody tr th {\n",
       "        vertical-align: top;\n",
       "    }\n",
       "</style>\n",
       "<table border=\"1\" class=\"dataframe\">\n",
       "  <thead>\n",
       "    <tr style=\"text-align: right;\">\n",
       "      <th></th>\n",
       "      <th>Unnamed: 0</th>\n",
       "      <th>date</th>\n",
       "      <th>num_25</th>\n",
       "      <th>num_50</th>\n",
       "      <th>num_75</th>\n",
       "      <th>num_985</th>\n",
       "      <th>num_100</th>\n",
       "      <th>num_unq</th>\n",
       "      <th>total_secs</th>\n",
       "    </tr>\n",
       "  </thead>\n",
       "  <tbody>\n",
       "    <tr>\n",
       "      <th>count</th>\n",
       "      <td>5.000000e+06</td>\n",
       "      <td>5.000000e+06</td>\n",
       "      <td>5.000000e+06</td>\n",
       "      <td>5.000000e+06</td>\n",
       "      <td>5.000000e+06</td>\n",
       "      <td>5.000000e+06</td>\n",
       "      <td>5.000000e+06</td>\n",
       "      <td>5.000000e+06</td>\n",
       "      <td>5.000000e+06</td>\n",
       "    </tr>\n",
       "    <tr>\n",
       "      <th>mean</th>\n",
       "      <td>2.500000e+06</td>\n",
       "      <td>2.015739e+07</td>\n",
       "      <td>6.505548e+00</td>\n",
       "      <td>1.641790e+00</td>\n",
       "      <td>1.016455e+00</td>\n",
       "      <td>1.128660e+00</td>\n",
       "      <td>3.075180e+01</td>\n",
       "      <td>3.011551e+01</td>\n",
       "      <td>-1.510788e+12</td>\n",
       "    </tr>\n",
       "    <tr>\n",
       "      <th>std</th>\n",
       "      <td>1.443376e+06</td>\n",
       "      <td>6.180511e+03</td>\n",
       "      <td>1.413799e+01</td>\n",
       "      <td>4.292380e+00</td>\n",
       "      <td>2.169558e+00</td>\n",
       "      <td>2.998862e+00</td>\n",
       "      <td>4.285198e+01</td>\n",
       "      <td>3.381988e+01</td>\n",
       "      <td>1.181791e+14</td>\n",
       "    </tr>\n",
       "    <tr>\n",
       "      <th>min</th>\n",
       "      <td>0.000000e+00</td>\n",
       "      <td>2.015010e+07</td>\n",
       "      <td>0.000000e+00</td>\n",
       "      <td>0.000000e+00</td>\n",
       "      <td>0.000000e+00</td>\n",
       "      <td>0.000000e+00</td>\n",
       "      <td>0.000000e+00</td>\n",
       "      <td>1.000000e+00</td>\n",
       "      <td>-9.223372e+15</td>\n",
       "    </tr>\n",
       "    <tr>\n",
       "      <th>25%</th>\n",
       "      <td>1.250000e+06</td>\n",
       "      <td>2.015082e+07</td>\n",
       "      <td>0.000000e+00</td>\n",
       "      <td>0.000000e+00</td>\n",
       "      <td>0.000000e+00</td>\n",
       "      <td>0.000000e+00</td>\n",
       "      <td>6.000000e+00</td>\n",
       "      <td>8.000000e+00</td>\n",
       "      <td>1.892287e+03</td>\n",
       "    </tr>\n",
       "    <tr>\n",
       "      <th>50%</th>\n",
       "      <td>2.500000e+06</td>\n",
       "      <td>2.016031e+07</td>\n",
       "      <td>2.000000e+00</td>\n",
       "      <td>1.000000e+00</td>\n",
       "      <td>0.000000e+00</td>\n",
       "      <td>0.000000e+00</td>\n",
       "      <td>1.700000e+01</td>\n",
       "      <td>1.900000e+01</td>\n",
       "      <td>4.628113e+03</td>\n",
       "    </tr>\n",
       "    <tr>\n",
       "      <th>75%</th>\n",
       "      <td>3.749999e+06</td>\n",
       "      <td>2.016091e+07</td>\n",
       "      <td>7.000000e+00</td>\n",
       "      <td>2.000000e+00</td>\n",
       "      <td>1.000000e+00</td>\n",
       "      <td>1.000000e+00</td>\n",
       "      <td>3.800000e+01</td>\n",
       "      <td>4.000000e+01</td>\n",
       "      <td>1.026891e+04</td>\n",
       "    </tr>\n",
       "    <tr>\n",
       "      <th>max</th>\n",
       "      <td>4.999999e+06</td>\n",
       "      <td>2.017023e+07</td>\n",
       "      <td>2.515000e+03</td>\n",
       "      <td>8.620000e+02</td>\n",
       "      <td>4.700000e+02</td>\n",
       "      <td>1.515000e+03</td>\n",
       "      <td>1.946200e+04</td>\n",
       "      <td>2.027000e+03</td>\n",
       "      <td>9.223372e+15</td>\n",
       "    </tr>\n",
       "  </tbody>\n",
       "</table>\n",
       "</div>"
      ]
     },
     "execution_count": 54,
     "metadata": {},
     "output_type": "execute_result"
    }
   ],
   "source": [
    "user_log1.describe()"
   ]
  },
  {
   "cell_type": "code",
   "execution_count": 55,
   "metadata": {
    "collapsed": true
   },
   "outputs": [
    {
     "data": {
      "text/plain": [
       "0      2398292\n1      1138083\n2       554561\n3       300844\n4       178667\n5       111636\n6        74110\n7        51566\n8        37246\n9        27436\n10       20851\n11       16060\n12       12628\n13       10344\n14        8328\n15        6958\n16        5807\n17        4846\n18        4065\n19        3564\n20        3123\n21        2729\n22        2488\n23        2123\n24        1854\n25        1635\n26        1476\n27        1290\n28        1177\n29        1106\n        ...   \n270          1\n172          1\n210          1\n211          1\n212          1\n204          1\n214          1\n215          1\n755          1\n203          1\n221          1\n223          1\n194          1\n225          1\n229          1\n231          1\n187          1\n234          1\n238          1\n240          1\n241          1\n186          1\n244          1\n245          1\n247          1\n248          1\n249          1\n252          1\n180          1\n862          1\nName: num_50, Length: 276, dtype: int64"
      ]
     },
     "execution_count": 55,
     "metadata": {},
     "output_type": "execute_result"
    }
   ],
   "source": [
    "user_log1['num_50'].value_counts()"
   ]
  },
  {
   "cell_type": "code",
   "execution_count": 56,
   "metadata": {
    "collapsed": true
   },
   "outputs": [
    {
     "data": {
      "text/plain": [
       "0      2716689\n1      1183618\n2       515550\n3       249611\n4       130562\n5        72376\n6        42898\n7        26081\n8        16635\n9        11250\n10        7922\n11        5693\n12        3909\n13        2955\n14        2336\n15        1766\n16        1383\n17        1105\n18         937\n19         703\n20         662\n21         578\n22         465\n23         383\n24         347\n25         307\n26         263\n27         252\n28         210\n29         199\n        ...   \n235          1\n164          1\n267          1\n285          1\n295          1\n351          1\n166          1\n140          1\n162          1\n161          1\n106          1\n112          1\n113          1\n114          1\n122          1\n124          1\n130          1\n131          1\n132          1\n133          1\n144          1\n146          1\n149          1\n150          1\n152          1\n153          1\n154          1\n156          1\n158          1\n470          1\nName: num_75, Length: 172, dtype: int64"
      ]
     },
     "execution_count": 56,
     "metadata": {},
     "output_type": "execute_result"
    }
   ],
   "source": [
    "user_log1['num_75'].value_counts()"
   ]
  },
  {
   "cell_type": "code",
   "execution_count": 57,
   "metadata": {
    "collapsed": true
   },
   "outputs": [
    {
     "data": {
      "text/plain": [
       "0       2657484\n1       1173724\n2        521045\n3        260393\n4        141492\n5         81775\n6         49591\n7         31758\n8         20888\n9         14306\n10         9848\n11         7216\n12         5410\n13         3974\n14         3162\n15         2415\n16         1945\n17         1542\n18         1341\n19         1119\n20          885\n21          752\n22          672\n23          529\n24          471\n25          413\n26          377\n28          316\n27          315\n29          289\n         ...   \n215           1\n619           1\n1148          1\n1162          1\n216           1\n179           1\n209           1\n206           1\n1265          1\n152           1\n157           1\n162           1\n166           1\n175           1\n177           1\n180           1\n182           1\n183           1\n184           1\n185           1\n186           1\n189           1\n190           1\n191           1\n192           1\n193           1\n194           1\n199           1\n201           1\n1515          1\nName: num_985, Length: 223, dtype: int64"
      ]
     },
     "execution_count": 57,
     "metadata": {},
     "output_type": "execute_result"
    }
   ],
   "source": [
    "user_log1['num_985'].value_counts()"
   ]
  },
  {
   "cell_type": "code",
   "execution_count": 58,
   "metadata": {
    "collapsed": true
   },
   "outputs": [
    {
     "data": {
      "text/plain": [
       "1       227339\n4       189062\n0       183335\n2       182046\n3       179063\n5       166562\n6       152506\n7       152236\n8       144980\n9       134939\n10      129595\n11      124709\n12      117678\n13      110715\n14      106199\n15       99986\n16       95692\n17       90889\n18       85823\n19       81404\n20       78381\n21       74327\n22       70586\n23       66556\n24       64466\n25       61628\n26       58546\n27       55682\n28       53420\n29       51113\n         ...  \n849          1\n845          1\n841          1\n839          1\n873          1\n834          1\n833          1\n831          1\n822          1\n819          1\n817          1\n868          1\n874          1\n921          1\n900          1\n920          1\n914          1\n913          1\n911          1\n910          1\n904          1\n898          1\n875          1\n897          1\n895          1\n893          1\n889          1\n883          1\n880          1\n3830         1\nName: num_100, Length: 971, dtype: int64"
      ]
     },
     "execution_count": 58,
     "metadata": {},
     "output_type": "execute_result"
    }
   ],
   "source": [
    "user_log1['num_100'].value_counts()"
   ]
  },
  {
   "cell_type": "code",
   "execution_count": 59,
   "metadata": {
    "collapsed": true
   },
   "outputs": [
    {
     "data": {
      "text/plain": [
       "1       231057\n2       184550\n4       170766\n3       166541\n5       160130\n6       145713\n7       142087\n8       140381\n9       133094\n10      130399\n11      125826\n12      120433\n13      115121\n14      109633\n15      105111\n16      100326\n17       95964\n18       92228\n20       89030\n19       88330\n21       82355\n22       78264\n23       74387\n24       71572\n25       68970\n26       65825\n27       63199\n28       60351\n29       58602\n30       56906\n         ...  \n666          1\n556          1\n431          1\n658          1\n652          1\n435          1\n501          1\n641          1\n637          1\n633          1\n631          1\n627          1\n626          1\n625          1\n623          1\n444          1\n610          1\n609          1\n607          1\n446          1\n603          1\n599          1\n595          1\n591          1\n455          1\n577          1\n565          1\n462          1\n558          1\n2027         1\nName: num_unq, Length: 626, dtype: int64"
      ]
     },
     "execution_count": 59,
     "metadata": {},
     "output_type": "execute_result"
    }
   ],
   "source": [
    "user_log1['num_unq'].value_counts()"
   ]
  },
  {
   "cell_type": "code",
   "execution_count": 60,
   "metadata": {
    "collapsed": true
   },
   "outputs": [
    {
     "data": {
      "text/plain": [
       "265.561      554\n265.000      427\n287.328      233\n30.041       233\n229.590      231\n215.144      228\n234.000      227\n216.000      223\n229.000      221\n265.590      221\n219.000      209\n215.000      207\n249.888      205\n232.307      198\n258.000      196\n287.000      185\n259.000      180\n245.000      179\n231.000      178\n235.000      177\n265.508      175\n263.000      171\n211.409      171\n210.000      170\n233.000      169\n219.324      169\n227.000      168\n205.000      167\n249.000      165\n238.000      164\n            ... \n30762.197      1\n5668.713       1\n4334.021       1\n15178.157      1\n16564.610      1\n18974.889      1\n3165.026       1\n2933.168       1\n3623.289       1\n8609.903       1\n11451.748      1\n6923.745       1\n34984.297      1\n2890.832       1\n16567.610      1\n458.310        1\n459.690        1\n34984.797      1\n19625.069      1\n15179.782      1\n8606.347       1\n6932.380       1\n2368.569       1\n8609.528       1\n1787.636       1\n15649.335      1\n16564.860      1\n1270.797       1\n6923.495       1\n9769.419       1\nName: total_secs, Length: 4050413, dtype: int64"
      ]
     },
     "execution_count": 60,
     "metadata": {},
     "output_type": "execute_result"
    }
   ],
   "source": [
    "user_log1['total_secs'].value_counts()"
   ]
  },
  {
   "cell_type": "code",
   "execution_count": 61,
   "metadata": {
    "collapsed": true
   },
   "outputs": [
    {
     "data": {
      "text/plain": [
       "6.5055478"
      ]
     },
     "execution_count": 61,
     "metadata": {},
     "output_type": "execute_result"
    }
   ],
   "source": [
    "user_log1['num_25'].mean()"
   ]
  },
  {
   "cell_type": "code",
   "execution_count": 62,
   "metadata": {
    "collapsed": true
   },
   "outputs": [
    {
     "data": {
      "text/plain": [
       "1.6417898"
      ]
     },
     "execution_count": 62,
     "metadata": {},
     "output_type": "execute_result"
    }
   ],
   "source": [
    "user_log1['num_50'].mean()"
   ]
  },
  {
   "cell_type": "code",
   "execution_count": 63,
   "metadata": {
    "collapsed": true
   },
   "outputs": [
    {
     "data": {
      "text/plain": [
       "1.016455"
      ]
     },
     "execution_count": 63,
     "metadata": {},
     "output_type": "execute_result"
    }
   ],
   "source": [
    "user_log1['num_75'].mean()"
   ]
  },
  {
   "cell_type": "code",
   "execution_count": 64,
   "metadata": {
    "collapsed": true
   },
   "outputs": [
    {
     "data": {
      "text/plain": [
       "1.12866"
      ]
     },
     "execution_count": 64,
     "metadata": {},
     "output_type": "execute_result"
    }
   ],
   "source": [
    "user_log1['num_985'].mean()"
   ]
  },
  {
   "cell_type": "code",
   "execution_count": 65,
   "metadata": {
    "collapsed": true
   },
   "outputs": [
    {
     "data": {
      "text/plain": [
       "30.751797"
      ]
     },
     "execution_count": 65,
     "metadata": {},
     "output_type": "execute_result"
    }
   ],
   "source": [
    "user_log1['num_100'].mean()"
   ]
  },
  {
   "cell_type": "code",
   "execution_count": 66,
   "metadata": {
    "collapsed": true
   },
   "outputs": [
    {
     "data": {
      "text/plain": [
       "30.115508"
      ]
     },
     "execution_count": 66,
     "metadata": {},
     "output_type": "execute_result"
    }
   ],
   "source": [
    "user_log1['num_unq'].mean()"
   ]
  },
  {
   "cell_type": "code",
   "execution_count": 67,
   "metadata": {
    "collapsed": true
   },
   "outputs": [
    {
     "data": {
      "text/plain": [
       "-1510788331458.5325"
      ]
     },
     "execution_count": 67,
     "metadata": {},
     "output_type": "execute_result"
    }
   ],
   "source": [
    "user_log1['total_secs'].mean()"
   ]
  },
  {
   "cell_type": "code",
   "execution_count": 71,
   "metadata": {
    "collapsed": true
   },
   "outputs": [
    {
     "data": {
      "text/plain": [
       "4497      -9.223372e+15\n5730      -9.223372e+15\n11600     -9.223372e+15\n11750     -9.223372e+15\n12969     -9.223372e+15\n13894     -9.223372e+15\n23092     -9.223372e+15\n40018     -9.223372e+15\n42097     -9.223372e+15\n42552     -9.223372e+15\n48791     -9.223372e+15\n56747     -9.223372e+15\n58867     -9.223372e+15\n59009     -9.223372e+15\n82681     -9.223372e+15\n83785     -9.223372e+15\n86968     -9.223372e+15\n87341     -9.223372e+15\n96079     -9.223372e+15\n99728     -9.223372e+15\n103915    -9.223372e+15\n125214    -9.223372e+15\n134092    -9.223372e+15\n137327    -9.223372e+15\n139484    -9.223372e+15\n145054    -9.223372e+15\n146364    -9.223372e+15\n156848    -9.223372e+15\n159626    -9.223372e+15\n161246    -9.223372e+15\n               ...     \n4868025   -9.223372e+15\n4877040   -9.223372e+15\n4877718   -9.223372e+15\n4883460   -9.223372e+15\n4891875   -9.223372e+15\n4896192   -9.223372e+15\n4898024   -9.223372e+15\n4904866   -9.223372e+15\n4909312   -9.223372e+15\n4917251   -9.223372e+15\n4923670   -9.223372e+15\n4923992   -9.223372e+15\n4925120   -9.223372e+15\n4930136   -9.223372e+15\n4935322   -9.223372e+15\n4947934   -9.223372e+15\n4954424   -9.223372e+15\n4956998   -9.223372e+15\n4959863   -9.223372e+15\n4960772   -9.223372e+15\n4965569   -9.223372e+15\n4965900   -9.223372e+15\n4966421   -9.223372e+15\n4966557   -9.223372e+15\n4967474   -9.223372e+15\n4971838   -9.223372e+15\n4984416   -9.223372e+15\n4986625   -9.223372e+15\n4995622   -9.223372e+15\n4997475   -9.223372e+15\nName: total_secs, Length: 820, dtype: float64"
      ]
     },
     "execution_count": 71,
     "metadata": {},
     "output_type": "execute_result"
    }
   ],
   "source": [
    "user_log1[user_log1['total_secs'] < 0]['total_secs']"
   ]
  },
  {
   "cell_type": "markdown",
   "metadata": {},
   "source": [
    "### 通过统计发现：\n",
    "1. 用户的行为数据有的存在多条，有的存在一条，肯定也有用户不存在（需要比对，没有任何行为的用户是流失潜在用户）\n",
    "2. 用户听歌时长(秒)存在负值，需要清洗\n",
    "3. 用户听某首歌时间占歌曲总时间区间分别为[<25%, 25% - 50%, 50% - 70%, 70% - 98.5%, >98.5%]，每个段中位数为1-2之间，除了num_100的为17\n",
    "4. 日志时间段为2015-01 ~ 2017-02\n",
    "5. num_unq代表了那天用户播放了多少不同的歌，中位数为30"
   ]
  },
  {
   "cell_type": "markdown",
   "metadata": {},
   "source": [
    "### 3.5 sample_submission_zero.csv"
   ]
  },
  {
   "cell_type": "code",
   "execution_count": 72,
   "metadata": {},
   "outputs": [],
   "source": [
    "submission_data = pd.read_csv(\"G:\\PythonProjects\\KaggleOrOthersJourney\\WSDM-KKBox'sChurnPredictionChallenge\\data\\sample_submission_zero.csv\")"
   ]
  },
  {
   "cell_type": "code",
   "execution_count": 77,
   "metadata": {},
   "outputs": [
    {
     "data": {
      "text/html": [
       "<div>\n",
       "<style>\n",
       "    .dataframe thead tr:only-child th {\n",
       "        text-align: right;\n",
       "    }\n",
       "\n",
       "    .dataframe thead th {\n",
       "        text-align: left;\n",
       "    }\n",
       "\n",
       "    .dataframe tbody tr th {\n",
       "        vertical-align: top;\n",
       "    }\n",
       "</style>\n",
       "<table border=\"1\" class=\"dataframe\">\n",
       "  <thead>\n",
       "    <tr style=\"text-align: right;\">\n",
       "      <th></th>\n",
       "      <th>is_churn</th>\n",
       "    </tr>\n",
       "  </thead>\n",
       "  <tbody>\n",
       "    <tr>\n",
       "      <th>count</th>\n",
       "      <td>970960.0</td>\n",
       "    </tr>\n",
       "    <tr>\n",
       "      <th>mean</th>\n",
       "      <td>0.0</td>\n",
       "    </tr>\n",
       "    <tr>\n",
       "      <th>std</th>\n",
       "      <td>0.0</td>\n",
       "    </tr>\n",
       "    <tr>\n",
       "      <th>min</th>\n",
       "      <td>0.0</td>\n",
       "    </tr>\n",
       "    <tr>\n",
       "      <th>25%</th>\n",
       "      <td>0.0</td>\n",
       "    </tr>\n",
       "    <tr>\n",
       "      <th>50%</th>\n",
       "      <td>0.0</td>\n",
       "    </tr>\n",
       "    <tr>\n",
       "      <th>75%</th>\n",
       "      <td>0.0</td>\n",
       "    </tr>\n",
       "    <tr>\n",
       "      <th>max</th>\n",
       "      <td>0.0</td>\n",
       "    </tr>\n",
       "  </tbody>\n",
       "</table>\n",
       "</div>"
      ],
      "text/plain": [
       "<div>\n",
       "<style>\n",
       "    .dataframe thead tr:only-child th {\n",
       "        text-align: right;\n",
       "    }\n",
       "\n",
       "    .dataframe thead th {\n",
       "        text-align: left;\n",
       "    }\n",
       "\n",
       "    .dataframe tbody tr th {\n",
       "        vertical-align: top;\n",
       "    }\n",
       "</style>\n",
       "<table border=\"1\" class=\"dataframe\">\n",
       "  <thead>\n",
       "    <tr style=\"text-align: right;\">\n",
       "      <th></th>\n",
       "      <th>is_churn</th>\n",
       "    </tr>\n",
       "  </thead>\n",
       "  <tbody>\n",
       "    <tr>\n",
       "      <th>count</th>\n",
       "      <td>970960.0</td>\n",
       "    </tr>\n",
       "    <tr>\n",
       "      <th>mean</th>\n",
       "      <td>0.0</td>\n",
       "    </tr>\n",
       "    <tr>\n",
       "      <th>std</th>\n",
       "      <td>0.0</td>\n",
       "    </tr>\n",
       "    <tr>\n",
       "      <th>min</th>\n",
       "      <td>0.0</td>\n",
       "    </tr>\n",
       "    <tr>\n",
       "      <th>25%</th>\n",
       "      <td>0.0</td>\n",
       "    </tr>\n",
       "    <tr>\n",
       "      <th>50%</th>\n",
       "      <td>0.0</td>\n",
       "    </tr>\n",
       "    <tr>\n",
       "      <th>75%</th>\n",
       "      <td>0.0</td>\n",
       "    </tr>\n",
       "    <tr>\n",
       "      <th>max</th>\n",
       "      <td>0.0</td>\n",
       "    </tr>\n",
       "  </tbody>\n",
       "</table>\n",
       "</div>"
      ]
     },
     "execution_count": 77,
     "metadata": {},
     "output_type": "execute_result"
    }
   ],
   "source": [
    "submission_data.describe()"
   ]
  },
  {
   "cell_type": "markdown",
   "metadata": {},
   "source": [
    "## 4. 特征可视化"
   ]
  },
  {
   "cell_type": "code",
   "execution_count": 72,
   "metadata": {},
   "outputs": [],
   "source": []
  },
  {
   "cell_type": "code",
   "execution_count": 72,
   "metadata": {},
   "outputs": [],
   "source": []
  },
  {
   "cell_type": "code",
   "execution_count": 72,
   "metadata": {},
   "outputs": [],
   "source": [
    "## 4.缺失值\n",
    "除了用户的性别，其他没有缺失值"
   ]
  },
  {
   "cell_type": "code",
   "execution_count": 72,
   "metadata": {},
   "outputs": [],
   "source": []
  },
  {
   "cell_type": "code",
   "execution_count": 72,
   "metadata": {},
   "outputs": [],
   "source": []
  },
  {
   "cell_type": "code",
   "execution_count": 72,
   "metadata": {},
   "outputs": [],
   "source": []
  },
  {
   "cell_type": "code",
   "execution_count": 72,
   "metadata": {},
   "outputs": [],
   "source": []
  },
  {
   "cell_type": "code",
   "execution_count": 72,
   "metadata": {},
   "outputs": [],
   "source": []
  },
  {
   "cell_type": "code",
   "execution_count": 72,
   "metadata": {},
   "outputs": [],
   "source": []
  },
  {
   "cell_type": "code",
   "execution_count": 72,
   "metadata": {},
   "outputs": [],
   "source": []
  },
  {
   "cell_type": "code",
   "execution_count": 72,
   "metadata": {},
   "outputs": [],
   "source": []
  },
  {
   "cell_type": "code",
   "execution_count": 72,
   "metadata": {},
   "outputs": [],
   "source": []
  },
  {
   "cell_type": "code",
   "execution_count": 72,
   "metadata": {},
   "outputs": [],
   "source": []
  },
  {
   "cell_type": "code",
   "execution_count": 72,
   "metadata": {},
   "outputs": [],
   "source": []
  },
  {
   "cell_type": "code",
   "execution_count": null,
   "metadata": {},
   "outputs": [],
   "source": []
  }
 ],
 "metadata": {
  "kernelspec": {
   "display_name": "Python 2",
   "language": "python",
   "name": "python2"
  },
  "language_info": {
   "codemirror_mode": {
    "name": "ipython",
    "version": 2
   },
   "file_extension": ".py",
   "mimetype": "text/x-python",
   "name": "python",
   "nbconvert_exporter": "python",
   "pygments_lexer": "ipython2",
   "version": "2.7.6"
  }
 },
 "nbformat": 4,
 "nbformat_minor": 0
}
